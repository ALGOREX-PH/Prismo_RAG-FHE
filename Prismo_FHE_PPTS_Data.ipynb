{
  "nbformat": 4,
  "nbformat_minor": 0,
  "metadata": {
    "colab": {
      "provenance": []
    },
    "kernelspec": {
      "name": "python3",
      "display_name": "Python 3"
    },
    "language_info": {
      "name": "python"
    }
  },
  "cells": [
    {
      "cell_type": "code",
      "execution_count": 1,
      "metadata": {
        "colab": {
          "base_uri": "https://localhost:8080/"
        },
        "id": "kTDv9eY_s2Tm",
        "outputId": "f7502a75-1f27-4684-ff64-c76b3de5c81f"
      },
      "outputs": [
        {
          "output_type": "stream",
          "name": "stdout",
          "text": [
            "Collecting Pyfhel\n",
            "  Downloading Pyfhel-3.4.2.tar.gz (1.0 MB)\n",
            "\u001b[?25l     \u001b[90m━━━━━━━━━━━━━━━━━━━━━━━━━━━━━━━━━━━━━━━━\u001b[0m \u001b[32m0.0/1.0 MB\u001b[0m \u001b[31m?\u001b[0m eta \u001b[36m-:--:--\u001b[0m\r\u001b[2K     \u001b[91m━━━━━━━━━━━━━━━━━━\u001b[0m\u001b[90m╺\u001b[0m\u001b[90m━━━━━━━━━━━━━━━━━━━━━\u001b[0m \u001b[32m0.5/1.0 MB\u001b[0m \u001b[31m14.9 MB/s\u001b[0m eta \u001b[36m0:00:01\u001b[0m\r\u001b[2K     \u001b[91m━━━━━━━━━━━━━━━━━━━━━━━━━━━━━━━━━━━━━━━\u001b[0m\u001b[91m╸\u001b[0m \u001b[32m1.0/1.0 MB\u001b[0m \u001b[31m21.9 MB/s\u001b[0m eta \u001b[36m0:00:01\u001b[0m\r\u001b[2K     \u001b[90m━━━━━━━━━━━━━━━━━━━━━━━━━━━━━━━━━━━━━━━━\u001b[0m \u001b[32m1.0/1.0 MB\u001b[0m \u001b[31m13.8 MB/s\u001b[0m eta \u001b[36m0:00:00\u001b[0m\n",
            "\u001b[?25h  Installing build dependencies ... \u001b[?25l\u001b[?25hdone\n",
            "  Getting requirements to build wheel ... \u001b[?25l\u001b[?25hdone\n",
            "  Preparing metadata (pyproject.toml) ... \u001b[?25l\u001b[?25hdone\n",
            "Requirement already satisfied: numpy>=1.21 in /usr/local/lib/python3.10/dist-packages (from Pyfhel) (1.26.4)\n",
            "Building wheels for collected packages: Pyfhel\n",
            "  Building wheel for Pyfhel (pyproject.toml) ... \u001b[?25l\u001b[?25hdone\n",
            "  Created wheel for Pyfhel: filename=Pyfhel-3.4.2-cp310-cp310-linux_x86_64.whl size=8500172 sha256=d4e2ff6dc8a51022accb92e7753d44853c2df6b02c749c67826f80dea0f69449\n",
            "  Stored in directory: /root/.cache/pip/wheels/74/7b/34/876b6d79c02f65e68e4e6f262735c2347cf77581ac50ca470d\n",
            "Successfully built Pyfhel\n",
            "Installing collected packages: Pyfhel\n",
            "Successfully installed Pyfhel-3.4.2\n"
          ]
        }
      ],
      "source": [
        "!pip install Pyfhel"
      ]
    },
    {
      "cell_type": "markdown",
      "source": [
        "# Import Packages"
      ],
      "metadata": {
        "id": "H6Pnxkoks5AI"
      }
    },
    {
      "cell_type": "code",
      "source": [
        "from Pyfhel import Pyfhel, PyPtxt, PyCtxt\n",
        "import pickle\n",
        "import numpy as np\n",
        "import pandas as pd"
      ],
      "metadata": {
        "id": "dlXzYp6Ws4Pu"
      },
      "execution_count": 2,
      "outputs": []
    },
    {
      "cell_type": "code",
      "source": [
        "HE = Pyfhel()\n",
        "HE.contextGen(scheme='BFV', n=2**14, t_bits=20)\n",
        "HE.keyGen()"
      ],
      "metadata": {
        "id": "TGivhGfns7x7"
      },
      "execution_count": 3,
      "outputs": []
    },
    {
      "cell_type": "code",
      "source": [
        "print(HE)"
      ],
      "metadata": {
        "id": "XjwKtuP4s8t7"
      },
      "execution_count": null,
      "outputs": []
    },
    {
      "cell_type": "code",
      "source": [
        "with open(\"presentation.pptx\", \"rb\") as ppt_file:\n",
        "    ppt_content = ppt_file.read()\n",
        "\n",
        "serialized_data = pickle.dumps(ppt_content)  # Store serialized data in a variable"
      ],
      "metadata": {
        "id": "d5JuqPLds9-K"
      },
      "execution_count": null,
      "outputs": []
    },
    {
      "cell_type": "code",
      "source": [
        "print(serialized_data)"
      ],
      "metadata": {
        "id": "hUWEEkAfzNAA"
      },
      "execution_count": null,
      "outputs": []
    },
    {
      "cell_type": "code",
      "source": [
        "PPT = serialized_data.hex()"
      ],
      "metadata": {
        "id": "BC0wY4rizQ5i"
      },
      "execution_count": null,
      "outputs": []
    },
    {
      "cell_type": "code",
      "source": [
        "print(PPT)"
      ],
      "metadata": {
        "id": "isEM3P9gzvhP"
      },
      "execution_count": null,
      "outputs": []
    },
    {
      "cell_type": "code",
      "source": [
        "encoded_text = [ord(char) for char in PPT]"
      ],
      "metadata": {
        "id": "VmMBUka0zxkj"
      },
      "execution_count": null,
      "outputs": []
    },
    {
      "cell_type": "code",
      "source": [
        "cipher_text = [HE.encryptInt(np.array([num], dtype=np.int64)) for num in encoded_text]\n",
        "print(f\"Cipher Text: {[str(ct) for ct in cipher_text]}\")\n",
        "\n",
        "decrypted_text = [HE.decryptInt(ct)[0] for ct in cipher_text]\n",
        "decoded_text = ''.join([chr(num) for num in decrypted_text])\n",
        "\n",
        "print(f\"Original Text: {PPT}\")\n",
        "print(f\"Decoded Text after encryption/decryption: {decoded_text}\")"
      ],
      "metadata": {
        "id": "Lm5-AbVzzz9K"
      },
      "execution_count": null,
      "outputs": []
    },
    {
      "cell_type": "code",
      "source": [
        "decoded_bytes = bytes.fromhex(decoded_text)"
      ],
      "metadata": {
        "id": "vsfwp41fz4B2"
      },
      "execution_count": null,
      "outputs": []
    },
    {
      "cell_type": "code",
      "source": [
        "decrypted_ppt = pickle.loads(decoded_bytes)"
      ],
      "metadata": {
        "id": "OR9nfDLZz5lU"
      },
      "execution_count": null,
      "outputs": []
    },
    {
      "cell_type": "code",
      "source": [
        "with open(\"recovered_presentation.pptx\", \"wb\") as ppt_file:\n",
        "    ppt_file.write(decrypted_ppt)"
      ],
      "metadata": {
        "id": "ZRZpwsT2z_Wa"
      },
      "execution_count": null,
      "outputs": []
    }
  ]
}