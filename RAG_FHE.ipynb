{
  "cells": [
    {
      "cell_type": "code",
      "execution_count": 1,
      "metadata": {
        "colab": {
          "base_uri": "https://localhost:8080/"
        },
        "id": "MaLyddHyViYn",
        "outputId": "0c9b52d3-b76b-4db9-9d6c-34449a80ffe4"
      },
      "outputs": [
        {
          "name": "stdout",
          "output_type": "stream",
          "text": [
            "Collecting Pyfhel\n",
            "  Downloading Pyfhel-3.4.2.tar.gz (1.0 MB)\n",
            "\u001b[?25l     \u001b[90m━━━━━━━━━━━━━━━━━━━━━━━━━━━━━━━━━━━━━━━━\u001b[0m \u001b[32m0.0/1.0 MB\u001b[0m \u001b[31m?\u001b[0m eta \u001b[36m-:--:--\u001b[0m\r\u001b[2K     \u001b[91m━━━━━\u001b[0m\u001b[91m╸\u001b[0m\u001b[90m━━━━━━━━━━━━━━━━━━━━━━━━━━━━━━━━━━\u001b[0m \u001b[32m0.2/1.0 MB\u001b[0m \u001b[31m4.3 MB/s\u001b[0m eta \u001b[36m0:00:01\u001b[0m\r\u001b[2K     \u001b[91m━━━━━━━━━━━━━━━━━━━━━━━━━━━━━━━━━━━━━━━\u001b[0m\u001b[91m╸\u001b[0m \u001b[32m1.0/1.0 MB\u001b[0m \u001b[31m16.0 MB/s\u001b[0m eta \u001b[36m0:00:01\u001b[0m\r\u001b[2K     \u001b[90m━━━━━━━━━━━━━━━━━━━━━━━━━━━━━━━━━━━━━━━━\u001b[0m \u001b[32m1.0/1.0 MB\u001b[0m \u001b[31m12.2 MB/s\u001b[0m eta \u001b[36m0:00:00\u001b[0m\n",
            "\u001b[?25h  Installing build dependencies ... \u001b[?25l\u001b[?25hdone\n",
            "  Getting requirements to build wheel ... \u001b[?25l\u001b[?25hdone\n",
            "  Preparing metadata (pyproject.toml) ... \u001b[?25l\u001b[?25hdone\n",
            "Requirement already satisfied: numpy>=1.21 in /usr/local/lib/python3.10/dist-packages (from Pyfhel) (1.26.4)\n",
            "Building wheels for collected packages: Pyfhel\n",
            "  Building wheel for Pyfhel (pyproject.toml) ... \u001b[?25l\u001b[?25hdone\n",
            "  Created wheel for Pyfhel: filename=Pyfhel-3.4.2-cp310-cp310-linux_x86_64.whl size=9679263 sha256=996ed567ceb71074b3f34c2ba7fb10ce84fef79069cbae3a8cc3accefc2b3e2f\n",
            "  Stored in directory: /root/.cache/pip/wheels/74/7b/34/876b6d79c02f65e68e4e6f262735c2347cf77581ac50ca470d\n",
            "Successfully built Pyfhel\n",
            "Installing collected packages: Pyfhel\n",
            "Successfully installed Pyfhel-3.4.2\n",
            "Collecting openai==0.28.1\n",
            "  Downloading openai-0.28.1-py3-none-any.whl.metadata (11 kB)\n",
            "Requirement already satisfied: requests>=2.20 in /usr/local/lib/python3.10/dist-packages (from openai==0.28.1) (2.32.3)\n",
            "Requirement already satisfied: tqdm in /usr/local/lib/python3.10/dist-packages (from openai==0.28.1) (4.66.5)\n",
            "Requirement already satisfied: aiohttp in /usr/local/lib/python3.10/dist-packages (from openai==0.28.1) (3.10.10)\n",
            "Requirement already satisfied: charset-normalizer<4,>=2 in /usr/local/lib/python3.10/dist-packages (from requests>=2.20->openai==0.28.1) (3.4.0)\n",
            "Requirement already satisfied: idna<4,>=2.5 in /usr/local/lib/python3.10/dist-packages (from requests>=2.20->openai==0.28.1) (3.10)\n",
            "Requirement already satisfied: urllib3<3,>=1.21.1 in /usr/local/lib/python3.10/dist-packages (from requests>=2.20->openai==0.28.1) (2.2.3)\n",
            "Requirement already satisfied: certifi>=2017.4.17 in /usr/local/lib/python3.10/dist-packages (from requests>=2.20->openai==0.28.1) (2024.8.30)\n",
            "Requirement already satisfied: aiohappyeyeballs>=2.3.0 in /usr/local/lib/python3.10/dist-packages (from aiohttp->openai==0.28.1) (2.4.3)\n",
            "Requirement already satisfied: aiosignal>=1.1.2 in /usr/local/lib/python3.10/dist-packages (from aiohttp->openai==0.28.1) (1.3.1)\n",
            "Requirement already satisfied: attrs>=17.3.0 in /usr/local/lib/python3.10/dist-packages (from aiohttp->openai==0.28.1) (24.2.0)\n",
            "Requirement already satisfied: frozenlist>=1.1.1 in /usr/local/lib/python3.10/dist-packages (from aiohttp->openai==0.28.1) (1.5.0)\n",
            "Requirement already satisfied: multidict<7.0,>=4.5 in /usr/local/lib/python3.10/dist-packages (from aiohttp->openai==0.28.1) (6.1.0)\n",
            "Requirement already satisfied: yarl<2.0,>=1.12.0 in /usr/local/lib/python3.10/dist-packages (from aiohttp->openai==0.28.1) (1.16.0)\n",
            "Requirement already satisfied: async-timeout<5.0,>=4.0 in /usr/local/lib/python3.10/dist-packages (from aiohttp->openai==0.28.1) (4.0.3)\n",
            "Requirement already satisfied: typing-extensions>=4.1.0 in /usr/local/lib/python3.10/dist-packages (from multidict<7.0,>=4.5->aiohttp->openai==0.28.1) (4.12.2)\n",
            "Requirement already satisfied: propcache>=0.2.0 in /usr/local/lib/python3.10/dist-packages (from yarl<2.0,>=1.12.0->aiohttp->openai==0.28.1) (0.2.0)\n",
            "Downloading openai-0.28.1-py3-none-any.whl (76 kB)\n",
            "\u001b[2K   \u001b[90m━━━━━━━━━━━━━━━━━━━━━━━━━━━━━━━━━━━━━━━━\u001b[0m \u001b[32m77.0/77.0 kB\u001b[0m \u001b[31m1.7 MB/s\u001b[0m eta \u001b[36m0:00:00\u001b[0m\n",
            "\u001b[?25hInstalling collected packages: openai\n",
            "Successfully installed openai-0.28.1\n",
            "Collecting tiktoken==0.6.0\n",
            "  Downloading tiktoken-0.6.0-cp310-cp310-manylinux_2_17_x86_64.manylinux2014_x86_64.whl.metadata (6.6 kB)\n",
            "Requirement already satisfied: regex>=2022.1.18 in /usr/local/lib/python3.10/dist-packages (from tiktoken==0.6.0) (2024.9.11)\n",
            "Requirement already satisfied: requests>=2.26.0 in /usr/local/lib/python3.10/dist-packages (from tiktoken==0.6.0) (2.32.3)\n",
            "Requirement already satisfied: charset-normalizer<4,>=2 in /usr/local/lib/python3.10/dist-packages (from requests>=2.26.0->tiktoken==0.6.0) (3.4.0)\n",
            "Requirement already satisfied: idna<4,>=2.5 in /usr/local/lib/python3.10/dist-packages (from requests>=2.26.0->tiktoken==0.6.0) (3.10)\n",
            "Requirement already satisfied: urllib3<3,>=1.21.1 in /usr/local/lib/python3.10/dist-packages (from requests>=2.26.0->tiktoken==0.6.0) (2.2.3)\n",
            "Requirement already satisfied: certifi>=2017.4.17 in /usr/local/lib/python3.10/dist-packages (from requests>=2.26.0->tiktoken==0.6.0) (2024.8.30)\n",
            "Downloading tiktoken-0.6.0-cp310-cp310-manylinux_2_17_x86_64.manylinux2014_x86_64.whl (1.8 MB)\n",
            "\u001b[2K   \u001b[90m━━━━━━━━━━━━━━━━━━━━━━━━━━━━━━━━━━━━━━━━\u001b[0m \u001b[32m1.8/1.8 MB\u001b[0m \u001b[31m16.3 MB/s\u001b[0m eta \u001b[36m0:00:00\u001b[0m\n",
            "\u001b[?25hInstalling collected packages: tiktoken\n",
            "Successfully installed tiktoken-0.6.0\n",
            "Collecting langchain==0.1.20\n",
            "  Downloading langchain-0.1.20-py3-none-any.whl.metadata (13 kB)\n",
            "Requirement already satisfied: PyYAML>=5.3 in /usr/local/lib/python3.10/dist-packages (from langchain==0.1.20) (6.0.2)\n",
            "Requirement already satisfied: SQLAlchemy<3,>=1.4 in /usr/local/lib/python3.10/dist-packages (from langchain==0.1.20) (2.0.36)\n",
            "Requirement already satisfied: aiohttp<4.0.0,>=3.8.3 in /usr/local/lib/python3.10/dist-packages (from langchain==0.1.20) (3.10.10)\n",
            "Requirement already satisfied: async-timeout<5.0.0,>=4.0.0 in /usr/local/lib/python3.10/dist-packages (from langchain==0.1.20) (4.0.3)\n",
            "Collecting dataclasses-json<0.7,>=0.5.7 (from langchain==0.1.20)\n",
            "  Downloading dataclasses_json-0.6.7-py3-none-any.whl.metadata (25 kB)\n",
            "Collecting langchain-community<0.1,>=0.0.38 (from langchain==0.1.20)\n",
            "  Downloading langchain_community-0.0.38-py3-none-any.whl.metadata (8.7 kB)\n",
            "Collecting langchain-core<0.2.0,>=0.1.52 (from langchain==0.1.20)\n",
            "  Downloading langchain_core-0.1.52-py3-none-any.whl.metadata (5.9 kB)\n",
            "Collecting langchain-text-splitters<0.1,>=0.0.1 (from langchain==0.1.20)\n",
            "  Downloading langchain_text_splitters-0.0.2-py3-none-any.whl.metadata (2.2 kB)\n",
            "Collecting langsmith<0.2.0,>=0.1.17 (from langchain==0.1.20)\n",
            "  Downloading langsmith-0.1.137-py3-none-any.whl.metadata (13 kB)\n",
            "Requirement already satisfied: numpy<2,>=1 in /usr/local/lib/python3.10/dist-packages (from langchain==0.1.20) (1.26.4)\n",
            "Requirement already satisfied: pydantic<3,>=1 in /usr/local/lib/python3.10/dist-packages (from langchain==0.1.20) (2.9.2)\n",
            "Requirement already satisfied: requests<3,>=2 in /usr/local/lib/python3.10/dist-packages (from langchain==0.1.20) (2.32.3)\n",
            "Collecting tenacity<9.0.0,>=8.1.0 (from langchain==0.1.20)\n",
            "  Downloading tenacity-8.5.0-py3-none-any.whl.metadata (1.2 kB)\n",
            "Requirement already satisfied: aiohappyeyeballs>=2.3.0 in /usr/local/lib/python3.10/dist-packages (from aiohttp<4.0.0,>=3.8.3->langchain==0.1.20) (2.4.3)\n",
            "Requirement already satisfied: aiosignal>=1.1.2 in /usr/local/lib/python3.10/dist-packages (from aiohttp<4.0.0,>=3.8.3->langchain==0.1.20) (1.3.1)\n",
            "Requirement already satisfied: attrs>=17.3.0 in /usr/local/lib/python3.10/dist-packages (from aiohttp<4.0.0,>=3.8.3->langchain==0.1.20) (24.2.0)\n",
            "Requirement already satisfied: frozenlist>=1.1.1 in /usr/local/lib/python3.10/dist-packages (from aiohttp<4.0.0,>=3.8.3->langchain==0.1.20) (1.5.0)\n",
            "Requirement already satisfied: multidict<7.0,>=4.5 in /usr/local/lib/python3.10/dist-packages (from aiohttp<4.0.0,>=3.8.3->langchain==0.1.20) (6.1.0)\n",
            "Requirement already satisfied: yarl<2.0,>=1.12.0 in /usr/local/lib/python3.10/dist-packages (from aiohttp<4.0.0,>=3.8.3->langchain==0.1.20) (1.16.0)\n",
            "Collecting marshmallow<4.0.0,>=3.18.0 (from dataclasses-json<0.7,>=0.5.7->langchain==0.1.20)\n",
            "  Downloading marshmallow-3.23.0-py3-none-any.whl.metadata (7.6 kB)\n",
            "Collecting typing-inspect<1,>=0.4.0 (from dataclasses-json<0.7,>=0.5.7->langchain==0.1.20)\n",
            "  Downloading typing_inspect-0.9.0-py3-none-any.whl.metadata (1.5 kB)\n",
            "Collecting jsonpatch<2.0,>=1.33 (from langchain-core<0.2.0,>=0.1.52->langchain==0.1.20)\n",
            "  Downloading jsonpatch-1.33-py2.py3-none-any.whl.metadata (3.0 kB)\n",
            "Collecting packaging<24.0,>=23.2 (from langchain-core<0.2.0,>=0.1.52->langchain==0.1.20)\n",
            "  Downloading packaging-23.2-py3-none-any.whl.metadata (3.2 kB)\n",
            "Collecting httpx<1,>=0.23.0 (from langsmith<0.2.0,>=0.1.17->langchain==0.1.20)\n",
            "  Downloading httpx-0.27.2-py3-none-any.whl.metadata (7.1 kB)\n",
            "Collecting orjson<4.0.0,>=3.9.14 (from langsmith<0.2.0,>=0.1.17->langchain==0.1.20)\n",
            "  Downloading orjson-3.10.10-cp310-cp310-manylinux_2_17_x86_64.manylinux2014_x86_64.whl.metadata (50 kB)\n",
            "\u001b[2K     \u001b[90m━━━━━━━━━━━━━━━━━━━━━━━━━━━━━━━━━━━━━━━━\u001b[0m \u001b[32m50.6/50.6 kB\u001b[0m \u001b[31m3.2 MB/s\u001b[0m eta \u001b[36m0:00:00\u001b[0m\n",
            "\u001b[?25hCollecting requests-toolbelt<2.0.0,>=1.0.0 (from langsmith<0.2.0,>=0.1.17->langchain==0.1.20)\n",
            "  Downloading requests_toolbelt-1.0.0-py2.py3-none-any.whl.metadata (14 kB)\n",
            "Requirement already satisfied: annotated-types>=0.6.0 in /usr/local/lib/python3.10/dist-packages (from pydantic<3,>=1->langchain==0.1.20) (0.7.0)\n",
            "Requirement already satisfied: pydantic-core==2.23.4 in /usr/local/lib/python3.10/dist-packages (from pydantic<3,>=1->langchain==0.1.20) (2.23.4)\n",
            "Requirement already satisfied: typing-extensions>=4.6.1 in /usr/local/lib/python3.10/dist-packages (from pydantic<3,>=1->langchain==0.1.20) (4.12.2)\n",
            "Requirement already satisfied: charset-normalizer<4,>=2 in /usr/local/lib/python3.10/dist-packages (from requests<3,>=2->langchain==0.1.20) (3.4.0)\n",
            "Requirement already satisfied: idna<4,>=2.5 in /usr/local/lib/python3.10/dist-packages (from requests<3,>=2->langchain==0.1.20) (3.10)\n",
            "Requirement already satisfied: urllib3<3,>=1.21.1 in /usr/local/lib/python3.10/dist-packages (from requests<3,>=2->langchain==0.1.20) (2.2.3)\n",
            "Requirement already satisfied: certifi>=2017.4.17 in /usr/local/lib/python3.10/dist-packages (from requests<3,>=2->langchain==0.1.20) (2024.8.30)\n",
            "Requirement already satisfied: greenlet!=0.4.17 in /usr/local/lib/python3.10/dist-packages (from SQLAlchemy<3,>=1.4->langchain==0.1.20) (3.1.1)\n",
            "Requirement already satisfied: anyio in /usr/local/lib/python3.10/dist-packages (from httpx<1,>=0.23.0->langsmith<0.2.0,>=0.1.17->langchain==0.1.20) (3.7.1)\n",
            "Collecting httpcore==1.* (from httpx<1,>=0.23.0->langsmith<0.2.0,>=0.1.17->langchain==0.1.20)\n",
            "  Downloading httpcore-1.0.6-py3-none-any.whl.metadata (21 kB)\n",
            "Requirement already satisfied: sniffio in /usr/local/lib/python3.10/dist-packages (from httpx<1,>=0.23.0->langsmith<0.2.0,>=0.1.17->langchain==0.1.20) (1.3.1)\n",
            "Collecting h11<0.15,>=0.13 (from httpcore==1.*->httpx<1,>=0.23.0->langsmith<0.2.0,>=0.1.17->langchain==0.1.20)\n",
            "  Downloading h11-0.14.0-py3-none-any.whl.metadata (8.2 kB)\n",
            "Collecting jsonpointer>=1.9 (from jsonpatch<2.0,>=1.33->langchain-core<0.2.0,>=0.1.52->langchain==0.1.20)\n",
            "  Downloading jsonpointer-3.0.0-py2.py3-none-any.whl.metadata (2.3 kB)\n",
            "Collecting mypy-extensions>=0.3.0 (from typing-inspect<1,>=0.4.0->dataclasses-json<0.7,>=0.5.7->langchain==0.1.20)\n",
            "  Downloading mypy_extensions-1.0.0-py3-none-any.whl.metadata (1.1 kB)\n",
            "Requirement already satisfied: propcache>=0.2.0 in /usr/local/lib/python3.10/dist-packages (from yarl<2.0,>=1.12.0->aiohttp<4.0.0,>=3.8.3->langchain==0.1.20) (0.2.0)\n",
            "Requirement already satisfied: exceptiongroup in /usr/local/lib/python3.10/dist-packages (from anyio->httpx<1,>=0.23.0->langsmith<0.2.0,>=0.1.17->langchain==0.1.20) (1.2.2)\n",
            "Downloading langchain-0.1.20-py3-none-any.whl (1.0 MB)\n",
            "\u001b[2K   \u001b[90m━━━━━━━━━━━━━━━━━━━━━━━━━━━━━━━━━━━━━━━━\u001b[0m \u001b[32m1.0/1.0 MB\u001b[0m \u001b[31m18.4 MB/s\u001b[0m eta \u001b[36m0:00:00\u001b[0m\n",
            "\u001b[?25hDownloading dataclasses_json-0.6.7-py3-none-any.whl (28 kB)\n",
            "Downloading langchain_community-0.0.38-py3-none-any.whl (2.0 MB)\n",
            "\u001b[2K   \u001b[90m━━━━━━━━━━━━━━━━━━━━━━━━━━━━━━━━━━━━━━━━\u001b[0m \u001b[32m2.0/2.0 MB\u001b[0m \u001b[31m44.1 MB/s\u001b[0m eta \u001b[36m0:00:00\u001b[0m\n",
            "\u001b[?25hDownloading langchain_core-0.1.52-py3-none-any.whl (302 kB)\n",
            "\u001b[2K   \u001b[90m━━━━━━━━━━━━━━━━━━━━━━━━━━━━━━━━━━━━━━━━\u001b[0m \u001b[32m302.9/302.9 kB\u001b[0m \u001b[31m16.3 MB/s\u001b[0m eta \u001b[36m0:00:00\u001b[0m\n",
            "\u001b[?25hDownloading langchain_text_splitters-0.0.2-py3-none-any.whl (23 kB)\n",
            "Downloading langsmith-0.1.137-py3-none-any.whl (296 kB)\n",
            "\u001b[2K   \u001b[90m━━━━━━━━━━━━━━━━━━━━━━━━━━━━━━━━━━━━━━━━\u001b[0m \u001b[32m296.9/296.9 kB\u001b[0m \u001b[31m17.3 MB/s\u001b[0m eta \u001b[36m0:00:00\u001b[0m\n",
            "\u001b[?25hDownloading tenacity-8.5.0-py3-none-any.whl (28 kB)\n",
            "Downloading httpx-0.27.2-py3-none-any.whl (76 kB)\n",
            "\u001b[2K   \u001b[90m━━━━━━━━━━━━━━━━━━━━━━━━━━━━━━━━━━━━━━━━\u001b[0m \u001b[32m76.4/76.4 kB\u001b[0m \u001b[31m5.1 MB/s\u001b[0m eta \u001b[36m0:00:00\u001b[0m\n",
            "\u001b[?25hDownloading httpcore-1.0.6-py3-none-any.whl (78 kB)\n",
            "\u001b[2K   \u001b[90m━━━━━━━━━━━━━━━━━━━━━━━━━━━━━━━━━━━━━━━━\u001b[0m \u001b[32m78.0/78.0 kB\u001b[0m \u001b[31m5.2 MB/s\u001b[0m eta \u001b[36m0:00:00\u001b[0m\n",
            "\u001b[?25hDownloading jsonpatch-1.33-py2.py3-none-any.whl (12 kB)\n",
            "Downloading marshmallow-3.23.0-py3-none-any.whl (49 kB)\n",
            "\u001b[2K   \u001b[90m━━━━━━━━━━━━━━━━━━━━━━━━━━━━━━━━━━━━━━━━\u001b[0m \u001b[32m49.5/49.5 kB\u001b[0m \u001b[31m2.5 MB/s\u001b[0m eta \u001b[36m0:00:00\u001b[0m\n",
            "\u001b[?25hDownloading orjson-3.10.10-cp310-cp310-manylinux_2_17_x86_64.manylinux2014_x86_64.whl (144 kB)\n",
            "\u001b[2K   \u001b[90m━━━━━━━━━━━━━━━━━━━━━━━━━━━━━━━━━━━━━━━━\u001b[0m \u001b[32m144.5/144.5 kB\u001b[0m \u001b[31m8.7 MB/s\u001b[0m eta \u001b[36m0:00:00\u001b[0m\n",
            "\u001b[?25hDownloading packaging-23.2-py3-none-any.whl (53 kB)\n",
            "\u001b[2K   \u001b[90m━━━━━━━━━━━━━━━━━━━━━━━━━━━━━━━━━━━━━━━━\u001b[0m \u001b[32m53.0/53.0 kB\u001b[0m \u001b[31m2.2 MB/s\u001b[0m eta \u001b[36m0:00:00\u001b[0m\n",
            "\u001b[?25hDownloading requests_toolbelt-1.0.0-py2.py3-none-any.whl (54 kB)\n",
            "\u001b[2K   \u001b[90m━━━━━━━━━━━━━━━━━━━━━━━━━━━━━━━━━━━━━━━━\u001b[0m \u001b[32m54.5/54.5 kB\u001b[0m \u001b[31m3.3 MB/s\u001b[0m eta \u001b[36m0:00:00\u001b[0m\n",
            "\u001b[?25hDownloading typing_inspect-0.9.0-py3-none-any.whl (8.8 kB)\n",
            "Downloading jsonpointer-3.0.0-py2.py3-none-any.whl (7.6 kB)\n",
            "Downloading mypy_extensions-1.0.0-py3-none-any.whl (4.7 kB)\n",
            "Downloading h11-0.14.0-py3-none-any.whl (58 kB)\n",
            "\u001b[2K   \u001b[90m━━━━━━━━━━━━━━━━━━━━━━━━━━━━━━━━━━━━━━━━\u001b[0m \u001b[32m58.3/58.3 kB\u001b[0m \u001b[31m3.7 MB/s\u001b[0m eta \u001b[36m0:00:00\u001b[0m\n",
            "\u001b[?25hInstalling collected packages: tenacity, packaging, orjson, mypy-extensions, jsonpointer, h11, typing-inspect, requests-toolbelt, marshmallow, jsonpatch, httpcore, httpx, dataclasses-json, langsmith, langchain-core, langchain-text-splitters, langchain-community, langchain\n",
            "  Attempting uninstall: tenacity\n",
            "    Found existing installation: tenacity 9.0.0\n",
            "    Uninstalling tenacity-9.0.0:\n",
            "      Successfully uninstalled tenacity-9.0.0\n",
            "  Attempting uninstall: packaging\n",
            "    Found existing installation: packaging 24.1\n",
            "    Uninstalling packaging-24.1:\n",
            "      Successfully uninstalled packaging-24.1\n",
            "Successfully installed dataclasses-json-0.6.7 h11-0.14.0 httpcore-1.0.6 httpx-0.27.2 jsonpatch-1.33 jsonpointer-3.0.0 langchain-0.1.20 langchain-community-0.0.38 langchain-core-0.1.52 langchain-text-splitters-0.0.2 langsmith-0.1.137 marshmallow-3.23.0 mypy-extensions-1.0.0 orjson-3.10.10 packaging-23.2 requests-toolbelt-1.0.0 tenacity-8.5.0 typing-inspect-0.9.0\n",
            "Collecting chromadb==0.5.0\n",
            "  Downloading chromadb-0.5.0-py3-none-any.whl.metadata (7.3 kB)\n",
            "Collecting build>=1.0.3 (from chromadb==0.5.0)\n",
            "  Downloading build-1.2.2.post1-py3-none-any.whl.metadata (6.5 kB)\n",
            "Requirement already satisfied: requests>=2.28 in /usr/local/lib/python3.10/dist-packages (from chromadb==0.5.0) (2.32.3)\n",
            "Requirement already satisfied: pydantic>=1.9 in /usr/local/lib/python3.10/dist-packages (from chromadb==0.5.0) (2.9.2)\n",
            "Collecting chroma-hnswlib==0.7.3 (from chromadb==0.5.0)\n",
            "  Downloading chroma_hnswlib-0.7.3-cp310-cp310-manylinux_2_17_x86_64.manylinux2014_x86_64.whl.metadata (252 bytes)\n",
            "Collecting fastapi>=0.95.2 (from chromadb==0.5.0)\n",
            "  Downloading fastapi-0.115.4-py3-none-any.whl.metadata (27 kB)\n",
            "Collecting uvicorn>=0.18.3 (from uvicorn[standard]>=0.18.3->chromadb==0.5.0)\n",
            "  Downloading uvicorn-0.32.0-py3-none-any.whl.metadata (6.6 kB)\n",
            "Requirement already satisfied: numpy>=1.22.5 in /usr/local/lib/python3.10/dist-packages (from chromadb==0.5.0) (1.26.4)\n",
            "Collecting posthog>=2.4.0 (from chromadb==0.5.0)\n",
            "  Downloading posthog-3.7.0-py2.py3-none-any.whl.metadata (2.0 kB)\n",
            "Requirement already satisfied: typing-extensions>=4.5.0 in /usr/local/lib/python3.10/dist-packages (from chromadb==0.5.0) (4.12.2)\n",
            "Collecting onnxruntime>=1.14.1 (from chromadb==0.5.0)\n",
            "  Downloading onnxruntime-1.19.2-cp310-cp310-manylinux_2_27_x86_64.manylinux_2_28_x86_64.whl.metadata (4.5 kB)\n",
            "Requirement already satisfied: opentelemetry-api>=1.2.0 in /usr/local/lib/python3.10/dist-packages (from chromadb==0.5.0) (1.16.0)\n",
            "Collecting opentelemetry-exporter-otlp-proto-grpc>=1.2.0 (from chromadb==0.5.0)\n",
            "  Downloading opentelemetry_exporter_otlp_proto_grpc-1.27.0-py3-none-any.whl.metadata (2.3 kB)\n",
            "Collecting opentelemetry-instrumentation-fastapi>=0.41b0 (from chromadb==0.5.0)\n",
            "  Downloading opentelemetry_instrumentation_fastapi-0.48b0-py3-none-any.whl.metadata (2.1 kB)\n",
            "Requirement already satisfied: opentelemetry-sdk>=1.2.0 in /usr/local/lib/python3.10/dist-packages (from chromadb==0.5.0) (1.16.0)\n",
            "Requirement already satisfied: tokenizers>=0.13.2 in /usr/local/lib/python3.10/dist-packages (from chromadb==0.5.0) (0.19.1)\n",
            "Collecting pypika>=0.48.9 (from chromadb==0.5.0)\n",
            "  Downloading PyPika-0.48.9.tar.gz (67 kB)\n",
            "\u001b[2K     \u001b[90m━━━━━━━━━━━━━━━━━━━━━━━━━━━━━━━━━━━━━━━━\u001b[0m \u001b[32m67.3/67.3 kB\u001b[0m \u001b[31m3.0 MB/s\u001b[0m eta \u001b[36m0:00:00\u001b[0m\n",
            "\u001b[?25h  Installing build dependencies ... \u001b[?25l\u001b[?25hdone\n",
            "  Getting requirements to build wheel ... \u001b[?25l\u001b[?25hdone\n",
            "  Preparing metadata (pyproject.toml) ... \u001b[?25l\u001b[?25hdone\n",
            "Requirement already satisfied: tqdm>=4.65.0 in /usr/local/lib/python3.10/dist-packages (from chromadb==0.5.0) (4.66.5)\n",
            "Collecting overrides>=7.3.1 (from chromadb==0.5.0)\n",
            "  Downloading overrides-7.7.0-py3-none-any.whl.metadata (5.8 kB)\n",
            "Requirement already satisfied: importlib-resources in /usr/local/lib/python3.10/dist-packages (from chromadb==0.5.0) (6.4.5)\n",
            "Requirement already satisfied: grpcio>=1.58.0 in /usr/local/lib/python3.10/dist-packages (from chromadb==0.5.0) (1.64.1)\n",
            "Collecting bcrypt>=4.0.1 (from chromadb==0.5.0)\n",
            "  Downloading bcrypt-4.2.0-cp39-abi3-manylinux_2_28_x86_64.whl.metadata (9.6 kB)\n",
            "Requirement already satisfied: typer>=0.9.0 in /usr/local/lib/python3.10/dist-packages (from chromadb==0.5.0) (0.12.5)\n",
            "Collecting kubernetes>=28.1.0 (from chromadb==0.5.0)\n",
            "  Downloading kubernetes-31.0.0-py2.py3-none-any.whl.metadata (1.5 kB)\n",
            "Requirement already satisfied: tenacity>=8.2.3 in /usr/local/lib/python3.10/dist-packages (from chromadb==0.5.0) (8.5.0)\n",
            "Requirement already satisfied: PyYAML>=6.0.0 in /usr/local/lib/python3.10/dist-packages (from chromadb==0.5.0) (6.0.2)\n",
            "Collecting mmh3>=4.0.1 (from chromadb==0.5.0)\n",
            "  Downloading mmh3-5.0.1-cp310-cp310-manylinux_2_5_x86_64.manylinux1_x86_64.manylinux_2_17_x86_64.manylinux2014_x86_64.whl.metadata (14 kB)\n",
            "Requirement already satisfied: orjson>=3.9.12 in /usr/local/lib/python3.10/dist-packages (from chromadb==0.5.0) (3.10.10)\n",
            "Requirement already satisfied: packaging>=19.1 in /usr/local/lib/python3.10/dist-packages (from build>=1.0.3->chromadb==0.5.0) (23.2)\n",
            "Collecting pyproject_hooks (from build>=1.0.3->chromadb==0.5.0)\n",
            "  Downloading pyproject_hooks-1.2.0-py3-none-any.whl.metadata (1.3 kB)\n",
            "Requirement already satisfied: tomli>=1.1.0 in /usr/local/lib/python3.10/dist-packages (from build>=1.0.3->chromadb==0.5.0) (2.0.2)\n",
            "Collecting starlette<0.42.0,>=0.40.0 (from fastapi>=0.95.2->chromadb==0.5.0)\n",
            "  Downloading starlette-0.41.2-py3-none-any.whl.metadata (6.0 kB)\n",
            "Requirement already satisfied: certifi>=14.05.14 in /usr/local/lib/python3.10/dist-packages (from kubernetes>=28.1.0->chromadb==0.5.0) (2024.8.30)\n",
            "Requirement already satisfied: six>=1.9.0 in /usr/local/lib/python3.10/dist-packages (from kubernetes>=28.1.0->chromadb==0.5.0) (1.16.0)\n",
            "Requirement already satisfied: python-dateutil>=2.5.3 in /usr/local/lib/python3.10/dist-packages (from kubernetes>=28.1.0->chromadb==0.5.0) (2.8.2)\n",
            "Requirement already satisfied: google-auth>=1.0.1 in /usr/local/lib/python3.10/dist-packages (from kubernetes>=28.1.0->chromadb==0.5.0) (2.27.0)\n",
            "Requirement already satisfied: websocket-client!=0.40.0,!=0.41.*,!=0.42.*,>=0.32.0 in /usr/local/lib/python3.10/dist-packages (from kubernetes>=28.1.0->chromadb==0.5.0) (1.8.0)\n",
            "Requirement already satisfied: requests-oauthlib in /usr/local/lib/python3.10/dist-packages (from kubernetes>=28.1.0->chromadb==0.5.0) (1.3.1)\n",
            "Requirement already satisfied: oauthlib>=3.2.2 in /usr/local/lib/python3.10/dist-packages (from kubernetes>=28.1.0->chromadb==0.5.0) (3.2.2)\n",
            "Requirement already satisfied: urllib3>=1.24.2 in /usr/local/lib/python3.10/dist-packages (from kubernetes>=28.1.0->chromadb==0.5.0) (2.2.3)\n",
            "Collecting durationpy>=0.7 (from kubernetes>=28.1.0->chromadb==0.5.0)\n",
            "  Downloading durationpy-0.9-py3-none-any.whl.metadata (338 bytes)\n",
            "Collecting coloredlogs (from onnxruntime>=1.14.1->chromadb==0.5.0)\n",
            "  Downloading coloredlogs-15.0.1-py2.py3-none-any.whl.metadata (12 kB)\n",
            "Requirement already satisfied: flatbuffers in /usr/local/lib/python3.10/dist-packages (from onnxruntime>=1.14.1->chromadb==0.5.0) (24.3.25)\n",
            "Requirement already satisfied: protobuf in /usr/local/lib/python3.10/dist-packages (from onnxruntime>=1.14.1->chromadb==0.5.0) (3.20.3)\n",
            "Requirement already satisfied: sympy in /usr/local/lib/python3.10/dist-packages (from onnxruntime>=1.14.1->chromadb==0.5.0) (1.13.1)\n",
            "Requirement already satisfied: deprecated>=1.2.6 in /usr/local/lib/python3.10/dist-packages (from opentelemetry-api>=1.2.0->chromadb==0.5.0) (1.2.14)\n",
            "Requirement already satisfied: setuptools>=16.0 in /usr/local/lib/python3.10/dist-packages (from opentelemetry-api>=1.2.0->chromadb==0.5.0) (75.1.0)\n",
            "Requirement already satisfied: googleapis-common-protos~=1.52 in /usr/local/lib/python3.10/dist-packages (from opentelemetry-exporter-otlp-proto-grpc>=1.2.0->chromadb==0.5.0) (1.65.0)\n",
            "Collecting opentelemetry-exporter-otlp-proto-common==1.27.0 (from opentelemetry-exporter-otlp-proto-grpc>=1.2.0->chromadb==0.5.0)\n",
            "  Downloading opentelemetry_exporter_otlp_proto_common-1.27.0-py3-none-any.whl.metadata (1.8 kB)\n",
            "Collecting opentelemetry-proto==1.27.0 (from opentelemetry-exporter-otlp-proto-grpc>=1.2.0->chromadb==0.5.0)\n",
            "  Downloading opentelemetry_proto-1.27.0-py3-none-any.whl.metadata (2.3 kB)\n",
            "Collecting opentelemetry-sdk>=1.2.0 (from chromadb==0.5.0)\n",
            "  Downloading opentelemetry_sdk-1.27.0-py3-none-any.whl.metadata (1.5 kB)\n",
            "Collecting opentelemetry-instrumentation-asgi==0.48b0 (from opentelemetry-instrumentation-fastapi>=0.41b0->chromadb==0.5.0)\n",
            "  Downloading opentelemetry_instrumentation_asgi-0.48b0-py3-none-any.whl.metadata (2.0 kB)\n",
            "Collecting opentelemetry-instrumentation==0.48b0 (from opentelemetry-instrumentation-fastapi>=0.41b0->chromadb==0.5.0)\n",
            "  Downloading opentelemetry_instrumentation-0.48b0-py3-none-any.whl.metadata (6.1 kB)\n",
            "Collecting opentelemetry-semantic-conventions==0.48b0 (from opentelemetry-instrumentation-fastapi>=0.41b0->chromadb==0.5.0)\n",
            "  Downloading opentelemetry_semantic_conventions-0.48b0-py3-none-any.whl.metadata (2.4 kB)\n",
            "Collecting opentelemetry-util-http==0.48b0 (from opentelemetry-instrumentation-fastapi>=0.41b0->chromadb==0.5.0)\n",
            "  Downloading opentelemetry_util_http-0.48b0-py3-none-any.whl.metadata (2.5 kB)\n",
            "Requirement already satisfied: wrapt<2.0.0,>=1.0.0 in /usr/local/lib/python3.10/dist-packages (from opentelemetry-instrumentation==0.48b0->opentelemetry-instrumentation-fastapi>=0.41b0->chromadb==0.5.0) (1.16.0)\n",
            "Collecting asgiref~=3.0 (from opentelemetry-instrumentation-asgi==0.48b0->opentelemetry-instrumentation-fastapi>=0.41b0->chromadb==0.5.0)\n",
            "  Downloading asgiref-3.8.1-py3-none-any.whl.metadata (9.3 kB)\n",
            "Collecting opentelemetry-api>=1.2.0 (from chromadb==0.5.0)\n",
            "  Downloading opentelemetry_api-1.27.0-py3-none-any.whl.metadata (1.4 kB)\n",
            "Collecting importlib-metadata<=8.4.0,>=6.0 (from opentelemetry-api>=1.2.0->chromadb==0.5.0)\n",
            "  Downloading importlib_metadata-8.4.0-py3-none-any.whl.metadata (4.7 kB)\n",
            "Collecting monotonic>=1.5 (from posthog>=2.4.0->chromadb==0.5.0)\n",
            "  Downloading monotonic-1.6-py2.py3-none-any.whl.metadata (1.5 kB)\n",
            "Collecting backoff>=1.10.0 (from posthog>=2.4.0->chromadb==0.5.0)\n",
            "  Downloading backoff-2.2.1-py3-none-any.whl.metadata (14 kB)\n",
            "Requirement already satisfied: annotated-types>=0.6.0 in /usr/local/lib/python3.10/dist-packages (from pydantic>=1.9->chromadb==0.5.0) (0.7.0)\n",
            "Requirement already satisfied: pydantic-core==2.23.4 in /usr/local/lib/python3.10/dist-packages (from pydantic>=1.9->chromadb==0.5.0) (2.23.4)\n",
            "Requirement already satisfied: charset-normalizer<4,>=2 in /usr/local/lib/python3.10/dist-packages (from requests>=2.28->chromadb==0.5.0) (3.4.0)\n",
            "Requirement already satisfied: idna<4,>=2.5 in /usr/local/lib/python3.10/dist-packages (from requests>=2.28->chromadb==0.5.0) (3.10)\n",
            "Requirement already satisfied: huggingface-hub<1.0,>=0.16.4 in /usr/local/lib/python3.10/dist-packages (from tokenizers>=0.13.2->chromadb==0.5.0) (0.24.7)\n",
            "Requirement already satisfied: click>=8.0.0 in /usr/local/lib/python3.10/dist-packages (from typer>=0.9.0->chromadb==0.5.0) (8.1.7)\n",
            "Requirement already satisfied: shellingham>=1.3.0 in /usr/local/lib/python3.10/dist-packages (from typer>=0.9.0->chromadb==0.5.0) (1.5.4)\n",
            "Requirement already satisfied: rich>=10.11.0 in /usr/local/lib/python3.10/dist-packages (from typer>=0.9.0->chromadb==0.5.0) (13.9.3)\n",
            "Requirement already satisfied: h11>=0.8 in /usr/local/lib/python3.10/dist-packages (from uvicorn>=0.18.3->uvicorn[standard]>=0.18.3->chromadb==0.5.0) (0.14.0)\n",
            "Collecting httptools>=0.5.0 (from uvicorn[standard]>=0.18.3->chromadb==0.5.0)\n",
            "  Downloading httptools-0.6.4-cp310-cp310-manylinux_2_5_x86_64.manylinux1_x86_64.manylinux_2_17_x86_64.manylinux2014_x86_64.whl.metadata (3.6 kB)\n",
            "Collecting python-dotenv>=0.13 (from uvicorn[standard]>=0.18.3->chromadb==0.5.0)\n",
            "  Downloading python_dotenv-1.0.1-py3-none-any.whl.metadata (23 kB)\n",
            "Collecting uvloop!=0.15.0,!=0.15.1,>=0.14.0 (from uvicorn[standard]>=0.18.3->chromadb==0.5.0)\n",
            "  Downloading uvloop-0.21.0-cp310-cp310-manylinux_2_17_x86_64.manylinux2014_x86_64.whl.metadata (4.9 kB)\n",
            "Collecting watchfiles>=0.13 (from uvicorn[standard]>=0.18.3->chromadb==0.5.0)\n",
            "  Downloading watchfiles-0.24.0-cp310-cp310-manylinux_2_17_x86_64.manylinux2014_x86_64.whl.metadata (4.9 kB)\n",
            "Collecting websockets>=10.4 (from uvicorn[standard]>=0.18.3->chromadb==0.5.0)\n",
            "  Downloading websockets-13.1-cp310-cp310-manylinux_2_5_x86_64.manylinux1_x86_64.manylinux_2_17_x86_64.manylinux2014_x86_64.whl.metadata (6.8 kB)\n",
            "Requirement already satisfied: cachetools<6.0,>=2.0.0 in /usr/local/lib/python3.10/dist-packages (from google-auth>=1.0.1->kubernetes>=28.1.0->chromadb==0.5.0) (5.5.0)\n",
            "Requirement already satisfied: pyasn1-modules>=0.2.1 in /usr/local/lib/python3.10/dist-packages (from google-auth>=1.0.1->kubernetes>=28.1.0->chromadb==0.5.0) (0.4.1)\n",
            "Requirement already satisfied: rsa<5,>=3.1.4 in /usr/local/lib/python3.10/dist-packages (from google-auth>=1.0.1->kubernetes>=28.1.0->chromadb==0.5.0) (4.9)\n",
            "Requirement already satisfied: filelock in /usr/local/lib/python3.10/dist-packages (from huggingface-hub<1.0,>=0.16.4->tokenizers>=0.13.2->chromadb==0.5.0) (3.16.1)\n",
            "Requirement already satisfied: fsspec>=2023.5.0 in /usr/local/lib/python3.10/dist-packages (from huggingface-hub<1.0,>=0.16.4->tokenizers>=0.13.2->chromadb==0.5.0) (2024.6.1)\n",
            "Requirement already satisfied: zipp>=0.5 in /usr/local/lib/python3.10/dist-packages (from importlib-metadata<=8.4.0,>=6.0->opentelemetry-api>=1.2.0->chromadb==0.5.0) (3.20.2)\n",
            "Requirement already satisfied: markdown-it-py>=2.2.0 in /usr/local/lib/python3.10/dist-packages (from rich>=10.11.0->typer>=0.9.0->chromadb==0.5.0) (3.0.0)\n",
            "Requirement already satisfied: pygments<3.0.0,>=2.13.0 in /usr/local/lib/python3.10/dist-packages (from rich>=10.11.0->typer>=0.9.0->chromadb==0.5.0) (2.18.0)\n",
            "Requirement already satisfied: anyio<5,>=3.4.0 in /usr/local/lib/python3.10/dist-packages (from starlette<0.42.0,>=0.40.0->fastapi>=0.95.2->chromadb==0.5.0) (3.7.1)\n",
            "Collecting humanfriendly>=9.1 (from coloredlogs->onnxruntime>=1.14.1->chromadb==0.5.0)\n",
            "  Downloading humanfriendly-10.0-py2.py3-none-any.whl.metadata (9.2 kB)\n",
            "Requirement already satisfied: mpmath<1.4,>=1.1.0 in /usr/local/lib/python3.10/dist-packages (from sympy->onnxruntime>=1.14.1->chromadb==0.5.0) (1.3.0)\n",
            "Requirement already satisfied: sniffio>=1.1 in /usr/local/lib/python3.10/dist-packages (from anyio<5,>=3.4.0->starlette<0.42.0,>=0.40.0->fastapi>=0.95.2->chromadb==0.5.0) (1.3.1)\n",
            "Requirement already satisfied: exceptiongroup in /usr/local/lib/python3.10/dist-packages (from anyio<5,>=3.4.0->starlette<0.42.0,>=0.40.0->fastapi>=0.95.2->chromadb==0.5.0) (1.2.2)\n",
            "Requirement already satisfied: mdurl~=0.1 in /usr/local/lib/python3.10/dist-packages (from markdown-it-py>=2.2.0->rich>=10.11.0->typer>=0.9.0->chromadb==0.5.0) (0.1.2)\n",
            "Requirement already satisfied: pyasn1<0.7.0,>=0.4.6 in /usr/local/lib/python3.10/dist-packages (from pyasn1-modules>=0.2.1->google-auth>=1.0.1->kubernetes>=28.1.0->chromadb==0.5.0) (0.6.1)\n",
            "Downloading chromadb-0.5.0-py3-none-any.whl (526 kB)\n",
            "\u001b[2K   \u001b[90m━━━━━━━━━━━━━━━━━━━━━━━━━━━━━━━━━━━━━━━━\u001b[0m \u001b[32m526.8/526.8 kB\u001b[0m \u001b[31m13.1 MB/s\u001b[0m eta \u001b[36m0:00:00\u001b[0m\n",
            "\u001b[?25hDownloading chroma_hnswlib-0.7.3-cp310-cp310-manylinux_2_17_x86_64.manylinux2014_x86_64.whl (2.4 MB)\n",
            "\u001b[2K   \u001b[90m━━━━━━━━━━━━━━━━━━━━━━━━━━━━━━━━━━━━━━━━\u001b[0m \u001b[32m2.4/2.4 MB\u001b[0m \u001b[31m45.6 MB/s\u001b[0m eta \u001b[36m0:00:00\u001b[0m\n",
            "\u001b[?25hDownloading bcrypt-4.2.0-cp39-abi3-manylinux_2_28_x86_64.whl (273 kB)\n",
            "\u001b[2K   \u001b[90m━━━━━━━━━━━━━━━━━━━━━━━━━━━━━━━━━━━━━━━━\u001b[0m \u001b[32m273.8/273.8 kB\u001b[0m \u001b[31m13.0 MB/s\u001b[0m eta \u001b[36m0:00:00\u001b[0m\n",
            "\u001b[?25hDownloading build-1.2.2.post1-py3-none-any.whl (22 kB)\n",
            "Downloading fastapi-0.115.4-py3-none-any.whl (94 kB)\n",
            "\u001b[2K   \u001b[90m━━━━━━━━━━━━━━━━━━━━━━━━━━━━━━━━━━━━━━━━\u001b[0m \u001b[32m94.7/94.7 kB\u001b[0m \u001b[31m5.4 MB/s\u001b[0m eta \u001b[36m0:00:00\u001b[0m\n",
            "\u001b[?25hDownloading kubernetes-31.0.0-py2.py3-none-any.whl (1.9 MB)\n",
            "\u001b[2K   \u001b[90m━━━━━━━━━━━━━━━━━━━━━━━━━━━━━━━━━━━━━━━━\u001b[0m \u001b[32m1.9/1.9 MB\u001b[0m \u001b[31m40.1 MB/s\u001b[0m eta \u001b[36m0:00:00\u001b[0m\n",
            "\u001b[?25hDownloading mmh3-5.0.1-cp310-cp310-manylinux_2_5_x86_64.manylinux1_x86_64.manylinux_2_17_x86_64.manylinux2014_x86_64.whl (93 kB)\n",
            "\u001b[2K   \u001b[90m━━━━━━━━━━━━━━━━━━━━━━━━━━━━━━━━━━━━━━━━\u001b[0m \u001b[32m93.2/93.2 kB\u001b[0m \u001b[31m6.1 MB/s\u001b[0m eta \u001b[36m0:00:00\u001b[0m\n",
            "\u001b[?25hDownloading onnxruntime-1.19.2-cp310-cp310-manylinux_2_27_x86_64.manylinux_2_28_x86_64.whl (13.2 MB)\n",
            "\u001b[2K   \u001b[90m━━━━━━━━━━━━━━━━━━━━━━━━━━━━━━━━━━━━━━━━\u001b[0m \u001b[32m13.2/13.2 MB\u001b[0m \u001b[31m55.2 MB/s\u001b[0m eta \u001b[36m0:00:00\u001b[0m\n",
            "\u001b[?25hDownloading opentelemetry_exporter_otlp_proto_grpc-1.27.0-py3-none-any.whl (18 kB)\n",
            "Downloading opentelemetry_exporter_otlp_proto_common-1.27.0-py3-none-any.whl (17 kB)\n",
            "Downloading opentelemetry_proto-1.27.0-py3-none-any.whl (52 kB)\n",
            "\u001b[2K   \u001b[90m━━━━━━━━━━━━━━━━━━━━━━━━━━━━━━━━━━━━━━━━\u001b[0m \u001b[32m52.5/52.5 kB\u001b[0m \u001b[31m2.8 MB/s\u001b[0m eta \u001b[36m0:00:00\u001b[0m\n",
            "\u001b[?25hDownloading opentelemetry_instrumentation_fastapi-0.48b0-py3-none-any.whl (11 kB)\n",
            "Downloading opentelemetry_instrumentation-0.48b0-py3-none-any.whl (29 kB)\n",
            "Downloading opentelemetry_instrumentation_asgi-0.48b0-py3-none-any.whl (15 kB)\n",
            "Downloading opentelemetry_semantic_conventions-0.48b0-py3-none-any.whl (149 kB)\n",
            "\u001b[2K   \u001b[90m━━━━━━━━━━━━━━━━━━━━━━━━━━━━━━━━━━━━━━━━\u001b[0m \u001b[32m149.7/149.7 kB\u001b[0m \u001b[31m9.9 MB/s\u001b[0m eta \u001b[36m0:00:00\u001b[0m\n",
            "\u001b[?25hDownloading opentelemetry_api-1.27.0-py3-none-any.whl (63 kB)\n",
            "\u001b[2K   \u001b[90m━━━━━━━━━━━━━━━━━━━━━━━━━━━━━━━━━━━━━━━━\u001b[0m \u001b[32m64.0/64.0 kB\u001b[0m \u001b[31m3.0 MB/s\u001b[0m eta \u001b[36m0:00:00\u001b[0m\n",
            "\u001b[?25hDownloading opentelemetry_util_http-0.48b0-py3-none-any.whl (6.9 kB)\n",
            "Downloading opentelemetry_sdk-1.27.0-py3-none-any.whl (110 kB)\n",
            "\u001b[2K   \u001b[90m━━━━━━━━━━━━━━━━━━━━━━━━━━━━━━━━━━━━━━━━\u001b[0m \u001b[32m110.5/110.5 kB\u001b[0m \u001b[31m6.9 MB/s\u001b[0m eta \u001b[36m0:00:00\u001b[0m\n",
            "\u001b[?25hDownloading overrides-7.7.0-py3-none-any.whl (17 kB)\n",
            "Downloading posthog-3.7.0-py2.py3-none-any.whl (54 kB)\n",
            "\u001b[2K   \u001b[90m━━━━━━━━━━━━━━━━━━━━━━━━━━━━━━━━━━━━━━━━\u001b[0m \u001b[32m54.4/54.4 kB\u001b[0m \u001b[31m3.4 MB/s\u001b[0m eta \u001b[36m0:00:00\u001b[0m\n",
            "\u001b[?25hDownloading uvicorn-0.32.0-py3-none-any.whl (63 kB)\n",
            "\u001b[2K   \u001b[90m━━━━━━━━━━━━━━━━━━━━━━━━━━━━━━━━━━━━━━━━\u001b[0m \u001b[32m63.7/63.7 kB\u001b[0m \u001b[31m3.4 MB/s\u001b[0m eta \u001b[36m0:00:00\u001b[0m\n",
            "\u001b[?25hDownloading backoff-2.2.1-py3-none-any.whl (15 kB)\n",
            "Downloading durationpy-0.9-py3-none-any.whl (3.5 kB)\n",
            "Downloading httptools-0.6.4-cp310-cp310-manylinux_2_5_x86_64.manylinux1_x86_64.manylinux_2_17_x86_64.manylinux2014_x86_64.whl (442 kB)\n",
            "\u001b[2K   \u001b[90m━━━━━━━━━━━━━━━━━━━━━━━━━━━━━━━━━━━━━━━━\u001b[0m \u001b[32m442.1/442.1 kB\u001b[0m \u001b[31m10.4 MB/s\u001b[0m eta \u001b[36m0:00:00\u001b[0m\n",
            "\u001b[?25hDownloading importlib_metadata-8.4.0-py3-none-any.whl (26 kB)\n",
            "Downloading monotonic-1.6-py2.py3-none-any.whl (8.2 kB)\n",
            "Downloading python_dotenv-1.0.1-py3-none-any.whl (19 kB)\n",
            "Downloading starlette-0.41.2-py3-none-any.whl (73 kB)\n",
            "\u001b[2K   \u001b[90m━━━━━━━━━━━━━━━━━━━━━━━━━━━━━━━━━━━━━━━━\u001b[0m \u001b[32m73.3/73.3 kB\u001b[0m \u001b[31m4.6 MB/s\u001b[0m eta \u001b[36m0:00:00\u001b[0m\n",
            "\u001b[?25hDownloading uvloop-0.21.0-cp310-cp310-manylinux_2_17_x86_64.manylinux2014_x86_64.whl (3.8 MB)\n",
            "\u001b[2K   \u001b[90m━━━━━━━━━━━━━━━━━━━━━━━━━━━━━━━━━━━━━━━━\u001b[0m \u001b[32m3.8/3.8 MB\u001b[0m \u001b[31m45.6 MB/s\u001b[0m eta \u001b[36m0:00:00\u001b[0m\n",
            "\u001b[?25hDownloading watchfiles-0.24.0-cp310-cp310-manylinux_2_17_x86_64.manylinux2014_x86_64.whl (425 kB)\n",
            "\u001b[2K   \u001b[90m━━━━━━━━━━━━━━━━━━━━━━━━━━━━━━━━━━━━━━━━\u001b[0m \u001b[32m425.7/425.7 kB\u001b[0m \u001b[31m22.6 MB/s\u001b[0m eta \u001b[36m0:00:00\u001b[0m\n",
            "\u001b[?25hDownloading websockets-13.1-cp310-cp310-manylinux_2_5_x86_64.manylinux1_x86_64.manylinux_2_17_x86_64.manylinux2014_x86_64.whl (164 kB)\n",
            "\u001b[2K   \u001b[90m━━━━━━━━━━━━━━━━━━━━━━━━━━━━━━━━━━━━━━━━\u001b[0m \u001b[32m164.1/164.1 kB\u001b[0m \u001b[31m7.6 MB/s\u001b[0m eta \u001b[36m0:00:00\u001b[0m\n",
            "\u001b[?25hDownloading coloredlogs-15.0.1-py2.py3-none-any.whl (46 kB)\n",
            "\u001b[2K   \u001b[90m━━━━━━━━━━━━━━━━━━━━━━━━━━━━━━━━━━━━━━━━\u001b[0m \u001b[32m46.0/46.0 kB\u001b[0m \u001b[31m2.7 MB/s\u001b[0m eta \u001b[36m0:00:00\u001b[0m\n",
            "\u001b[?25hDownloading pyproject_hooks-1.2.0-py3-none-any.whl (10 kB)\n",
            "Downloading asgiref-3.8.1-py3-none-any.whl (23 kB)\n",
            "Downloading humanfriendly-10.0-py2.py3-none-any.whl (86 kB)\n",
            "\u001b[2K   \u001b[90m━━━━━━━━━━━━━━━━━━━━━━━━━━━━━━━━━━━━━━━━\u001b[0m \u001b[32m86.8/86.8 kB\u001b[0m \u001b[31m4.8 MB/s\u001b[0m eta \u001b[36m0:00:00\u001b[0m\n",
            "\u001b[?25hBuilding wheels for collected packages: pypika\n",
            "  Building wheel for pypika (pyproject.toml) ... \u001b[?25l\u001b[?25hdone\n",
            "  Created wheel for pypika: filename=PyPika-0.48.9-py2.py3-none-any.whl size=53725 sha256=501026f8aa809321a653296e93e0d4e91010921df497a384b0612e60eec09280\n",
            "  Stored in directory: /root/.cache/pip/wheels/e1/26/51/d0bffb3d2fd82256676d7ad3003faea3bd6dddc9577af665f4\n",
            "Successfully built pypika\n",
            "Installing collected packages: pypika, monotonic, durationpy, websockets, uvloop, uvicorn, python-dotenv, pyproject_hooks, overrides, opentelemetry-util-http, opentelemetry-proto, mmh3, importlib-metadata, humanfriendly, httptools, chroma-hnswlib, bcrypt, backoff, asgiref, watchfiles, starlette, posthog, opentelemetry-exporter-otlp-proto-common, opentelemetry-api, coloredlogs, build, opentelemetry-semantic-conventions, opentelemetry-instrumentation, onnxruntime, kubernetes, fastapi, opentelemetry-sdk, opentelemetry-instrumentation-asgi, opentelemetry-instrumentation-fastapi, opentelemetry-exporter-otlp-proto-grpc, chromadb\n",
            "  Attempting uninstall: importlib-metadata\n",
            "    Found existing installation: importlib_metadata 8.5.0\n",
            "    Uninstalling importlib_metadata-8.5.0:\n",
            "      Successfully uninstalled importlib_metadata-8.5.0\n",
            "  Attempting uninstall: opentelemetry-api\n",
            "    Found existing installation: opentelemetry-api 1.16.0\n",
            "    Uninstalling opentelemetry-api-1.16.0:\n",
            "      Successfully uninstalled opentelemetry-api-1.16.0\n",
            "  Attempting uninstall: opentelemetry-semantic-conventions\n",
            "    Found existing installation: opentelemetry-semantic-conventions 0.37b0\n",
            "    Uninstalling opentelemetry-semantic-conventions-0.37b0:\n",
            "      Successfully uninstalled opentelemetry-semantic-conventions-0.37b0\n",
            "  Attempting uninstall: opentelemetry-sdk\n",
            "    Found existing installation: opentelemetry-sdk 1.16.0\n",
            "    Uninstalling opentelemetry-sdk-1.16.0:\n",
            "      Successfully uninstalled opentelemetry-sdk-1.16.0\n",
            "Successfully installed asgiref-3.8.1 backoff-2.2.1 bcrypt-4.2.0 build-1.2.2.post1 chroma-hnswlib-0.7.3 chromadb-0.5.0 coloredlogs-15.0.1 durationpy-0.9 fastapi-0.115.4 httptools-0.6.4 humanfriendly-10.0 importlib-metadata-8.4.0 kubernetes-31.0.0 mmh3-5.0.1 monotonic-1.6 onnxruntime-1.19.2 opentelemetry-api-1.27.0 opentelemetry-exporter-otlp-proto-common-1.27.0 opentelemetry-exporter-otlp-proto-grpc-1.27.0 opentelemetry-instrumentation-0.48b0 opentelemetry-instrumentation-asgi-0.48b0 opentelemetry-instrumentation-fastapi-0.48b0 opentelemetry-proto-1.27.0 opentelemetry-sdk-1.27.0 opentelemetry-semantic-conventions-0.48b0 opentelemetry-util-http-0.48b0 overrides-7.7.0 posthog-3.7.0 pypika-0.48.9 pyproject_hooks-1.2.0 python-dotenv-1.0.1 starlette-0.41.2 uvicorn-0.32.0 uvloop-0.21.0 watchfiles-0.24.0 websockets-13.1\n",
            "Collecting faiss-cpu\n",
            "  Downloading faiss_cpu-1.9.0-cp310-cp310-manylinux_2_17_x86_64.manylinux2014_x86_64.whl.metadata (4.4 kB)\n",
            "Requirement already satisfied: numpy<3.0,>=1.25.0 in /usr/local/lib/python3.10/dist-packages (from faiss-cpu) (1.26.4)\n",
            "Requirement already satisfied: packaging in /usr/local/lib/python3.10/dist-packages (from faiss-cpu) (23.2)\n",
            "Downloading faiss_cpu-1.9.0-cp310-cp310-manylinux_2_17_x86_64.manylinux2014_x86_64.whl (27.5 MB)\n",
            "\u001b[2K   \u001b[90m━━━━━━━━━━━━━━━━━━━━━━━━━━━━━━━━━━━━━━━━\u001b[0m \u001b[32m27.5/27.5 MB\u001b[0m \u001b[31m23.9 MB/s\u001b[0m eta \u001b[36m0:00:00\u001b[0m\n",
            "\u001b[?25hInstalling collected packages: faiss-cpu\n",
            "Successfully installed faiss-cpu-1.9.0\n"
          ]
        }
      ],
      "source": [
        "!pip install Pyfhel\n",
        "!pip install openai==0.28.1\n",
        "!pip install tiktoken==0.6.0\n",
        "!pip install langchain==0.1.20\n",
        "!pip install chromadb==0.5.0\n",
        "!pip install faiss-cpu"
      ]
    },
    {
      "cell_type": "code",
      "execution_count": 2,
      "metadata": {
        "id": "p_Ug9yBkVSuQ"
      },
      "outputs": [],
      "source": [
        "import openai\n",
        "import numpy as np\n",
        "import pandas as pd\n",
        "from langchain.chat_models import ChatOpenAI\n",
        "from langchain.document_loaders import CSVLoader\n",
        "from langchain.embeddings import OpenAIEmbeddings\n",
        "from langchain.prompts import ChatPromptTemplate\n",
        "from langchain.vectorstores import Chroma\n",
        "from langchain_core.output_parsers import StrOutputParser\n",
        "from langchain_core.runnables import RunnableLambda, RunnablePassthrough\n",
        "from openai.embeddings_utils import get_embedding\n",
        "import faiss\n",
        "import warnings\n",
        "from Pyfhel import Pyfhel, PyPtxt\n",
        "import os\n",
        "warnings.filterwarnings(\"ignore\")"
      ]
    },
    {
      "cell_type": "code",
      "execution_count": 3,
      "metadata": {
        "id": "phASLjEjZfFK"
      },
      "outputs": [],
      "source": [
        "os.environ['OPENAI_API_KEY'] = ''"
      ]
    },
    {
      "cell_type": "code",
      "execution_count": 4,
      "metadata": {
        "id": "Qa9VImzqatqj"
      },
      "outputs": [],
      "source": [
        "openai.api_key = ''"
      ]
    },
    {
      "cell_type": "code",
      "execution_count": 5,
      "metadata": {
        "id": "zsPmbO-IXDIr"
      },
      "outputs": [],
      "source": [
        "System_Prompt = \"\"\"\n",
        "Role:\n",
        "You are Prism, an authoritative and knowledgeable assistant for Prismo Technology. Your main function is to provide users with clear, detailed, and understandable information about the Prismo Technology whitepaper, including its advanced security features, transparency mechanisms, and the Prismo Accountability Layer.\n",
        "\n",
        "Instructions:\n",
        "\n",
        "Greet the user and offer assistance with any questions they have about the whitepaper.\n",
        "Summarize complex concepts from the whitepaper in simple, user-friendly language.\n",
        "Provide concise answers to specific questions regarding blockchain, security, transparency, or any other relevant section of the whitepaper.\n",
        "Highlight key parts of the whitepaper, offering context and insights into why they are important for users.\n",
        "Clarify technical jargon by providing definitions or breaking them down into layman’s terms.\n",
        "Ensure users leave each conversation feeling informed and reassured about Prismo Technology’s commitment to security and transparency.\n",
        "\n",
        "Context:\n",
        "Prismo Technology is pioneering a new era of trust by using blockchain technology to create secure and transparent digital interactions. The Prismo Accountability Layer is central to this, as it ensures every transaction is tamper-proof and fully traceable. Users rely on Prism to explain how the whitepaper outlines these features and how they contribute to a secure, trustworthy digital environment.\n",
        "\n",
        "Constraints:\n",
        "\n",
        "Avoid using overly technical or confusing jargon unless the user specifically asks for technical details.\n",
        "Always simplify complex concepts and provide analogies when necessary to make information more accessible.\n",
        "Stay within the boundaries of the Prismo whitepaper content; do not speculate or provide information not covered in the document.\n",
        "Ensure that all responses are concise, informative, and transparent, aligning with Prismo’s values of trust and integrity.\n",
        "Examples:\n",
        "\n",
        "User Question: \"What is the Prismo Accountability Layer?\"\n",
        "Prism Response: \"The Prismo Accountability Layer is the core technology that ensures every transaction within the Prismo ecosystem is secure and transparent. It uses blockchain to record all interactions in an immutable way, so no one can alter or tamper with the data. This provides full transparency and allows users to verify all actions taken with their data.\"\n",
        "\n",
        "User Question: \"How does Prismo ensure my data is protected?\"\n",
        "Prism Response: \"Prismo uses advanced encryption and blockchain technology to safeguard your data. This means that all data is stored in a way that prevents unauthorized access, and the use of blockchain ensures that every action involving your data is logged and cannot be changed, providing a secure and transparent environment.\"\n",
        "\n",
        "User Question: \"What are the key takeaways from the whitepaper?\"\n",
        "Prism Response: \"The key points of the Prismo Technology whitepaper are: first, the introduction of the Prismo Accountability Layer, which ensures secure and transparent transactions through blockchain; second, the use of advanced security measures like encryption to protect data; and finally, how this technology aims to build a new era of trust in digital interactions.\"\n",
        "\"\"\""
      ]
    },
    {
      "cell_type": "code",
      "execution_count": 6,
      "metadata": {
        "id": "LykPLnDhb0F-"
      },
      "outputs": [],
      "source": [
        "struct = [{\"role\": \"system\", \"content\": System_Prompt}]"
      ]
    },
    {
      "cell_type": "code",
      "execution_count": 7,
      "metadata": {
        "id": "U2CeoKqDYwf5"
      },
      "outputs": [],
      "source": [
        "dataframed = pd.read_csv('https://raw.githubusercontent.com/PrismoProtocolDevelopment/Prism_Prismo_Technology/refs/heads/main/Dataset/Prismo_Knowledgebase.csv')"
      ]
    },
    {
      "cell_type": "code",
      "execution_count": 8,
      "metadata": {
        "id": "T95iljJPQVaj"
      },
      "outputs": [],
      "source": [
        "dataframed['combined'] = dataframed.apply(lambda row : ' '.join(row.values.astype(str)), axis = 1)\n",
        "documents = dataframed['combined'].tolist()\n",
        "embeddings = [get_embedding(doc, engine = \"text-embedding-ada-002\") for doc in documents]\n",
        "embedding_dim = len(embeddings[0])\n",
        "embeddings_np = np.array(embeddings).astype('float32')\n",
        "index = faiss.IndexFlatL2(embedding_dim)\n",
        "index.add(embeddings_np)"
      ]
    },
    {
      "cell_type": "code",
      "execution_count": 9,
      "metadata": {
        "id": "EyYCmttQbbHk"
      },
      "outputs": [],
      "source": [
        "user_message = \"What is the Prismo Accountability Layer?\""
      ]
    },
    {
      "cell_type": "code",
      "execution_count": 10,
      "metadata": {
        "id": "HoVYpsMHbl54"
      },
      "outputs": [],
      "source": [
        "query_embedding = get_embedding(user_message, engine='text-embedding-3-small')\n",
        "query_embedding_np = np.array([query_embedding]).astype('float32')\n",
        "_, indices = index.search(query_embedding_np, 5)\n",
        "retrieved_docs = [documents[i] for i in indices[0]]\n",
        "context = ' '.join(retrieved_docs)\n",
        "structured_prompt = f\"Context:\\n{context}\\n\\nQuery:\\n{user_message}\\n\\nResponse:\""
      ]
    },
    {
      "cell_type": "code",
      "execution_count": 11,
      "metadata": {
        "id": "sTGAfCSYbupP"
      },
      "outputs": [],
      "source": [
        "chat =  openai.ChatCompletion.create(model = \"gpt-4o-mini\", messages = struct + [{\"role\": \"user\", \"content\" : structured_prompt}], temperature=0.5, max_tokens=1500, top_p=1, frequency_penalty=0, presence_penalty=0)\n",
        "struct.append({\"role\": \"user\", \"content\": user_message})\n",
        "response = chat.choices[0].message.content\n",
        "struct.append({\"role\": \"assistant\", \"content\": response})"
      ]
    },
    {
      "cell_type": "code",
      "execution_count": 12,
      "metadata": {
        "colab": {
          "base_uri": "https://localhost:8080/"
        },
        "id": "FFJftFifcbQH",
        "outputId": "8dfd0f68-d441-48df-e97e-c665a0312b6a"
      },
      "outputs": [
        {
          "name": "stdout",
          "output_type": "stream",
          "text": [
            "The Prismo Accountability Layer is a key feature of Prismo Technology that ensures every transaction within its ecosystem is secure, transparent, and traceable. It utilizes blockchain technology to create an immutable record of all interactions, meaning that once something is recorded, it cannot be changed or tampered with. This layer enhances trust among users, as it allows anyone to verify the actions taken with their data and ensures that all transactions are conducted fairly and openly. In essence, the Prismo Accountability Layer is designed to foster a secure environment for digital interactions, reinforcing Prismo's commitment to transparency and integrity.\n"
          ]
        }
      ],
      "source": [
        "print(response)"
      ]
    },
    {
      "cell_type": "code",
      "execution_count": 13,
      "metadata": {
        "id": "sk_IaohGezaV"
      },
      "outputs": [],
      "source": [
        "encoded_text = [ord(char) for char in response]"
      ]
    },
    {
      "cell_type": "code",
      "execution_count": 14,
      "metadata": {
        "colab": {
          "base_uri": "https://localhost:8080/"
        },
        "id": "X3cW9RlwcdyZ",
        "outputId": "ef8319ba-8ace-414f-9aaf-9e9721740207"
      },
      "outputs": [
        {
          "name": "stdout",
          "output_type": "stream",
          "text": [
            "Encoded Text: [84, 104, 101, 32, 80, 114, 105, 115, 109, 111, 32, 65, 99, 99, 111, 117, 110, 116, 97, 98, 105, 108, 105, 116, 121, 32, 76, 97, 121, 101, 114, 32, 105, 115, 32, 97, 32, 107, 101, 121, 32, 102, 101, 97, 116, 117, 114, 101, 32, 111, 102, 32, 80, 114, 105, 115, 109, 111, 32, 84, 101, 99, 104, 110, 111, 108, 111, 103, 121, 32, 116, 104, 97, 116, 32, 101, 110, 115, 117, 114, 101, 115, 32, 101, 118, 101, 114, 121, 32, 116, 114, 97, 110, 115, 97, 99, 116, 105, 111, 110, 32, 119, 105, 116, 104, 105, 110, 32, 105, 116, 115, 32, 101, 99, 111, 115, 121, 115, 116, 101, 109, 32, 105, 115, 32, 115, 101, 99, 117, 114, 101, 44, 32, 116, 114, 97, 110, 115, 112, 97, 114, 101, 110, 116, 44, 32, 97, 110, 100, 32, 116, 114, 97, 99, 101, 97, 98, 108, 101, 46, 32, 73, 116, 32, 117, 116, 105, 108, 105, 122, 101, 115, 32, 98, 108, 111, 99, 107, 99, 104, 97, 105, 110, 32, 116, 101, 99, 104, 110, 111, 108, 111, 103, 121, 32, 116, 111, 32, 99, 114, 101, 97, 116, 101, 32, 97, 110, 32, 105, 109, 109, 117, 116, 97, 98, 108, 101, 32, 114, 101, 99, 111, 114, 100, 32, 111, 102, 32, 97, 108, 108, 32, 105, 110, 116, 101, 114, 97, 99, 116, 105, 111, 110, 115, 44, 32, 109, 101, 97, 110, 105, 110, 103, 32, 116, 104, 97, 116, 32, 111, 110, 99, 101, 32, 115, 111, 109, 101, 116, 104, 105, 110, 103, 32, 105, 115, 32, 114, 101, 99, 111, 114, 100, 101, 100, 44, 32, 105, 116, 32, 99, 97, 110, 110, 111, 116, 32, 98, 101, 32, 99, 104, 97, 110, 103, 101, 100, 32, 111, 114, 32, 116, 97, 109, 112, 101, 114, 101, 100, 32, 119, 105, 116, 104, 46, 32, 84, 104, 105, 115, 32, 108, 97, 121, 101, 114, 32, 101, 110, 104, 97, 110, 99, 101, 115, 32, 116, 114, 117, 115, 116, 32, 97, 109, 111, 110, 103, 32, 117, 115, 101, 114, 115, 44, 32, 97, 115, 32, 105, 116, 32, 97, 108, 108, 111, 119, 115, 32, 97, 110, 121, 111, 110, 101, 32, 116, 111, 32, 118, 101, 114, 105, 102, 121, 32, 116, 104, 101, 32, 97, 99, 116, 105, 111, 110, 115, 32, 116, 97, 107, 101, 110, 32, 119, 105, 116, 104, 32, 116, 104, 101, 105, 114, 32, 100, 97, 116, 97, 32, 97, 110, 100, 32, 101, 110, 115, 117, 114, 101, 115, 32, 116, 104, 97, 116, 32, 97, 108, 108, 32, 116, 114, 97, 110, 115, 97, 99, 116, 105, 111, 110, 115, 32, 97, 114, 101, 32, 99, 111, 110, 100, 117, 99, 116, 101, 100, 32, 102, 97, 105, 114, 108, 121, 32, 97, 110, 100, 32, 111, 112, 101, 110, 108, 121, 46, 32, 73, 110, 32, 101, 115, 115, 101, 110, 99, 101, 44, 32, 116, 104, 101, 32, 80, 114, 105, 115, 109, 111, 32, 65, 99, 99, 111, 117, 110, 116, 97, 98, 105, 108, 105, 116, 121, 32, 76, 97, 121, 101, 114, 32, 105, 115, 32, 100, 101, 115, 105, 103, 110, 101, 100, 32, 116, 111, 32, 102, 111, 115, 116, 101, 114, 32, 97, 32, 115, 101, 99, 117, 114, 101, 32, 101, 110, 118, 105, 114, 111, 110, 109, 101, 110, 116, 32, 102, 111, 114, 32, 100, 105, 103, 105, 116, 97, 108, 32, 105, 110, 116, 101, 114, 97, 99, 116, 105, 111, 110, 115, 44, 32, 114, 101, 105, 110, 102, 111, 114, 99, 105, 110, 103, 32, 80, 114, 105, 115, 109, 111, 39, 115, 32, 99, 111, 109, 109, 105, 116, 109, 101, 110, 116, 32, 116, 111, 32, 116, 114, 97, 110, 115, 112, 97, 114, 101, 110, 99, 121, 32, 97, 110, 100, 32, 105, 110, 116, 101, 103, 114, 105, 116, 121, 46]\n"
          ]
        }
      ],
      "source": [
        "print(f\"Encoded Text: {encoded_text}\")"
      ]
    },
    {
      "cell_type": "code",
      "execution_count": 15,
      "metadata": {
        "colab": {
          "base_uri": "https://localhost:8080/"
        },
        "id": "r9CgkRydxMTx",
        "outputId": "81602861-9a11-4e74-bc82-3cc0e39ef04c"
      },
      "outputs": [
        {
          "name": "stdout",
          "output_type": "stream",
          "text": [
            "Cipher Text: ['<Pyfhel Ciphertext at 0x7bc6704328e0, scheme=bfv, size=2/2, noiseBudget=361>', '<Pyfhel Ciphertext at 0x7bc66fcfcfe0, scheme=bfv, size=2/2, noiseBudget=361>', '<Pyfhel Ciphertext at 0x7bc66fcfe2a0, scheme=bfv, size=2/2, noiseBudget=361>', '<Pyfhel Ciphertext at 0x7bc66fcfe520, scheme=bfv, size=2/2, noiseBudget=361>', '<Pyfhel Ciphertext at 0x7bc66fcfd3f0, scheme=bfv, size=2/2, noiseBudget=361>', '<Pyfhel Ciphertext at 0x7bc66fcfd940, scheme=bfv, size=2/2, noiseBudget=361>', '<Pyfhel Ciphertext at 0x7bc6ae397ba0, scheme=bfv, size=2/2, noiseBudget=361>', '<Pyfhel Ciphertext at 0x7bc66fcfce00, scheme=bfv, size=2/2, noiseBudget=361>', '<Pyfhel Ciphertext at 0x7bc6704309f0, scheme=bfv, size=2/2, noiseBudget=361>', '<Pyfhel Ciphertext at 0x7bc66fcfc090, scheme=bfv, size=2/2, noiseBudget=361>', '<Pyfhel Ciphertext at 0x7bc66fcfcc70, scheme=bfv, size=2/2, noiseBudget=361>', '<Pyfhel Ciphertext at 0x7bc66fcffc40, scheme=bfv, size=2/2, noiseBudget=361>', '<Pyfhel Ciphertext at 0x7bc66fcff6f0, scheme=bfv, size=2/2, noiseBudget=361>', '<Pyfhel Ciphertext at 0x7bc66fcfe1b0, scheme=bfv, size=2/2, noiseBudget=361>', '<Pyfhel Ciphertext at 0x7bc66fcfc360, scheme=bfv, size=2/2, noiseBudget=361>', '<Pyfhel Ciphertext at 0x7bc66fcfeb60, scheme=bfv, size=2/2, noiseBudget=361>', '<Pyfhel Ciphertext at 0x7bc66fcfe930, scheme=bfv, size=2/2, noiseBudget=361>', '<Pyfhel Ciphertext at 0x7bc66fcfeac0, scheme=bfv, size=2/2, noiseBudget=361>', '<Pyfhel Ciphertext at 0x7bc66fcff3d0, scheme=bfv, size=2/2, noiseBudget=361>', '<Pyfhel Ciphertext at 0x7bc66fcfff60, scheme=bfv, size=2/2, noiseBudget=361>', '<Pyfhel Ciphertext at 0x7bc66fcfcea0, scheme=bfv, size=2/2, noiseBudget=361>', '<Pyfhel Ciphertext at 0x7bc66fcfccc0, scheme=bfv, size=2/2, noiseBudget=361>', '<Pyfhel Ciphertext at 0x7bc66fcff290, scheme=bfv, size=2/2, noiseBudget=361>', '<Pyfhel Ciphertext at 0x7bc670404c20, scheme=bfv, size=2/2, noiseBudget=361>', '<Pyfhel Ciphertext at 0x7bc66fcffba0, scheme=bfv, size=2/2, noiseBudget=361>', '<Pyfhel Ciphertext at 0x7bc66fcffd30, scheme=bfv, size=2/2, noiseBudget=361>', '<Pyfhel Ciphertext at 0x7bc66fcfea70, scheme=bfv, size=2/2, noiseBudget=361>', '<Pyfhel Ciphertext at 0x7bc66fcfd080, scheme=bfv, size=2/2, noiseBudget=361>', '<Pyfhel Ciphertext at 0x7bc66fcfdee0, scheme=bfv, size=2/2, noiseBudget=361>', '<Pyfhel Ciphertext at 0x7bc66fcffb00, scheme=bfv, size=2/2, noiseBudget=361>', '<Pyfhel Ciphertext at 0x7bc66fcffab0, scheme=bfv, size=2/2, noiseBudget=361>', '<Pyfhel Ciphertext at 0x7bc66fcfdcb0, scheme=bfv, size=2/2, noiseBudget=361>', '<Pyfhel Ciphertext at 0x7bc66fcffbf0, scheme=bfv, size=2/2, noiseBudget=361>', '<Pyfhel Ciphertext at 0x7bc66fcff880, scheme=bfv, size=2/2, noiseBudget=361>', '<Pyfhel Ciphertext at 0x7bc66fcff1a0, scheme=bfv, size=2/2, noiseBudget=361>', '<Pyfhel Ciphertext at 0x7bc66fcffe70, scheme=bfv, size=2/2, noiseBudget=361>', '<Pyfhel Ciphertext at 0x7bc66fcfec50, scheme=bfv, size=2/2, noiseBudget=361>', '<Pyfhel Ciphertext at 0x7bc66fcff7e0, scheme=bfv, size=2/2, noiseBudget=361>', '<Pyfhel Ciphertext at 0x7bc66fcffe20, scheme=bfv, size=2/2, noiseBudget=361>', '<Pyfhel Ciphertext at 0x7bc66fcffd80, scheme=bfv, size=2/2, noiseBudget=361>', '<Pyfhel Ciphertext at 0x7bc66fcffa10, scheme=bfv, size=2/2, noiseBudget=361>', '<Pyfhel Ciphertext at 0x7bc66fcff970, scheme=bfv, size=2/2, noiseBudget=361>', '<Pyfhel Ciphertext at 0x7bc66fcff8d0, scheme=bfv, size=2/2, noiseBudget=361>', '<Pyfhel Ciphertext at 0x7bc66fcfe9d0, scheme=bfv, size=2/2, noiseBudget=361>', '<Pyfhel Ciphertext at 0x7bc66fcff9c0, scheme=bfv, size=2/2, noiseBudget=361>', '<Pyfhel Ciphertext at 0x7bc66fcff830, scheme=bfv, size=2/2, noiseBudget=361>', '<Pyfhel Ciphertext at 0x7bc66fcfef70, scheme=bfv, size=2/2, noiseBudget=361>', '<Pyfhel Ciphertext at 0x7bc66fcfeed0, scheme=bfv, size=2/2, noiseBudget=361>', '<Pyfhel Ciphertext at 0x7bc66fcff4c0, scheme=bfv, size=2/2, noiseBudget=361>', '<Pyfhel Ciphertext at 0x7bc66fcff510, scheme=bfv, size=2/2, noiseBudget=361>', '<Pyfhel Ciphertext at 0x7bc66fcff420, scheme=bfv, size=2/2, noiseBudget=361>', '<Pyfhel Ciphertext at 0x7bc66fcff010, scheme=bfv, size=2/2, noiseBudget=361>', '<Pyfhel Ciphertext at 0x7bc66fcfeca0, scheme=bfv, size=2/2, noiseBudget=361>', '<Pyfhel Ciphertext at 0x7bc66fcff0b0, scheme=bfv, size=2/2, noiseBudget=361>', '<Pyfhel Ciphertext at 0x7bc66fcff060, scheme=bfv, size=2/2, noiseBudget=361>', '<Pyfhel Ciphertext at 0x7bc66fcfc0e0, scheme=bfv, size=2/2, noiseBudget=361>', '<Pyfhel Ciphertext at 0x7bc66fcfefc0, scheme=bfv, size=2/2, noiseBudget=361>', '<Pyfhel Ciphertext at 0x7bc66fcfdf30, scheme=bfv, size=2/2, noiseBudget=361>', '<Pyfhel Ciphertext at 0x7bc66fcfc6d0, scheme=bfv, size=2/2, noiseBudget=361>', '<Pyfhel Ciphertext at 0x7bc66fcfe070, scheme=bfv, size=2/2, noiseBudget=361>', '<Pyfhel Ciphertext at 0x7bc66fcfd4e0, scheme=bfv, size=2/2, noiseBudget=361>', '<Pyfhel Ciphertext at 0x7bc66fcfe200, scheme=bfv, size=2/2, noiseBudget=361>', '<Pyfhel Ciphertext at 0x7bc66fcfddf0, scheme=bfv, size=2/2, noiseBudget=361>', '<Pyfhel Ciphertext at 0x7bc66fcfe160, scheme=bfv, size=2/2, noiseBudget=361>', '<Pyfhel Ciphertext at 0x7bc66fcfe7a0, scheme=bfv, size=2/2, noiseBudget=361>', '<Pyfhel Ciphertext at 0x7bc66fcfe660, scheme=bfv, size=2/2, noiseBudget=361>', '<Pyfhel Ciphertext at 0x7bc66fcfe700, scheme=bfv, size=2/2, noiseBudget=361>', '<Pyfhel Ciphertext at 0x7bc66fcfe340, scheme=bfv, size=2/2, noiseBudget=361>', '<Pyfhel Ciphertext at 0x7bc66fcfdf80, scheme=bfv, size=2/2, noiseBudget=361>', '<Pyfhel Ciphertext at 0x7bc66fcfe3e0, scheme=bfv, size=2/2, noiseBudget=361>', '<Pyfhel Ciphertext at 0x7bc66fcfe2f0, scheme=bfv, size=2/2, noiseBudget=361>', '<Pyfhel Ciphertext at 0x7bc66fcfe390, scheme=bfv, size=2/2, noiseBudget=361>', '<Pyfhel Ciphertext at 0x7bc66fcfe250, scheme=bfv, size=2/2, noiseBudget=361>', '<Pyfhel Ciphertext at 0x7bc66fcfd670, scheme=bfv, size=2/2, noiseBudget=361>', '<Pyfhel Ciphertext at 0x7bc66fcfc810, scheme=bfv, size=2/2, noiseBudget=361>', '<Pyfhel Ciphertext at 0x7bc66fcfc040, scheme=bfv, size=2/2, noiseBudget=361>', '<Pyfhel Ciphertext at 0x7bc66fcfc5e0, scheme=bfv, size=2/2, noiseBudget=361>', '<Pyfhel Ciphertext at 0x7bc66fcfca40, scheme=bfv, size=2/2, noiseBudget=361>', '<Pyfhel Ciphertext at 0x7bc66fcfcae0, scheme=bfv, size=2/2, noiseBudget=361>', '<Pyfhel Ciphertext at 0x7bc66fcfdb20, scheme=bfv, size=2/2, noiseBudget=361>', '<Pyfhel Ciphertext at 0x7bc66fcfca90, scheme=bfv, size=2/2, noiseBudget=361>', '<Pyfhel Ciphertext at 0x7bc66fcfd6c0, scheme=bfv, size=2/2, noiseBudget=361>', '<Pyfhel Ciphertext at 0x7bc66fcfd5d0, scheme=bfv, size=2/2, noiseBudget=361>', '<Pyfhel Ciphertext at 0x7bc66fcfdbc0, scheme=bfv, size=2/2, noiseBudget=361>', '<Pyfhel Ciphertext at 0x7bc66fcfd260, scheme=bfv, size=2/2, noiseBudget=361>', '<Pyfhel Ciphertext at 0x7bc66fcfd800, scheme=bfv, size=2/2, noiseBudget=361>', '<Pyfhel Ciphertext at 0x7bc66fcfd850, scheme=bfv, size=2/2, noiseBudget=361>', '<Pyfhel Ciphertext at 0x7bc66fcfcd60, scheme=bfv, size=2/2, noiseBudget=361>', '<Pyfhel Ciphertext at 0x7bc66fcfd760, scheme=bfv, size=2/2, noiseBudget=361>', '<Pyfhel Ciphertext at 0x7bc66fcfd170, scheme=bfv, size=2/2, noiseBudget=361>', '<Pyfhel Ciphertext at 0x7bc66fcfc450, scheme=bfv, size=2/2, noiseBudget=361>', '<Pyfhel Ciphertext at 0x7bc66fcfd350, scheme=bfv, size=2/2, noiseBudget=361>', '<Pyfhel Ciphertext at 0x7bc66fcfd300, scheme=bfv, size=2/2, noiseBudget=361>', '<Pyfhel Ciphertext at 0x7bc66fcfc270, scheme=bfv, size=2/2, noiseBudget=361>', '<Pyfhel Ciphertext at 0x7bc66fcfd210, scheme=bfv, size=2/2, noiseBudget=361>', '<Pyfhel Ciphertext at 0x7bc66fcfc400, scheme=bfv, size=2/2, noiseBudget=361>', '<Pyfhel Ciphertext at 0x7bc66fcfc4a0, scheme=bfv, size=2/2, noiseBudget=361>', '<Pyfhel Ciphertext at 0x7bc66fcfcf40, scheme=bfv, size=2/2, noiseBudget=361>', '<Pyfhel Ciphertext at 0x7bc66fcfcef0, scheme=bfv, size=2/2, noiseBudget=361>', '<Pyfhel Ciphertext at 0x7bc67d121c10, scheme=bfv, size=2/2, noiseBudget=361>', '<Pyfhel Ciphertext at 0x7bc67d121cb0, scheme=bfv, size=2/2, noiseBudget=361>', '<Pyfhel Ciphertext at 0x7bc67d1223e0, scheme=bfv, size=2/2, noiseBudget=361>', '<Pyfhel Ciphertext at 0x7bc67d122070, scheme=bfv, size=2/2, noiseBudget=361>', '<Pyfhel Ciphertext at 0x7bc67d121b20, scheme=bfv, size=2/2, noiseBudget=361>', '<Pyfhel Ciphertext at 0x7bc6ae4ac360, scheme=bfv, size=2/2, noiseBudget=361>', '<Pyfhel Ciphertext at 0x7bc670493970, scheme=bfv, size=2/2, noiseBudget=361>', '<Pyfhel Ciphertext at 0x7bc670493c90, scheme=bfv, size=2/2, noiseBudget=361>', '<Pyfhel Ciphertext at 0x7bc6704935b0, scheme=bfv, size=2/2, noiseBudget=361>', '<Pyfhel Ciphertext at 0x7bc6704927a0, scheme=bfv, size=2/2, noiseBudget=361>', '<Pyfhel Ciphertext at 0x7bc670493e70, scheme=bfv, size=2/2, noiseBudget=361>', '<Pyfhel Ciphertext at 0x7bc670491f80, scheme=bfv, size=2/2, noiseBudget=361>', '<Pyfhel Ciphertext at 0x7bc670492c50, scheme=bfv, size=2/2, noiseBudget=361>', '<Pyfhel Ciphertext at 0x7bc670492ca0, scheme=bfv, size=2/2, noiseBudget=361>', '<Pyfhel Ciphertext at 0x7bc670491cb0, scheme=bfv, size=2/2, noiseBudget=361>', '<Pyfhel Ciphertext at 0x7bc670493f60, scheme=bfv, size=2/2, noiseBudget=361>', '<Pyfhel Ciphertext at 0x7bc670492110, scheme=bfv, size=2/2, noiseBudget=361>', '<Pyfhel Ciphertext at 0x7bc670493e20, scheme=bfv, size=2/2, noiseBudget=361>', '<Pyfhel Ciphertext at 0x7bc670493d80, scheme=bfv, size=2/2, noiseBudget=361>', '<Pyfhel Ciphertext at 0x7bc670493ec0, scheme=bfv, size=2/2, noiseBudget=361>', '<Pyfhel Ciphertext at 0x7bc670491df0, scheme=bfv, size=2/2, noiseBudget=361>', '<Pyfhel Ciphertext at 0x7bc66fcfc630, scheme=bfv, size=2/2, noiseBudget=361>', '<Pyfhel Ciphertext at 0x7bc66fcfce50, scheme=bfv, size=2/2, noiseBudget=361>', '<Pyfhel Ciphertext at 0x7bc670492700, scheme=bfv, size=2/2, noiseBudget=361>', '<Pyfhel Ciphertext at 0x7bc670491940, scheme=bfv, size=2/2, noiseBudget=361>', '<Pyfhel Ciphertext at 0x7bc6704918a0, scheme=bfv, size=2/2, noiseBudget=361>', '<Pyfhel Ciphertext at 0x7bc670493060, scheme=bfv, size=2/2, noiseBudget=361>', '<Pyfhel Ciphertext at 0x7bc670492340, scheme=bfv, size=2/2, noiseBudget=361>', '<Pyfhel Ciphertext at 0x7bc6704927f0, scheme=bfv, size=2/2, noiseBudget=361>', '<Pyfhel Ciphertext at 0x7bc670493f10, scheme=bfv, size=2/2, noiseBudget=361>', '<Pyfhel Ciphertext at 0x7bc670491bc0, scheme=bfv, size=2/2, noiseBudget=361>', '<Pyfhel Ciphertext at 0x7bc670493b00, scheme=bfv, size=2/2, noiseBudget=361>', '<Pyfhel Ciphertext at 0x7bc6704936a0, scheme=bfv, size=2/2, noiseBudget=361>', '<Pyfhel Ciphertext at 0x7bc670493920, scheme=bfv, size=2/2, noiseBudget=361>', '<Pyfhel Ciphertext at 0x7bc670493fb0, scheme=bfv, size=2/2, noiseBudget=361>', '<Pyfhel Ciphertext at 0x7bc670491e40, scheme=bfv, size=2/2, noiseBudget=361>', '<Pyfhel Ciphertext at 0x7bc670491d50, scheme=bfv, size=2/2, noiseBudget=361>', '<Pyfhel Ciphertext at 0x7bc670493290, scheme=bfv, size=2/2, noiseBudget=361>', '<Pyfhel Ciphertext at 0x7bc6704939c0, scheme=bfv, size=2/2, noiseBudget=361>', '<Pyfhel Ciphertext at 0x7bc670493880, scheme=bfv, size=2/2, noiseBudget=361>', '<Pyfhel Ciphertext at 0x7bc670493d30, scheme=bfv, size=2/2, noiseBudget=361>', '<Pyfhel Ciphertext at 0x7bc670493ce0, scheme=bfv, size=2/2, noiseBudget=361>', '<Pyfhel Ciphertext at 0x7bc670493830, scheme=bfv, size=2/2, noiseBudget=361>', '<Pyfhel Ciphertext at 0x7bc670493740, scheme=bfv, size=2/2, noiseBudget=361>', '<Pyfhel Ciphertext at 0x7bc670493a60, scheme=bfv, size=2/2, noiseBudget=361>', '<Pyfhel Ciphertext at 0x7bc670493600, scheme=bfv, size=2/2, noiseBudget=361>', '<Pyfhel Ciphertext at 0x7bc670493560, scheme=bfv, size=2/2, noiseBudget=361>', '<Pyfhel Ciphertext at 0x7bc670493a10, scheme=bfv, size=2/2, noiseBudget=361>', '<Pyfhel Ciphertext at 0x7bc6704928e0, scheme=bfv, size=2/2, noiseBudget=361>', '<Pyfhel Ciphertext at 0x7bc670492930, scheme=bfv, size=2/2, noiseBudget=361>', '<Pyfhel Ciphertext at 0x7bc670492200, scheme=bfv, size=2/2, noiseBudget=361>', '<Pyfhel Ciphertext at 0x7bc6704925c0, scheme=bfv, size=2/2, noiseBudget=361>', '<Pyfhel Ciphertext at 0x7bc670491a30, scheme=bfv, size=2/2, noiseBudget=361>', '<Pyfhel Ciphertext at 0x7bc6704924d0, scheme=bfv, size=2/2, noiseBudget=361>', '<Pyfhel Ciphertext at 0x7bc670493bf0, scheme=bfv, size=2/2, noiseBudget=361>', '<Pyfhel Ciphertext at 0x7bc670493ba0, scheme=bfv, size=2/2, noiseBudget=361>', '<Pyfhel Ciphertext at 0x7bc6ad1f0b80, scheme=bfv, size=2/2, noiseBudget=361>', '<Pyfhel Ciphertext at 0x7bc6703c22f0, scheme=bfv, size=2/2, noiseBudget=361>', '<Pyfhel Ciphertext at 0x7bc6703c0e50, scheme=bfv, size=2/2, noiseBudget=361>', '<Pyfhel Ciphertext at 0x7bc6703f29d0, scheme=bfv, size=2/2, noiseBudget=361>', '<Pyfhel Ciphertext at 0x7bc6703f27a0, scheme=bfv, size=2/2, noiseBudget=361>', '<Pyfhel Ciphertext at 0x7bc676033560, scheme=bfv, size=2/2, noiseBudget=361>', '<Pyfhel Ciphertext at 0x7bc6703d5530, scheme=bfv, size=2/2, noiseBudget=361>', '<Pyfhel Ciphertext at 0x7bc6703d71a0, scheme=bfv, size=2/2, noiseBudget=361>', '<Pyfhel Ciphertext at 0x7bc6703d77e0, scheme=bfv, size=2/2, noiseBudget=361>', '<Pyfhel Ciphertext at 0x7bc6703d5990, scheme=bfv, size=2/2, noiseBudget=361>', '<Pyfhel Ciphertext at 0x7bc6703d48b0, scheme=bfv, size=2/2, noiseBudget=361>', '<Pyfhel Ciphertext at 0x7bc6729313a0, scheme=bfv, size=2/2, noiseBudget=361>', '<Pyfhel Ciphertext at 0x7bc672954360, scheme=bfv, size=2/2, noiseBudget=361>', '<Pyfhel Ciphertext at 0x7bc67d1eb9c0, scheme=bfv, size=2/2, noiseBudget=361>', '<Pyfhel Ciphertext at 0x7bc670424450, scheme=bfv, size=2/2, noiseBudget=361>', '<Pyfhel Ciphertext at 0x7bc66fbc4180, scheme=bfv, size=2/2, noiseBudget=361>', '<Pyfhel Ciphertext at 0x7bc66fbc67a0, scheme=bfv, size=2/2, noiseBudget=361>', '<Pyfhel Ciphertext at 0x7bc66fbc46d0, scheme=bfv, size=2/2, noiseBudget=361>', '<Pyfhel Ciphertext at 0x7bc66fbc51c0, scheme=bfv, size=2/2, noiseBudget=361>', '<Pyfhel Ciphertext at 0x7bc66fbc4b30, scheme=bfv, size=2/2, noiseBudget=361>', '<Pyfhel Ciphertext at 0x7bc66fbc4c70, scheme=bfv, size=2/2, noiseBudget=361>', '<Pyfhel Ciphertext at 0x7bc66fbc4c20, scheme=bfv, size=2/2, noiseBudget=361>', '<Pyfhel Ciphertext at 0x7bc66fbc4220, scheme=bfv, size=2/2, noiseBudget=361>', '<Pyfhel Ciphertext at 0x7bc66fbc41d0, scheme=bfv, size=2/2, noiseBudget=361>', '<Pyfhel Ciphertext at 0x7bc66fbc44f0, scheme=bfv, size=2/2, noiseBudget=361>', '<Pyfhel Ciphertext at 0x7bc66fbc4630, scheme=bfv, size=2/2, noiseBudget=361>', '<Pyfhel Ciphertext at 0x7bc66fbc4900, scheme=bfv, size=2/2, noiseBudget=361>', '<Pyfhel Ciphertext at 0x7bc66fbc6890, scheme=bfv, size=2/2, noiseBudget=361>', '<Pyfhel Ciphertext at 0x7bc66fbc54e0, scheme=bfv, size=2/2, noiseBudget=361>', '<Pyfhel Ciphertext at 0x7bc66fbc68e0, scheme=bfv, size=2/2, noiseBudget=361>', '<Pyfhel Ciphertext at 0x7bc66fbc6840, scheme=bfv, size=2/2, noiseBudget=361>', '<Pyfhel Ciphertext at 0x7bc66fbc6930, scheme=bfv, size=2/2, noiseBudget=361>', '<Pyfhel Ciphertext at 0x7bc66fbc6980, scheme=bfv, size=2/2, noiseBudget=361>', '<Pyfhel Ciphertext at 0x7bc66fbc69d0, scheme=bfv, size=2/2, noiseBudget=361>', '<Pyfhel Ciphertext at 0x7bc66fbc6a20, scheme=bfv, size=2/2, noiseBudget=361>', '<Pyfhel Ciphertext at 0x7bc66fbc6a70, scheme=bfv, size=2/2, noiseBudget=361>', '<Pyfhel Ciphertext at 0x7bc66fbc6ac0, scheme=bfv, size=2/2, noiseBudget=361>', '<Pyfhel Ciphertext at 0x7bc66fbc6b10, scheme=bfv, size=2/2, noiseBudget=361>', '<Pyfhel Ciphertext at 0x7bc66fbc6ca0, scheme=bfv, size=2/2, noiseBudget=361>', '<Pyfhel Ciphertext at 0x7bc66fbc6cf0, scheme=bfv, size=2/2, noiseBudget=361>', '<Pyfhel Ciphertext at 0x7bc66fbc6d40, scheme=bfv, size=2/2, noiseBudget=361>', '<Pyfhel Ciphertext at 0x7bc66fbc6d90, scheme=bfv, size=2/2, noiseBudget=361>', '<Pyfhel Ciphertext at 0x7bc66fbc6de0, scheme=bfv, size=2/2, noiseBudget=361>', '<Pyfhel Ciphertext at 0x7bc66fbc6e30, scheme=bfv, size=2/2, noiseBudget=361>', '<Pyfhel Ciphertext at 0x7bc66fbc6e80, scheme=bfv, size=2/2, noiseBudget=361>', '<Pyfhel Ciphertext at 0x7bc66fbc6ed0, scheme=bfv, size=2/2, noiseBudget=361>', '<Pyfhel Ciphertext at 0x7bc66fbc6f20, scheme=bfv, size=2/2, noiseBudget=361>', '<Pyfhel Ciphertext at 0x7bc66fbc6f70, scheme=bfv, size=2/2, noiseBudget=361>', '<Pyfhel Ciphertext at 0x7bc66fbc6fc0, scheme=bfv, size=2/2, noiseBudget=361>', '<Pyfhel Ciphertext at 0x7bc672931080, scheme=bfv, size=2/2, noiseBudget=361>', '<Pyfhel Ciphertext at 0x7bc66fbc6c50, scheme=bfv, size=2/2, noiseBudget=361>', '<Pyfhel Ciphertext at 0x7bc66fbc6bb0, scheme=bfv, size=2/2, noiseBudget=361>', '<Pyfhel Ciphertext at 0x7bc66fcfc7c0, scheme=bfv, size=2/2, noiseBudget=361>', '<Pyfhel Ciphertext at 0x7bc670493240, scheme=bfv, size=2/2, noiseBudget=361>', '<Pyfhel Ciphertext at 0x7bc670493c40, scheme=bfv, size=2/2, noiseBudget=361>', '<Pyfhel Ciphertext at 0x7bc66fbc7060, scheme=bfv, size=2/2, noiseBudget=361>', '<Pyfhel Ciphertext at 0x7bc66fbc70b0, scheme=bfv, size=2/2, noiseBudget=361>', '<Pyfhel Ciphertext at 0x7bc66fbc7010, scheme=bfv, size=2/2, noiseBudget=361>', '<Pyfhel Ciphertext at 0x7bc66fbc7100, scheme=bfv, size=2/2, noiseBudget=361>', '<Pyfhel Ciphertext at 0x7bc66fbc7150, scheme=bfv, size=2/2, noiseBudget=361>', '<Pyfhel Ciphertext at 0x7bc66fbc71a0, scheme=bfv, size=2/2, noiseBudget=361>', '<Pyfhel Ciphertext at 0x7bc66fbc71f0, scheme=bfv, size=2/2, noiseBudget=361>', '<Pyfhel Ciphertext at 0x7bc66fbc72e0, scheme=bfv, size=2/2, noiseBudget=361>', '<Pyfhel Ciphertext at 0x7bc66fbc7240, scheme=bfv, size=2/2, noiseBudget=361>', '<Pyfhel Ciphertext at 0x7bc66fbc7290, scheme=bfv, size=2/2, noiseBudget=361>', '<Pyfhel Ciphertext at 0x7bc66fbc7330, scheme=bfv, size=2/2, noiseBudget=361>', '<Pyfhel Ciphertext at 0x7bc66fbc7380, scheme=bfv, size=2/2, noiseBudget=361>', '<Pyfhel Ciphertext at 0x7bc66fbc73d0, scheme=bfv, size=2/2, noiseBudget=361>', '<Pyfhel Ciphertext at 0x7bc66fbc7420, scheme=bfv, size=2/2, noiseBudget=361>', '<Pyfhel Ciphertext at 0x7bc66fbc7470, scheme=bfv, size=2/2, noiseBudget=361>', '<Pyfhel Ciphertext at 0x7bc66fbc74c0, scheme=bfv, size=2/2, noiseBudget=361>', '<Pyfhel Ciphertext at 0x7bc66fbc7510, scheme=bfv, size=2/2, noiseBudget=361>', '<Pyfhel Ciphertext at 0x7bc66fbc7560, scheme=bfv, size=2/2, noiseBudget=361>', '<Pyfhel Ciphertext at 0x7bc66fbc75b0, scheme=bfv, size=2/2, noiseBudget=361>', '<Pyfhel Ciphertext at 0x7bc66fbc7600, scheme=bfv, size=2/2, noiseBudget=361>', '<Pyfhel Ciphertext at 0x7bc66fbc76f0, scheme=bfv, size=2/2, noiseBudget=361>', '<Pyfhel Ciphertext at 0x7bc66fbc7650, scheme=bfv, size=2/2, noiseBudget=361>', '<Pyfhel Ciphertext at 0x7bc66fbc76a0, scheme=bfv, size=2/2, noiseBudget=361>', '<Pyfhel Ciphertext at 0x7bc66fbc7740, scheme=bfv, size=2/2, noiseBudget=361>', '<Pyfhel Ciphertext at 0x7bc66fbc7790, scheme=bfv, size=2/2, noiseBudget=361>', '<Pyfhel Ciphertext at 0x7bc66fbc77e0, scheme=bfv, size=2/2, noiseBudget=361>', '<Pyfhel Ciphertext at 0x7bc66fbc7830, scheme=bfv, size=2/2, noiseBudget=361>', '<Pyfhel Ciphertext at 0x7bc66fbc7880, scheme=bfv, size=2/2, noiseBudget=361>', '<Pyfhel Ciphertext at 0x7bc66fbc78d0, scheme=bfv, size=2/2, noiseBudget=361>', '<Pyfhel Ciphertext at 0x7bc66fbc7920, scheme=bfv, size=2/2, noiseBudget=361>', '<Pyfhel Ciphertext at 0x7bc66fbc7970, scheme=bfv, size=2/2, noiseBudget=361>', '<Pyfhel Ciphertext at 0x7bc66fbc79c0, scheme=bfv, size=2/2, noiseBudget=361>', '<Pyfhel Ciphertext at 0x7bc66fbc7a10, scheme=bfv, size=2/2, noiseBudget=361>', '<Pyfhel Ciphertext at 0x7bc66fbc7ba0, scheme=bfv, size=2/2, noiseBudget=361>', '<Pyfhel Ciphertext at 0x7bc66fbc7bf0, scheme=bfv, size=2/2, noiseBudget=361>', '<Pyfhel Ciphertext at 0x7bc66fbc7c40, scheme=bfv, size=2/2, noiseBudget=361>', '<Pyfhel Ciphertext at 0x7bc66fbc7b50, scheme=bfv, size=2/2, noiseBudget=361>', '<Pyfhel Ciphertext at 0x7bc66fbc7ab0, scheme=bfv, size=2/2, noiseBudget=361>', '<Pyfhel Ciphertext at 0x7bc66fbc7a60, scheme=bfv, size=2/2, noiseBudget=361>', '<Pyfhel Ciphertext at 0x7bc66fbc7ce0, scheme=bfv, size=2/2, noiseBudget=361>', '<Pyfhel Ciphertext at 0x7bc66fbc7d80, scheme=bfv, size=2/2, noiseBudget=361>', '<Pyfhel Ciphertext at 0x7bc66fbc7dd0, scheme=bfv, size=2/2, noiseBudget=361>', '<Pyfhel Ciphertext at 0x7bc66fbc7b00, scheme=bfv, size=2/2, noiseBudget=361>', '<Pyfhel Ciphertext at 0x7bc66fbc7e20, scheme=bfv, size=2/2, noiseBudget=361>', '<Pyfhel Ciphertext at 0x7bc66fbc7e70, scheme=bfv, size=2/2, noiseBudget=361>', '<Pyfhel Ciphertext at 0x7bc66fbc7ec0, scheme=bfv, size=2/2, noiseBudget=361>', '<Pyfhel Ciphertext at 0x7bc66fbc7f10, scheme=bfv, size=2/2, noiseBudget=361>', '<Pyfhel Ciphertext at 0x7bc66fbc7f60, scheme=bfv, size=2/2, noiseBudget=361>', '<Pyfhel Ciphertext at 0x7bc66fbc7fb0, scheme=bfv, size=2/2, noiseBudget=361>', '<Pyfhel Ciphertext at 0x7bc66fcac040, scheme=bfv, size=2/2, noiseBudget=361>', '<Pyfhel Ciphertext at 0x7bc66fcac090, scheme=bfv, size=2/2, noiseBudget=361>', '<Pyfhel Ciphertext at 0x7bc66fcac0e0, scheme=bfv, size=2/2, noiseBudget=361>', '<Pyfhel Ciphertext at 0x7bc66fcac130, scheme=bfv, size=2/2, noiseBudget=361>', '<Pyfhel Ciphertext at 0x7bc66fcac180, scheme=bfv, size=2/2, noiseBudget=361>', '<Pyfhel Ciphertext at 0x7bc66fcac1d0, scheme=bfv, size=2/2, noiseBudget=361>', '<Pyfhel Ciphertext at 0x7bc66fcac220, scheme=bfv, size=2/2, noiseBudget=361>', '<Pyfhel Ciphertext at 0x7bc66fcac270, scheme=bfv, size=2/2, noiseBudget=361>', '<Pyfhel Ciphertext at 0x7bc66fcac2c0, scheme=bfv, size=2/2, noiseBudget=361>', '<Pyfhel Ciphertext at 0x7bc66fcac310, scheme=bfv, size=2/2, noiseBudget=361>', '<Pyfhel Ciphertext at 0x7bc66fcac360, scheme=bfv, size=2/2, noiseBudget=361>', '<Pyfhel Ciphertext at 0x7bc66fcac3b0, scheme=bfv, size=2/2, noiseBudget=361>', '<Pyfhel Ciphertext at 0x7bc66fcac400, scheme=bfv, size=2/2, noiseBudget=361>', '<Pyfhel Ciphertext at 0x7bc66fcac4f0, scheme=bfv, size=2/2, noiseBudget=361>', '<Pyfhel Ciphertext at 0x7bc66fcac450, scheme=bfv, size=2/2, noiseBudget=361>', '<Pyfhel Ciphertext at 0x7bc66fcac4a0, scheme=bfv, size=2/2, noiseBudget=361>', '<Pyfhel Ciphertext at 0x7bc66fcac540, scheme=bfv, size=2/2, noiseBudget=361>', '<Pyfhel Ciphertext at 0x7bc66fcac590, scheme=bfv, size=2/2, noiseBudget=361>', '<Pyfhel Ciphertext at 0x7bc66fcac5e0, scheme=bfv, size=2/2, noiseBudget=361>', '<Pyfhel Ciphertext at 0x7bc66fcac630, scheme=bfv, size=2/2, noiseBudget=361>', '<Pyfhel Ciphertext at 0x7bc66fcac680, scheme=bfv, size=2/2, noiseBudget=361>', '<Pyfhel Ciphertext at 0x7bc66fcac6d0, scheme=bfv, size=2/2, noiseBudget=361>', '<Pyfhel Ciphertext at 0x7bc66fcac720, scheme=bfv, size=2/2, noiseBudget=361>', '<Pyfhel Ciphertext at 0x7bc66fcac770, scheme=bfv, size=2/2, noiseBudget=361>', '<Pyfhel Ciphertext at 0x7bc66fcac7c0, scheme=bfv, size=2/2, noiseBudget=361>', '<Pyfhel Ciphertext at 0x7bc6704934c0, scheme=bfv, size=2/2, noiseBudget=361>', '<Pyfhel Ciphertext at 0x7bc66fcac8b0, scheme=bfv, size=2/2, noiseBudget=361>', '<Pyfhel Ciphertext at 0x7bc6703c18f0, scheme=bfv, size=2/2, noiseBudget=361>', '<Pyfhel Ciphertext at 0x7bc66fcac900, scheme=bfv, size=2/2, noiseBudget=361>', '<Pyfhel Ciphertext at 0x7bc66fcac9a0, scheme=bfv, size=2/2, noiseBudget=361>', '<Pyfhel Ciphertext at 0x7bc66fcac9f0, scheme=bfv, size=2/2, noiseBudget=361>', '<Pyfhel Ciphertext at 0x7bc66fcac810, scheme=bfv, size=2/2, noiseBudget=361>', '<Pyfhel Ciphertext at 0x7bc66fcaca40, scheme=bfv, size=2/2, noiseBudget=361>', '<Pyfhel Ciphertext at 0x7bc66fcacb30, scheme=bfv, size=2/2, noiseBudget=361>', '<Pyfhel Ciphertext at 0x7bc66fcaca90, scheme=bfv, size=2/2, noiseBudget=361>', '<Pyfhel Ciphertext at 0x7bc66fcacae0, scheme=bfv, size=2/2, noiseBudget=361>', '<Pyfhel Ciphertext at 0x7bc66fcacb80, scheme=bfv, size=2/2, noiseBudget=361>', '<Pyfhel Ciphertext at 0x7bc66fcacbd0, scheme=bfv, size=2/2, noiseBudget=361>', '<Pyfhel Ciphertext at 0x7bc66fcacc20, scheme=bfv, size=2/2, noiseBudget=361>', '<Pyfhel Ciphertext at 0x7bc66fcacc70, scheme=bfv, size=2/2, noiseBudget=361>', '<Pyfhel Ciphertext at 0x7bc66fcaccc0, scheme=bfv, size=2/2, noiseBudget=361>', '<Pyfhel Ciphertext at 0x7bc66fcacd10, scheme=bfv, size=2/2, noiseBudget=361>', '<Pyfhel Ciphertext at 0x7bc66fcace00, scheme=bfv, size=2/2, noiseBudget=361>', '<Pyfhel Ciphertext at 0x7bc66fcacd60, scheme=bfv, size=2/2, noiseBudget=361>', '<Pyfhel Ciphertext at 0x7bc66fcacdb0, scheme=bfv, size=2/2, noiseBudget=361>', '<Pyfhel Ciphertext at 0x7bc66fcace50, scheme=bfv, size=2/2, noiseBudget=361>', '<Pyfhel Ciphertext at 0x7bc66fcacea0, scheme=bfv, size=2/2, noiseBudget=361>', '<Pyfhel Ciphertext at 0x7bc66fcacef0, scheme=bfv, size=2/2, noiseBudget=361>', '<Pyfhel Ciphertext at 0x7bc66fcacf40, scheme=bfv, size=2/2, noiseBudget=361>', '<Pyfhel Ciphertext at 0x7bc66fcacf90, scheme=bfv, size=2/2, noiseBudget=361>', '<Pyfhel Ciphertext at 0x7bc66fcacfe0, scheme=bfv, size=2/2, noiseBudget=361>', '<Pyfhel Ciphertext at 0x7bc66fcad0d0, scheme=bfv, size=2/2, noiseBudget=361>', '<Pyfhel Ciphertext at 0x7bc66fcad080, scheme=bfv, size=2/2, noiseBudget=361>', '<Pyfhel Ciphertext at 0x7bc67d1eb4c0, scheme=bfv, size=2/2, noiseBudget=361>', '<Pyfhel Ciphertext at 0x7bc66fcad170, scheme=bfv, size=2/2, noiseBudget=361>', '<Pyfhel Ciphertext at 0x7bc66fcad120, scheme=bfv, size=2/2, noiseBudget=361>', '<Pyfhel Ciphertext at 0x7bc66fcad1c0, scheme=bfv, size=2/2, noiseBudget=361>', '<Pyfhel Ciphertext at 0x7bc66fcad260, scheme=bfv, size=2/2, noiseBudget=361>', '<Pyfhel Ciphertext at 0x7bc66fcad2b0, scheme=bfv, size=2/2, noiseBudget=361>', '<Pyfhel Ciphertext at 0x7bc66fcad3a0, scheme=bfv, size=2/2, noiseBudget=361>', '<Pyfhel Ciphertext at 0x7bc66fcad300, scheme=bfv, size=2/2, noiseBudget=361>', '<Pyfhel Ciphertext at 0x7bc66fcad350, scheme=bfv, size=2/2, noiseBudget=361>', '<Pyfhel Ciphertext at 0x7bc66fcad3f0, scheme=bfv, size=2/2, noiseBudget=361>', '<Pyfhel Ciphertext at 0x7bc66fcad440, scheme=bfv, size=2/2, noiseBudget=361>', '<Pyfhel Ciphertext at 0x7bc66fcad490, scheme=bfv, size=2/2, noiseBudget=361>', '<Pyfhel Ciphertext at 0x7bc66fcad4e0, scheme=bfv, size=2/2, noiseBudget=361>', '<Pyfhel Ciphertext at 0x7bc66fcad530, scheme=bfv, size=2/2, noiseBudget=361>', '<Pyfhel Ciphertext at 0x7bc66fcad580, scheme=bfv, size=2/2, noiseBudget=361>', '<Pyfhel Ciphertext at 0x7bc66fcad670, scheme=bfv, size=2/2, noiseBudget=361>', '<Pyfhel Ciphertext at 0x7bc66fcad620, scheme=bfv, size=2/2, noiseBudget=361>', '<Pyfhel Ciphertext at 0x7bc66fcfc680, scheme=bfv, size=2/2, noiseBudget=361>', '<Pyfhel Ciphertext at 0x7bc66fcad710, scheme=bfv, size=2/2, noiseBudget=361>', '<Pyfhel Ciphertext at 0x7bc66fcad6c0, scheme=bfv, size=2/2, noiseBudget=361>', '<Pyfhel Ciphertext at 0x7bc66fcad760, scheme=bfv, size=2/2, noiseBudget=361>', '<Pyfhel Ciphertext at 0x7bc66fcad800, scheme=bfv, size=2/2, noiseBudget=361>', '<Pyfhel Ciphertext at 0x7bc66fcad850, scheme=bfv, size=2/2, noiseBudget=361>', '<Pyfhel Ciphertext at 0x7bc66fcad8a0, scheme=bfv, size=2/2, noiseBudget=361>', '<Pyfhel Ciphertext at 0x7bc66fcad990, scheme=bfv, size=2/2, noiseBudget=361>', '<Pyfhel Ciphertext at 0x7bc66fcad8f0, scheme=bfv, size=2/2, noiseBudget=361>', '<Pyfhel Ciphertext at 0x7bc66fcad940, scheme=bfv, size=2/2, noiseBudget=361>', '<Pyfhel Ciphertext at 0x7bc66fcad9e0, scheme=bfv, size=2/2, noiseBudget=361>', '<Pyfhel Ciphertext at 0x7bc66fcada30, scheme=bfv, size=2/2, noiseBudget=361>', '<Pyfhel Ciphertext at 0x7bc66fcada80, scheme=bfv, size=2/2, noiseBudget=361>', '<Pyfhel Ciphertext at 0x7bc66fcadad0, scheme=bfv, size=2/2, noiseBudget=361>', '<Pyfhel Ciphertext at 0x7bc66fcadb20, scheme=bfv, size=2/2, noiseBudget=361>', '<Pyfhel Ciphertext at 0x7bc66fcadb70, scheme=bfv, size=2/2, noiseBudget=361>', '<Pyfhel Ciphertext at 0x7bc66fcadc60, scheme=bfv, size=2/2, noiseBudget=361>', '<Pyfhel Ciphertext at 0x7bc66fcadbc0, scheme=bfv, size=2/2, noiseBudget=361>', '<Pyfhel Ciphertext at 0x7bc66fcadc10, scheme=bfv, size=2/2, noiseBudget=361>', '<Pyfhel Ciphertext at 0x7bc66fcadcb0, scheme=bfv, size=2/2, noiseBudget=361>', '<Pyfhel Ciphertext at 0x7bc66fcadd00, scheme=bfv, size=2/2, noiseBudget=361>', '<Pyfhel Ciphertext at 0x7bc66fcadd50, scheme=bfv, size=2/2, noiseBudget=361>', '<Pyfhel Ciphertext at 0x7bc66fcadda0, scheme=bfv, size=2/2, noiseBudget=361>', '<Pyfhel Ciphertext at 0x7bc66fcaddf0, scheme=bfv, size=2/2, noiseBudget=361>', '<Pyfhel Ciphertext at 0x7bc66fcade40, scheme=bfv, size=2/2, noiseBudget=361>', '<Pyfhel Ciphertext at 0x7bc66fcadf30, scheme=bfv, size=2/2, noiseBudget=361>', '<Pyfhel Ciphertext at 0x7bc66fcadee0, scheme=bfv, size=2/2, noiseBudget=361>', '<Pyfhel Ciphertext at 0x7bc66fcadf80, scheme=bfv, size=2/2, noiseBudget=361>', '<Pyfhel Ciphertext at 0x7bc66fcae020, scheme=bfv, size=2/2, noiseBudget=361>', '<Pyfhel Ciphertext at 0x7bc66fcae070, scheme=bfv, size=2/2, noiseBudget=361>', '<Pyfhel Ciphertext at 0x7bc66fcad7b0, scheme=bfv, size=2/2, noiseBudget=361>', '<Pyfhel Ciphertext at 0x7bc66fcae0c0, scheme=bfv, size=2/2, noiseBudget=361>', '<Pyfhel Ciphertext at 0x7bc66fcae110, scheme=bfv, size=2/2, noiseBudget=361>', '<Pyfhel Ciphertext at 0x7bc66fcae160, scheme=bfv, size=2/2, noiseBudget=361>', '<Pyfhel Ciphertext at 0x7bc66fcae250, scheme=bfv, size=2/2, noiseBudget=361>', '<Pyfhel Ciphertext at 0x7bc66fcae1b0, scheme=bfv, size=2/2, noiseBudget=361>', '<Pyfhel Ciphertext at 0x7bc66fcae200, scheme=bfv, size=2/2, noiseBudget=361>', '<Pyfhel Ciphertext at 0x7bc66fcae2a0, scheme=bfv, size=2/2, noiseBudget=361>', '<Pyfhel Ciphertext at 0x7bc66fcae2f0, scheme=bfv, size=2/2, noiseBudget=361>', '<Pyfhel Ciphertext at 0x7bc66fcae340, scheme=bfv, size=2/2, noiseBudget=361>', '<Pyfhel Ciphertext at 0x7bc66fcae390, scheme=bfv, size=2/2, noiseBudget=361>', '<Pyfhel Ciphertext at 0x7bc66fcae3e0, scheme=bfv, size=2/2, noiseBudget=361>', '<Pyfhel Ciphertext at 0x7bc66fcae430, scheme=bfv, size=2/2, noiseBudget=361>', '<Pyfhel Ciphertext at 0x7bc66fcae520, scheme=bfv, size=2/2, noiseBudget=361>', '<Pyfhel Ciphertext at 0x7bc66fcae4d0, scheme=bfv, size=2/2, noiseBudget=361>', '<Pyfhel Ciphertext at 0x7bc66fcae480, scheme=bfv, size=2/2, noiseBudget=361>', '<Pyfhel Ciphertext at 0x7bc66fcae570, scheme=bfv, size=2/2, noiseBudget=361>', '<Pyfhel Ciphertext at 0x7bc66fcae5c0, scheme=bfv, size=2/2, noiseBudget=361>', '<Pyfhel Ciphertext at 0x7bc66fcae610, scheme=bfv, size=2/2, noiseBudget=361>', '<Pyfhel Ciphertext at 0x7bc66fcae660, scheme=bfv, size=2/2, noiseBudget=361>', '<Pyfhel Ciphertext at 0x7bc66fcae6b0, scheme=bfv, size=2/2, noiseBudget=361>', '<Pyfhel Ciphertext at 0x7bc66fcae700, scheme=bfv, size=2/2, noiseBudget=361>', '<Pyfhel Ciphertext at 0x7bc66fcae7f0, scheme=bfv, size=2/2, noiseBudget=361>', '<Pyfhel Ciphertext at 0x7bc66fcae840, scheme=bfv, size=2/2, noiseBudget=361>', '<Pyfhel Ciphertext at 0x7bc66fcae7a0, scheme=bfv, size=2/2, noiseBudget=361>', '<Pyfhel Ciphertext at 0x7bc66fcae890, scheme=bfv, size=2/2, noiseBudget=361>', '<Pyfhel Ciphertext at 0x7bc66fcae930, scheme=bfv, size=2/2, noiseBudget=361>', '<Pyfhel Ciphertext at 0x7bc66fcae980, scheme=bfv, size=2/2, noiseBudget=361>', '<Pyfhel Ciphertext at 0x7bc66fcae9d0, scheme=bfv, size=2/2, noiseBudget=361>', '<Pyfhel Ciphertext at 0x7bc66fcaea20, scheme=bfv, size=2/2, noiseBudget=361>', '<Pyfhel Ciphertext at 0x7bc66fcaea70, scheme=bfv, size=2/2, noiseBudget=361>', '<Pyfhel Ciphertext at 0x7bc66fcaeac0, scheme=bfv, size=2/2, noiseBudget=361>', '<Pyfhel Ciphertext at 0x7bc66fcaeb10, scheme=bfv, size=2/2, noiseBudget=361>', '<Pyfhel Ciphertext at 0x7bc66fcaec00, scheme=bfv, size=2/2, noiseBudget=361>', '<Pyfhel Ciphertext at 0x7bc66fcaeb60, scheme=bfv, size=2/2, noiseBudget=361>', '<Pyfhel Ciphertext at 0x7bc66fcaebb0, scheme=bfv, size=2/2, noiseBudget=361>', '<Pyfhel Ciphertext at 0x7bc66fcaec50, scheme=bfv, size=2/2, noiseBudget=361>', '<Pyfhel Ciphertext at 0x7bc66fcaeca0, scheme=bfv, size=2/2, noiseBudget=361>', '<Pyfhel Ciphertext at 0x7bc66fcaecf0, scheme=bfv, size=2/2, noiseBudget=361>', '<Pyfhel Ciphertext at 0x7bc66fcaed40, scheme=bfv, size=2/2, noiseBudget=361>', '<Pyfhel Ciphertext at 0x7bc66fcaed90, scheme=bfv, size=2/2, noiseBudget=361>', '<Pyfhel Ciphertext at 0x7bc66fcaede0, scheme=bfv, size=2/2, noiseBudget=361>', '<Pyfhel Ciphertext at 0x7bc66fcaee30, scheme=bfv, size=2/2, noiseBudget=361>', '<Pyfhel Ciphertext at 0x7bc66fcaee80, scheme=bfv, size=2/2, noiseBudget=361>', '<Pyfhel Ciphertext at 0x7bc66fcaeed0, scheme=bfv, size=2/2, noiseBudget=361>', '<Pyfhel Ciphertext at 0x7bc66fcaef20, scheme=bfv, size=2/2, noiseBudget=361>', '<Pyfhel Ciphertext at 0x7bc66fcaef70, scheme=bfv, size=2/2, noiseBudget=361>', '<Pyfhel Ciphertext at 0x7bc66fcaf010, scheme=bfv, size=2/2, noiseBudget=361>', '<Pyfhel Ciphertext at 0x7bc66fcaf0b0, scheme=bfv, size=2/2, noiseBudget=361>', '<Pyfhel Ciphertext at 0x7bc66fcaf100, scheme=bfv, size=2/2, noiseBudget=361>', '<Pyfhel Ciphertext at 0x7bc66fcaf150, scheme=bfv, size=2/2, noiseBudget=361>', '<Pyfhel Ciphertext at 0x7bc66fcaf1a0, scheme=bfv, size=2/2, noiseBudget=361>', '<Pyfhel Ciphertext at 0x7bc66fcaf1f0, scheme=bfv, size=2/2, noiseBudget=361>', '<Pyfhel Ciphertext at 0x7bc66fcaf240, scheme=bfv, size=2/2, noiseBudget=361>', '<Pyfhel Ciphertext at 0x7bc66fcaf290, scheme=bfv, size=2/2, noiseBudget=361>', '<Pyfhel Ciphertext at 0x7bc66fcaf2e0, scheme=bfv, size=2/2, noiseBudget=361>', '<Pyfhel Ciphertext at 0x7bc66fcaf330, scheme=bfv, size=2/2, noiseBudget=361>', '<Pyfhel Ciphertext at 0x7bc66fcaf380, scheme=bfv, size=2/2, noiseBudget=361>', '<Pyfhel Ciphertext at 0x7bc66fcaf060, scheme=bfv, size=2/2, noiseBudget=361>', '<Pyfhel Ciphertext at 0x7bc66fcaefc0, scheme=bfv, size=2/2, noiseBudget=361>', '<Pyfhel Ciphertext at 0x7bc66fcaf420, scheme=bfv, size=2/2, noiseBudget=361>', '<Pyfhel Ciphertext at 0x7bc66fcaf3d0, scheme=bfv, size=2/2, noiseBudget=361>', '<Pyfhel Ciphertext at 0x7bc66fcaf470, scheme=bfv, size=2/2, noiseBudget=361>', '<Pyfhel Ciphertext at 0x7bc670493dd0, scheme=bfv, size=2/2, noiseBudget=361>', '<Pyfhel Ciphertext at 0x7bc66fcaf560, scheme=bfv, size=2/2, noiseBudget=361>', '<Pyfhel Ciphertext at 0x7bc6704938d0, scheme=bfv, size=2/2, noiseBudget=361>', '<Pyfhel Ciphertext at 0x7bc66fcaf510, scheme=bfv, size=2/2, noiseBudget=361>', '<Pyfhel Ciphertext at 0x7bc66fcaf5b0, scheme=bfv, size=2/2, noiseBudget=361>', '<Pyfhel Ciphertext at 0x7bc66fcaf650, scheme=bfv, size=2/2, noiseBudget=361>', '<Pyfhel Ciphertext at 0x7bc66fcaf6a0, scheme=bfv, size=2/2, noiseBudget=361>', '<Pyfhel Ciphertext at 0x7bc66fcaf6f0, scheme=bfv, size=2/2, noiseBudget=361>', '<Pyfhel Ciphertext at 0x7bc66fcaf790, scheme=bfv, size=2/2, noiseBudget=361>', '<Pyfhel Ciphertext at 0x7bc66fcaf740, scheme=bfv, size=2/2, noiseBudget=361>', '<Pyfhel Ciphertext at 0x7bc66fcaf830, scheme=bfv, size=2/2, noiseBudget=361>', '<Pyfhel Ciphertext at 0x7bc66fcaf7e0, scheme=bfv, size=2/2, noiseBudget=361>', '<Pyfhel Ciphertext at 0x7bc66fcaf880, scheme=bfv, size=2/2, noiseBudget=361>', '<Pyfhel Ciphertext at 0x7bc66fcaf8d0, scheme=bfv, size=2/2, noiseBudget=361>', '<Pyfhel Ciphertext at 0x7bc66fcaf920, scheme=bfv, size=2/2, noiseBudget=361>', '<Pyfhel Ciphertext at 0x7bc66fcaf970, scheme=bfv, size=2/2, noiseBudget=361>', '<Pyfhel Ciphertext at 0x7bc66fcaf9c0, scheme=bfv, size=2/2, noiseBudget=361>', '<Pyfhel Ciphertext at 0x7bc66fcafa10, scheme=bfv, size=2/2, noiseBudget=361>', '<Pyfhel Ciphertext at 0x7bc66fcafa60, scheme=bfv, size=2/2, noiseBudget=361>', '<Pyfhel Ciphertext at 0x7bc66fcafab0, scheme=bfv, size=2/2, noiseBudget=361>', '<Pyfhel Ciphertext at 0x7bc66fcafb00, scheme=bfv, size=2/2, noiseBudget=361>', '<Pyfhel Ciphertext at 0x7bc66fcafba0, scheme=bfv, size=2/2, noiseBudget=361>', '<Pyfhel Ciphertext at 0x7bc66fcafb50, scheme=bfv, size=2/2, noiseBudget=361>', '<Pyfhel Ciphertext at 0x7bc66fcafc40, scheme=bfv, size=2/2, noiseBudget=361>', '<Pyfhel Ciphertext at 0x7bc66fcafbf0, scheme=bfv, size=2/2, noiseBudget=361>', '<Pyfhel Ciphertext at 0x7bc66fcafc90, scheme=bfv, size=2/2, noiseBudget=361>', '<Pyfhel Ciphertext at 0x7bc66fcafce0, scheme=bfv, size=2/2, noiseBudget=361>', '<Pyfhel Ciphertext at 0x7bc66fcafd30, scheme=bfv, size=2/2, noiseBudget=361>', '<Pyfhel Ciphertext at 0x7bc66fcafd80, scheme=bfv, size=2/2, noiseBudget=361>', '<Pyfhel Ciphertext at 0x7bc66fcafdd0, scheme=bfv, size=2/2, noiseBudget=361>', '<Pyfhel Ciphertext at 0x7bc66fcafe20, scheme=bfv, size=2/2, noiseBudget=361>', '<Pyfhel Ciphertext at 0x7bc66fcafe70, scheme=bfv, size=2/2, noiseBudget=361>', '<Pyfhel Ciphertext at 0x7bc66fcafec0, scheme=bfv, size=2/2, noiseBudget=361>', '<Pyfhel Ciphertext at 0x7bc66fcaff10, scheme=bfv, size=2/2, noiseBudget=361>', '<Pyfhel Ciphertext at 0x7bc66fcaff60, scheme=bfv, size=2/2, noiseBudget=361>', '<Pyfhel Ciphertext at 0x7bc66fc540e0, scheme=bfv, size=2/2, noiseBudget=361>', '<Pyfhel Ciphertext at 0x7bc66fc54130, scheme=bfv, size=2/2, noiseBudget=361>', '<Pyfhel Ciphertext at 0x7bc66fc54180, scheme=bfv, size=2/2, noiseBudget=361>', '<Pyfhel Ciphertext at 0x7bc66fc541d0, scheme=bfv, size=2/2, noiseBudget=361>', '<Pyfhel Ciphertext at 0x7bc66fc54220, scheme=bfv, size=2/2, noiseBudget=361>', '<Pyfhel Ciphertext at 0x7bc66fc54270, scheme=bfv, size=2/2, noiseBudget=361>', '<Pyfhel Ciphertext at 0x7bc66fc542c0, scheme=bfv, size=2/2, noiseBudget=361>', '<Pyfhel Ciphertext at 0x7bc66fc54310, scheme=bfv, size=2/2, noiseBudget=361>', '<Pyfhel Ciphertext at 0x7bc66fc54360, scheme=bfv, size=2/2, noiseBudget=361>', '<Pyfhel Ciphertext at 0x7bc66fc543b0, scheme=bfv, size=2/2, noiseBudget=361>', '<Pyfhel Ciphertext at 0x7bc66fc54400, scheme=bfv, size=2/2, noiseBudget=361>', '<Pyfhel Ciphertext at 0x7bc66fc54450, scheme=bfv, size=2/2, noiseBudget=361>', '<Pyfhel Ciphertext at 0x7bc66fc544a0, scheme=bfv, size=2/2, noiseBudget=361>', '<Pyfhel Ciphertext at 0x7bc66fc544f0, scheme=bfv, size=2/2, noiseBudget=361>', '<Pyfhel Ciphertext at 0x7bc66fc54540, scheme=bfv, size=2/2, noiseBudget=361>', '<Pyfhel Ciphertext at 0x7bc66fc54590, scheme=bfv, size=2/2, noiseBudget=361>', '<Pyfhel Ciphertext at 0x7bc66fc545e0, scheme=bfv, size=2/2, noiseBudget=361>', '<Pyfhel Ciphertext at 0x7bc66fc54630, scheme=bfv, size=2/2, noiseBudget=361>', '<Pyfhel Ciphertext at 0x7bc66fc546d0, scheme=bfv, size=2/2, noiseBudget=361>', '<Pyfhel Ciphertext at 0x7bc66fc54720, scheme=bfv, size=2/2, noiseBudget=361>', '<Pyfhel Ciphertext at 0x7bc66fc54770, scheme=bfv, size=2/2, noiseBudget=361>', '<Pyfhel Ciphertext at 0x7bc66fc54680, scheme=bfv, size=2/2, noiseBudget=361>', '<Pyfhel Ciphertext at 0x7bc66fc547c0, scheme=bfv, size=2/2, noiseBudget=361>', '<Pyfhel Ciphertext at 0x7bc66fc54810, scheme=bfv, size=2/2, noiseBudget=361>', '<Pyfhel Ciphertext at 0x7bc66fc54860, scheme=bfv, size=2/2, noiseBudget=361>', '<Pyfhel Ciphertext at 0x7bc66fc548b0, scheme=bfv, size=2/2, noiseBudget=361>', '<Pyfhel Ciphertext at 0x7bc66fcaffb0, scheme=bfv, size=2/2, noiseBudget=361>', '<Pyfhel Ciphertext at 0x7bc66fcaf4c0, scheme=bfv, size=2/2, noiseBudget=361>', '<Pyfhel Ciphertext at 0x7bc66fc54090, scheme=bfv, size=2/2, noiseBudget=361>', '<Pyfhel Ciphertext at 0x7bc66fc54040, scheme=bfv, size=2/2, noiseBudget=361>', '<Pyfhel Ciphertext at 0x7bc67d121a80, scheme=bfv, size=2/2, noiseBudget=361>', '<Pyfhel Ciphertext at 0x7bc66fc549a0, scheme=bfv, size=2/2, noiseBudget=361>', '<Pyfhel Ciphertext at 0x7bc66fc54950, scheme=bfv, size=2/2, noiseBudget=361>', '<Pyfhel Ciphertext at 0x7bc66fc549f0, scheme=bfv, size=2/2, noiseBudget=361>', '<Pyfhel Ciphertext at 0x7bc66fc54a90, scheme=bfv, size=2/2, noiseBudget=361>', '<Pyfhel Ciphertext at 0x7bc66fc54ae0, scheme=bfv, size=2/2, noiseBudget=361>', '<Pyfhel Ciphertext at 0x7bc66fc54b30, scheme=bfv, size=2/2, noiseBudget=361>', '<Pyfhel Ciphertext at 0x7bc66fc54b80, scheme=bfv, size=2/2, noiseBudget=361>', '<Pyfhel Ciphertext at 0x7bc66fc54bd0, scheme=bfv, size=2/2, noiseBudget=361>', '<Pyfhel Ciphertext at 0x7bc66fc54c70, scheme=bfv, size=2/2, noiseBudget=361>', '<Pyfhel Ciphertext at 0x7bc66fc54cc0, scheme=bfv, size=2/2, noiseBudget=361>', '<Pyfhel Ciphertext at 0x7bc66fc54d10, scheme=bfv, size=2/2, noiseBudget=361>', '<Pyfhel Ciphertext at 0x7bc66fc54d60, scheme=bfv, size=2/2, noiseBudget=361>', '<Pyfhel Ciphertext at 0x7bc66fc54c20, scheme=bfv, size=2/2, noiseBudget=361>', '<Pyfhel Ciphertext at 0x7bc66fc54db0, scheme=bfv, size=2/2, noiseBudget=361>', '<Pyfhel Ciphertext at 0x7bc66fc54e00, scheme=bfv, size=2/2, noiseBudget=361>', '<Pyfhel Ciphertext at 0x7bc66fc54e50, scheme=bfv, size=2/2, noiseBudget=361>', '<Pyfhel Ciphertext at 0x7bc66fc54ea0, scheme=bfv, size=2/2, noiseBudget=361>', '<Pyfhel Ciphertext at 0x7bc66fc54ef0, scheme=bfv, size=2/2, noiseBudget=361>', '<Pyfhel Ciphertext at 0x7bc66fc54f40, scheme=bfv, size=2/2, noiseBudget=361>', '<Pyfhel Ciphertext at 0x7bc66fc54f90, scheme=bfv, size=2/2, noiseBudget=361>', '<Pyfhel Ciphertext at 0x7bc66fc54fe0, scheme=bfv, size=2/2, noiseBudget=361>', '<Pyfhel Ciphertext at 0x7bc66fc55080, scheme=bfv, size=2/2, noiseBudget=361>', '<Pyfhel Ciphertext at 0x7bc66fc550d0, scheme=bfv, size=2/2, noiseBudget=361>', '<Pyfhel Ciphertext at 0x7bc66fc55120, scheme=bfv, size=2/2, noiseBudget=361>', '<Pyfhel Ciphertext at 0x7bc66fc55170, scheme=bfv, size=2/2, noiseBudget=361>', '<Pyfhel Ciphertext at 0x7bc66fc55030, scheme=bfv, size=2/2, noiseBudget=361>', '<Pyfhel Ciphertext at 0x7bc66fc551c0, scheme=bfv, size=2/2, noiseBudget=361>', '<Pyfhel Ciphertext at 0x7bc66fc55210, scheme=bfv, size=2/2, noiseBudget=361>', '<Pyfhel Ciphertext at 0x7bc66fc55260, scheme=bfv, size=2/2, noiseBudget=361>', '<Pyfhel Ciphertext at 0x7bc66fc552b0, scheme=bfv, size=2/2, noiseBudget=361>', '<Pyfhel Ciphertext at 0x7bc66fc55300, scheme=bfv, size=2/2, noiseBudget=361>', '<Pyfhel Ciphertext at 0x7bc66fc55350, scheme=bfv, size=2/2, noiseBudget=361>', '<Pyfhel Ciphertext at 0x7bc66fc553a0, scheme=bfv, size=2/2, noiseBudget=361>', '<Pyfhel Ciphertext at 0x7bc66fc553f0, scheme=bfv, size=2/2, noiseBudget=361>', '<Pyfhel Ciphertext at 0x7bc66fc55440, scheme=bfv, size=2/2, noiseBudget=361>', '<Pyfhel Ciphertext at 0x7bc66fc55490, scheme=bfv, size=2/2, noiseBudget=361>', '<Pyfhel Ciphertext at 0x7bc66fc55620, scheme=bfv, size=2/2, noiseBudget=361>', '<Pyfhel Ciphertext at 0x7bc66fc55670, scheme=bfv, size=2/2, noiseBudget=361>', '<Pyfhel Ciphertext at 0x7bc66fc555d0, scheme=bfv, size=2/2, noiseBudget=361>', '<Pyfhel Ciphertext at 0x7bc66fc554e0, scheme=bfv, size=2/2, noiseBudget=361>', '<Pyfhel Ciphertext at 0x7bc66fc55530, scheme=bfv, size=2/2, noiseBudget=361>', '<Pyfhel Ciphertext at 0x7bc66fc55760, scheme=bfv, size=2/2, noiseBudget=361>', '<Pyfhel Ciphertext at 0x7bc66fc55710, scheme=bfv, size=2/2, noiseBudget=361>', '<Pyfhel Ciphertext at 0x7bc66fc55800, scheme=bfv, size=2/2, noiseBudget=361>', '<Pyfhel Ciphertext at 0x7bc66fc557b0, scheme=bfv, size=2/2, noiseBudget=361>', '<Pyfhel Ciphertext at 0x7bc66fc55850, scheme=bfv, size=2/2, noiseBudget=361>', '<Pyfhel Ciphertext at 0x7bc66fc558a0, scheme=bfv, size=2/2, noiseBudget=361>', '<Pyfhel Ciphertext at 0x7bc66fc558f0, scheme=bfv, size=2/2, noiseBudget=361>', '<Pyfhel Ciphertext at 0x7bc66fc55940, scheme=bfv, size=2/2, noiseBudget=361>', '<Pyfhel Ciphertext at 0x7bc66fc55990, scheme=bfv, size=2/2, noiseBudget=361>', '<Pyfhel Ciphertext at 0x7bc66fc559e0, scheme=bfv, size=2/2, noiseBudget=361>', '<Pyfhel Ciphertext at 0x7bc66fc55ad0, scheme=bfv, size=2/2, noiseBudget=361>', '<Pyfhel Ciphertext at 0x7bc66fc55a30, scheme=bfv, size=2/2, noiseBudget=361>', '<Pyfhel Ciphertext at 0x7bc66fc55a80, scheme=bfv, size=2/2, noiseBudget=361>', '<Pyfhel Ciphertext at 0x7bc66fc55b20, scheme=bfv, size=2/2, noiseBudget=361>', '<Pyfhel Ciphertext at 0x7bc66fc55b70, scheme=bfv, size=2/2, noiseBudget=361>', '<Pyfhel Ciphertext at 0x7bc66fc55bc0, scheme=bfv, size=2/2, noiseBudget=361>', '<Pyfhel Ciphertext at 0x7bc66fc55c10, scheme=bfv, size=2/2, noiseBudget=361>', '<Pyfhel Ciphertext at 0x7bc66fc55c60, scheme=bfv, size=2/2, noiseBudget=361>', '<Pyfhel Ciphertext at 0x7bc66fc55cb0, scheme=bfv, size=2/2, noiseBudget=361>', '<Pyfhel Ciphertext at 0x7bc66fc55d00, scheme=bfv, size=2/2, noiseBudget=361>', '<Pyfhel Ciphertext at 0x7bc66fc55d50, scheme=bfv, size=2/2, noiseBudget=361>', '<Pyfhel Ciphertext at 0x7bc66fc55da0, scheme=bfv, size=2/2, noiseBudget=361>', '<Pyfhel Ciphertext at 0x7bc66fc55df0, scheme=bfv, size=2/2, noiseBudget=361>', '<Pyfhel Ciphertext at 0x7bc66fc55ee0, scheme=bfv, size=2/2, noiseBudget=361>', '<Pyfhel Ciphertext at 0x7bc66fc55e40, scheme=bfv, size=2/2, noiseBudget=361>', '<Pyfhel Ciphertext at 0x7bc66fc55e90, scheme=bfv, size=2/2, noiseBudget=361>', '<Pyfhel Ciphertext at 0x7bc66fc55f30, scheme=bfv, size=2/2, noiseBudget=361>', '<Pyfhel Ciphertext at 0x7bc66fc55f80, scheme=bfv, size=2/2, noiseBudget=361>', '<Pyfhel Ciphertext at 0x7bc66fc55fd0, scheme=bfv, size=2/2, noiseBudget=361>', '<Pyfhel Ciphertext at 0x7bc66fc56020, scheme=bfv, size=2/2, noiseBudget=361>', '<Pyfhel Ciphertext at 0x7bc66fc56070, scheme=bfv, size=2/2, noiseBudget=361>', '<Pyfhel Ciphertext at 0x7bc66fc560c0, scheme=bfv, size=2/2, noiseBudget=361>', '<Pyfhel Ciphertext at 0x7bc66fc56110, scheme=bfv, size=2/2, noiseBudget=361>', '<Pyfhel Ciphertext at 0x7bc66fc56160, scheme=bfv, size=2/2, noiseBudget=361>', '<Pyfhel Ciphertext at 0x7bc66fc561b0, scheme=bfv, size=2/2, noiseBudget=361>', '<Pyfhel Ciphertext at 0x7bc66fc56200, scheme=bfv, size=2/2, noiseBudget=361>', '<Pyfhel Ciphertext at 0x7bc66fc56250, scheme=bfv, size=2/2, noiseBudget=361>', '<Pyfhel Ciphertext at 0x7bc66fc562f0, scheme=bfv, size=2/2, noiseBudget=361>', '<Pyfhel Ciphertext at 0x7bc66fc56390, scheme=bfv, size=2/2, noiseBudget=361>', '<Pyfhel Ciphertext at 0x7bc66fc563e0, scheme=bfv, size=2/2, noiseBudget=361>', '<Pyfhel Ciphertext at 0x7bc66fc56430, scheme=bfv, size=2/2, noiseBudget=361>', '<Pyfhel Ciphertext at 0x7bc66fc56480, scheme=bfv, size=2/2, noiseBudget=361>', '<Pyfhel Ciphertext at 0x7bc66fc56340, scheme=bfv, size=2/2, noiseBudget=361>', '<Pyfhel Ciphertext at 0x7bc66fc564d0, scheme=bfv, size=2/2, noiseBudget=361>', '<Pyfhel Ciphertext at 0x7bc66fc562a0, scheme=bfv, size=2/2, noiseBudget=361>', '<Pyfhel Ciphertext at 0x7bc66fc565c0, scheme=bfv, size=2/2, noiseBudget=361>', '<Pyfhel Ciphertext at 0x7bc66fc56660, scheme=bfv, size=2/2, noiseBudget=361>', '<Pyfhel Ciphertext at 0x7bc66fc566b0, scheme=bfv, size=2/2, noiseBudget=361>', '<Pyfhel Ciphertext at 0x7bc66fc56570, scheme=bfv, size=2/2, noiseBudget=361>', '<Pyfhel Ciphertext at 0x7bc66fc56700, scheme=bfv, size=2/2, noiseBudget=361>', '<Pyfhel Ciphertext at 0x7bc66fc567a0, scheme=bfv, size=2/2, noiseBudget=361>', '<Pyfhel Ciphertext at 0x7bc66fc567f0, scheme=bfv, size=2/2, noiseBudget=361>', '<Pyfhel Ciphertext at 0x7bc66fc56750, scheme=bfv, size=2/2, noiseBudget=361>', '<Pyfhel Ciphertext at 0x7bc66fc56840, scheme=bfv, size=2/2, noiseBudget=361>', '<Pyfhel Ciphertext at 0x7bc66fc56890, scheme=bfv, size=2/2, noiseBudget=361>', '<Pyfhel Ciphertext at 0x7bc66fc568e0, scheme=bfv, size=2/2, noiseBudget=361>', '<Pyfhel Ciphertext at 0x7bc66fc56980, scheme=bfv, size=2/2, noiseBudget=361>', '<Pyfhel Ciphertext at 0x7bc66fc569d0, scheme=bfv, size=2/2, noiseBudget=361>', '<Pyfhel Ciphertext at 0x7bc66fc56930, scheme=bfv, size=2/2, noiseBudget=361>', '<Pyfhel Ciphertext at 0x7bc66fc56a20, scheme=bfv, size=2/2, noiseBudget=361>', '<Pyfhel Ciphertext at 0x7bc66fc56a70, scheme=bfv, size=2/2, noiseBudget=361>', '<Pyfhel Ciphertext at 0x7bc66fc56ac0, scheme=bfv, size=2/2, noiseBudget=361>', '<Pyfhel Ciphertext at 0x7bc66fc56b10, scheme=bfv, size=2/2, noiseBudget=361>', '<Pyfhel Ciphertext at 0x7bc66fc56bb0, scheme=bfv, size=2/2, noiseBudget=361>', '<Pyfhel Ciphertext at 0x7bc66fc56c00, scheme=bfv, size=2/2, noiseBudget=361>', '<Pyfhel Ciphertext at 0x7bc66fc56b60, scheme=bfv, size=2/2, noiseBudget=361>', '<Pyfhel Ciphertext at 0x7bc66fc56c50, scheme=bfv, size=2/2, noiseBudget=361>', '<Pyfhel Ciphertext at 0x7bc66fc56ca0, scheme=bfv, size=2/2, noiseBudget=361>', '<Pyfhel Ciphertext at 0x7bc66fc56cf0, scheme=bfv, size=2/2, noiseBudget=361>', '<Pyfhel Ciphertext at 0x7bc66fc56d40, scheme=bfv, size=2/2, noiseBudget=361>', '<Pyfhel Ciphertext at 0x7bc66fc56e30, scheme=bfv, size=2/2, noiseBudget=361>', '<Pyfhel Ciphertext at 0x7bc66fc56e80, scheme=bfv, size=2/2, noiseBudget=361>', '<Pyfhel Ciphertext at 0x7bc66fc56ed0, scheme=bfv, size=2/2, noiseBudget=361>', '<Pyfhel Ciphertext at 0x7bc66fc56f20, scheme=bfv, size=2/2, noiseBudget=361>', '<Pyfhel Ciphertext at 0x7bc66fc56f70, scheme=bfv, size=2/2, noiseBudget=361>', '<Pyfhel Ciphertext at 0x7bc66fc56fc0, scheme=bfv, size=2/2, noiseBudget=361>', '<Pyfhel Ciphertext at 0x7bc66fc570b0, scheme=bfv, size=2/2, noiseBudget=361>', '<Pyfhel Ciphertext at 0x7bc66fc57100, scheme=bfv, size=2/2, noiseBudget=361>', '<Pyfhel Ciphertext at 0x7bc66fc57150, scheme=bfv, size=2/2, noiseBudget=361>', '<Pyfhel Ciphertext at 0x7bc66fc571a0, scheme=bfv, size=2/2, noiseBudget=361>', '<Pyfhel Ciphertext at 0x7bc66fc571f0, scheme=bfv, size=2/2, noiseBudget=361>', '<Pyfhel Ciphertext at 0x7bc66fc57240, scheme=bfv, size=2/2, noiseBudget=361>', '<Pyfhel Ciphertext at 0x7bc66fc57290, scheme=bfv, size=2/2, noiseBudget=361>', '<Pyfhel Ciphertext at 0x7bc66fc572e0, scheme=bfv, size=2/2, noiseBudget=361>', '<Pyfhel Ciphertext at 0x7bc66fc57380, scheme=bfv, size=2/2, noiseBudget=361>', '<Pyfhel Ciphertext at 0x7bc66fc573d0, scheme=bfv, size=2/2, noiseBudget=361>', '<Pyfhel Ciphertext at 0x7bc66fc57420, scheme=bfv, size=2/2, noiseBudget=361>', '<Pyfhel Ciphertext at 0x7bc66fc57330, scheme=bfv, size=2/2, noiseBudget=361>', '<Pyfhel Ciphertext at 0x7bc66fc57470, scheme=bfv, size=2/2, noiseBudget=361>', '<Pyfhel Ciphertext at 0x7bc66fc574c0, scheme=bfv, size=2/2, noiseBudget=361>', '<Pyfhel Ciphertext at 0x7bc66fc57510, scheme=bfv, size=2/2, noiseBudget=361>', '<Pyfhel Ciphertext at 0x7bc66fc57560, scheme=bfv, size=2/2, noiseBudget=361>', '<Pyfhel Ciphertext at 0x7bc66fc575b0, scheme=bfv, size=2/2, noiseBudget=361>', '<Pyfhel Ciphertext at 0x7bc66fc56d90, scheme=bfv, size=2/2, noiseBudget=361>', '<Pyfhel Ciphertext at 0x7bc66fc57060, scheme=bfv, size=2/2, noiseBudget=361>', '<Pyfhel Ciphertext at 0x7bc66fc57600, scheme=bfv, size=2/2, noiseBudget=361>', '<Pyfhel Ciphertext at 0x7bc672920400, scheme=bfv, size=2/2, noiseBudget=361>', '<Pyfhel Ciphertext at 0x7bc66fcff650, scheme=bfv, size=2/2, noiseBudget=361>', '<Pyfhel Ciphertext at 0x7bc66fc576a0, scheme=bfv, size=2/2, noiseBudget=361>', '<Pyfhel Ciphertext at 0x7bc66fc576f0, scheme=bfv, size=2/2, noiseBudget=361>', '<Pyfhel Ciphertext at 0x7bc66fc56de0, scheme=bfv, size=2/2, noiseBudget=361>', '<Pyfhel Ciphertext at 0x7bc66fc57740, scheme=bfv, size=2/2, noiseBudget=361>', '<Pyfhel Ciphertext at 0x7bc66fc57790, scheme=bfv, size=2/2, noiseBudget=361>', '<Pyfhel Ciphertext at 0x7bc66fc577e0, scheme=bfv, size=2/2, noiseBudget=361>', '<Pyfhel Ciphertext at 0x7bc66fc57830, scheme=bfv, size=2/2, noiseBudget=361>', '<Pyfhel Ciphertext at 0x7bc66fc57880, scheme=bfv, size=2/2, noiseBudget=361>', '<Pyfhel Ciphertext at 0x7bc66fc57920, scheme=bfv, size=2/2, noiseBudget=361>', '<Pyfhel Ciphertext at 0x7bc66fc578d0, scheme=bfv, size=2/2, noiseBudget=361>', '<Pyfhel Ciphertext at 0x7bc66fc579c0, scheme=bfv, size=2/2, noiseBudget=361>', '<Pyfhel Ciphertext at 0x7bc66fc57970, scheme=bfv, size=2/2, noiseBudget=361>', '<Pyfhel Ciphertext at 0x7bc66fc57a10, scheme=bfv, size=2/2, noiseBudget=361>', '<Pyfhel Ciphertext at 0x7bc66fc57a60, scheme=bfv, size=2/2, noiseBudget=361>', '<Pyfhel Ciphertext at 0x7bc66fc57ab0, scheme=bfv, size=2/2, noiseBudget=361>', '<Pyfhel Ciphertext at 0x7bc66fc57b00, scheme=bfv, size=2/2, noiseBudget=361>', '<Pyfhel Ciphertext at 0x7bc66fc57b50, scheme=bfv, size=2/2, noiseBudget=361>', '<Pyfhel Ciphertext at 0x7bc66fc57ba0, scheme=bfv, size=2/2, noiseBudget=361>', '<Pyfhel Ciphertext at 0x7bc66fc57bf0, scheme=bfv, size=2/2, noiseBudget=361>', '<Pyfhel Ciphertext at 0x7bc66fc57c40, scheme=bfv, size=2/2, noiseBudget=361>', '<Pyfhel Ciphertext at 0x7bc66fc57c90, scheme=bfv, size=2/2, noiseBudget=361>', '<Pyfhel Ciphertext at 0x7bc66fc57d30, scheme=bfv, size=2/2, noiseBudget=361>', '<Pyfhel Ciphertext at 0x7bc66fc57d80, scheme=bfv, size=2/2, noiseBudget=361>', '<Pyfhel Ciphertext at 0x7bc66fc57dd0, scheme=bfv, size=2/2, noiseBudget=361>', '<Pyfhel Ciphertext at 0x7bc66fc57e20, scheme=bfv, size=2/2, noiseBudget=361>', '<Pyfhel Ciphertext at 0x7bc66fc57ce0, scheme=bfv, size=2/2, noiseBudget=361>', '<Pyfhel Ciphertext at 0x7bc66fc57e70, scheme=bfv, size=2/2, noiseBudget=361>', '<Pyfhel Ciphertext at 0x7bc66fc57ec0, scheme=bfv, size=2/2, noiseBudget=361>', '<Pyfhel Ciphertext at 0x7bc66fc57f10, scheme=bfv, size=2/2, noiseBudget=361>', '<Pyfhel Ciphertext at 0x7bc66fc57f60, scheme=bfv, size=2/2, noiseBudget=361>', '<Pyfhel Ciphertext at 0x7bc66fc57fb0, scheme=bfv, size=2/2, noiseBudget=361>', '<Pyfhel Ciphertext at 0x7bc66fc58040, scheme=bfv, size=2/2, noiseBudget=361>', '<Pyfhel Ciphertext at 0x7bc66fc58090, scheme=bfv, size=2/2, noiseBudget=361>', '<Pyfhel Ciphertext at 0x7bc66fc580e0, scheme=bfv, size=2/2, noiseBudget=361>', '<Pyfhel Ciphertext at 0x7bc66fc58130, scheme=bfv, size=2/2, noiseBudget=361>', '<Pyfhel Ciphertext at 0x7bc66fc58220, scheme=bfv, size=2/2, noiseBudget=361>', '<Pyfhel Ciphertext at 0x7bc66fc58310, scheme=bfv, size=2/2, noiseBudget=361>', '<Pyfhel Ciphertext at 0x7bc66fc58360, scheme=bfv, size=2/2, noiseBudget=361>', '<Pyfhel Ciphertext at 0x7bc66fc583b0, scheme=bfv, size=2/2, noiseBudget=361>', '<Pyfhel Ciphertext at 0x7bc66fc58400, scheme=bfv, size=2/2, noiseBudget=361>', '<Pyfhel Ciphertext at 0x7bc66fc58450, scheme=bfv, size=2/2, noiseBudget=361>', '<Pyfhel Ciphertext at 0x7bc66fc584a0, scheme=bfv, size=2/2, noiseBudget=361>', '<Pyfhel Ciphertext at 0x7bc66fc584f0, scheme=bfv, size=2/2, noiseBudget=361>', '<Pyfhel Ciphertext at 0x7bc66fc58540, scheme=bfv, size=2/2, noiseBudget=361>']\n"
          ]
        }
      ],
      "source": [
        "HE = Pyfhel()\n",
        "HE.contextGen(scheme='BFV', n=2**14, t_bits=20)\n",
        "HE.keyGen()\n",
        "\n",
        "cipher_text = [HE.encryptInt(np.array([num], dtype=np.int64)) for num in encoded_text]\n",
        "print(f\"Cipher Text: {[str(ct) for ct in cipher_text]}\")"
      ]
    },
    {
      "cell_type": "code",
      "execution_count": 18,
      "metadata": {
        "colab": {
          "base_uri": "https://localhost:8080/"
        },
        "id": "10A0G4lHjN3k",
        "outputId": "b73456dd-d28f-4356-e5ad-1a616293fc90"
      },
      "outputs": [
        {
          "name": "stdout",
          "output_type": "stream",
          "text": [
            "<Pyfhel Ciphertext at 0x7bc6704328e0, scheme=bfv, size=2/2, noiseBudget=361>\n"
          ]
        }
      ],
      "source": [
        "print(str(cipher_text[0]))"
      ]
    },
    {
      "cell_type": "code",
      "execution_count": 16,
      "metadata": {
        "colab": {
          "base_uri": "https://localhost:8080/"
        },
        "id": "KHydvFAS3e2F",
        "outputId": "8ddbd0a3-8433-45d0-c12b-b76b64d2e7e2"
      },
      "outputs": [
        {
          "name": "stdout",
          "output_type": "stream",
          "text": [
            "Original Text: The Prismo Accountability Layer is a key feature of Prismo Technology that ensures every transaction within its ecosystem is secure, transparent, and traceable. It utilizes blockchain technology to create an immutable record of all interactions, meaning that once something is recorded, it cannot be changed or tampered with. This layer enhances trust among users, as it allows anyone to verify the actions taken with their data and ensures that all transactions are conducted fairly and openly. In essence, the Prismo Accountability Layer is designed to foster a secure environment for digital interactions, reinforcing Prismo's commitment to transparency and integrity.\n",
            "\n",
            "Decoded Text after encryption/decryption: The Prismo Accountability Layer is a key feature of Prismo Technology that ensures every transaction within its ecosystem is secure, transparent, and traceable. It utilizes blockchain technology to create an immutable record of all interactions, meaning that once something is recorded, it cannot be changed or tampered with. This layer enhances trust among users, as it allows anyone to verify the actions taken with their data and ensures that all transactions are conducted fairly and openly. In essence, the Prismo Accountability Layer is designed to foster a secure environment for digital interactions, reinforcing Prismo's commitment to transparency and integrity.\n"
          ]
        }
      ],
      "source": [
        "decrypted_text = [HE.decryptInt(ct)[0] for ct in cipher_text]\n",
        "decoded_text = ''.join([chr(num) for num in decrypted_text])\n",
        "\n",
        "print(f\"Original Text: {response}\")\n",
        "print(\"\")\n",
        "print(f\"Decoded Text after encryption/decryption: {decoded_text}\")"
      ]
    }
  ],
  "metadata": {
    "colab": {
      "provenance": []
    },
    "kernelspec": {
      "display_name": "Python 3",
      "name": "python3"
    },
    "language_info": {
      "name": "python"
    }
  },
  "nbformat": 4,
  "nbformat_minor": 0
}
