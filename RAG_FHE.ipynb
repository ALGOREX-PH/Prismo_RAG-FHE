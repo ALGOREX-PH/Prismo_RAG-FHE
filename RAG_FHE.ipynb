{
  "cells": [
    {
      "cell_type": "code",
      "execution_count": 1,
      "metadata": {
        "colab": {
          "base_uri": "https://localhost:8080/"
        },
        "id": "MaLyddHyViYn",
        "outputId": "41e7f949-5934-40cd-87cf-c4c487faf61d"
      },
      "outputs": [
        {
          "output_type": "stream",
          "name": "stdout",
          "text": [
            "Collecting Pyfhel\n",
            "  Downloading Pyfhel-3.4.2.tar.gz (1.0 MB)\n",
            "\u001b[?25l     \u001b[90m━━━━━━━━━━━━━━━━━━━━━━━━━━━━━━━━━━━━━━━━\u001b[0m \u001b[32m0.0/1.0 MB\u001b[0m \u001b[31m?\u001b[0m eta \u001b[36m-:--:--\u001b[0m\r\u001b[2K     \u001b[90m━━━━━━━━━━━━━━━━━━━━━━━━━━━━━━━━━━━━━━━━\u001b[0m \u001b[32m1.0/1.0 MB\u001b[0m \u001b[31m29.8 MB/s\u001b[0m eta \u001b[36m0:00:00\u001b[0m\n",
            "\u001b[?25h  Installing build dependencies ... \u001b[?25l\u001b[?25hdone\n",
            "  Getting requirements to build wheel ... \u001b[?25l\u001b[?25hdone\n",
            "  Preparing metadata (pyproject.toml) ... \u001b[?25l\u001b[?25hdone\n",
            "Requirement already satisfied: numpy>=1.21 in /usr/local/lib/python3.10/dist-packages (from Pyfhel) (1.26.4)\n",
            "Building wheels for collected packages: Pyfhel\n",
            "  Building wheel for Pyfhel (pyproject.toml) ... \u001b[?25l\u001b[?25hdone\n",
            "  Created wheel for Pyfhel: filename=Pyfhel-3.4.2-cp310-cp310-linux_x86_64.whl size=9679263 sha256=387ccd7749afaf14eb43ef2a06a46ad0777f20665b523bc63827938091195bc7\n",
            "  Stored in directory: /root/.cache/pip/wheels/74/7b/34/876b6d79c02f65e68e4e6f262735c2347cf77581ac50ca470d\n",
            "Successfully built Pyfhel\n",
            "Installing collected packages: Pyfhel\n",
            "Successfully installed Pyfhel-3.4.2\n",
            "Collecting openai==0.28.1\n",
            "  Downloading openai-0.28.1-py3-none-any.whl.metadata (11 kB)\n",
            "Requirement already satisfied: requests>=2.20 in /usr/local/lib/python3.10/dist-packages (from openai==0.28.1) (2.32.3)\n",
            "Requirement already satisfied: tqdm in /usr/local/lib/python3.10/dist-packages (from openai==0.28.1) (4.66.6)\n",
            "Requirement already satisfied: aiohttp in /usr/local/lib/python3.10/dist-packages (from openai==0.28.1) (3.10.10)\n",
            "Requirement already satisfied: charset-normalizer<4,>=2 in /usr/local/lib/python3.10/dist-packages (from requests>=2.20->openai==0.28.1) (3.4.0)\n",
            "Requirement already satisfied: idna<4,>=2.5 in /usr/local/lib/python3.10/dist-packages (from requests>=2.20->openai==0.28.1) (3.10)\n",
            "Requirement already satisfied: urllib3<3,>=1.21.1 in /usr/local/lib/python3.10/dist-packages (from requests>=2.20->openai==0.28.1) (2.2.3)\n",
            "Requirement already satisfied: certifi>=2017.4.17 in /usr/local/lib/python3.10/dist-packages (from requests>=2.20->openai==0.28.1) (2024.8.30)\n",
            "Requirement already satisfied: aiohappyeyeballs>=2.3.0 in /usr/local/lib/python3.10/dist-packages (from aiohttp->openai==0.28.1) (2.4.3)\n",
            "Requirement already satisfied: aiosignal>=1.1.2 in /usr/local/lib/python3.10/dist-packages (from aiohttp->openai==0.28.1) (1.3.1)\n",
            "Requirement already satisfied: attrs>=17.3.0 in /usr/local/lib/python3.10/dist-packages (from aiohttp->openai==0.28.1) (24.2.0)\n",
            "Requirement already satisfied: frozenlist>=1.1.1 in /usr/local/lib/python3.10/dist-packages (from aiohttp->openai==0.28.1) (1.5.0)\n",
            "Requirement already satisfied: multidict<7.0,>=4.5 in /usr/local/lib/python3.10/dist-packages (from aiohttp->openai==0.28.1) (6.1.0)\n",
            "Requirement already satisfied: yarl<2.0,>=1.12.0 in /usr/local/lib/python3.10/dist-packages (from aiohttp->openai==0.28.1) (1.17.0)\n",
            "Requirement already satisfied: async-timeout<5.0,>=4.0 in /usr/local/lib/python3.10/dist-packages (from aiohttp->openai==0.28.1) (4.0.3)\n",
            "Requirement already satisfied: typing-extensions>=4.1.0 in /usr/local/lib/python3.10/dist-packages (from multidict<7.0,>=4.5->aiohttp->openai==0.28.1) (4.12.2)\n",
            "Requirement already satisfied: propcache>=0.2.0 in /usr/local/lib/python3.10/dist-packages (from yarl<2.0,>=1.12.0->aiohttp->openai==0.28.1) (0.2.0)\n",
            "Downloading openai-0.28.1-py3-none-any.whl (76 kB)\n",
            "\u001b[2K   \u001b[90m━━━━━━━━━━━━━━━━━━━━━━━━━━━━━━━━━━━━━━━━\u001b[0m \u001b[32m77.0/77.0 kB\u001b[0m \u001b[31m6.8 MB/s\u001b[0m eta \u001b[36m0:00:00\u001b[0m\n",
            "\u001b[?25hInstalling collected packages: openai\n",
            "  Attempting uninstall: openai\n",
            "    Found existing installation: openai 1.52.2\n",
            "    Uninstalling openai-1.52.2:\n",
            "      Successfully uninstalled openai-1.52.2\n",
            "Successfully installed openai-0.28.1\n",
            "Collecting tiktoken==0.6.0\n",
            "  Downloading tiktoken-0.6.0-cp310-cp310-manylinux_2_17_x86_64.manylinux2014_x86_64.whl.metadata (6.6 kB)\n",
            "Requirement already satisfied: regex>=2022.1.18 in /usr/local/lib/python3.10/dist-packages (from tiktoken==0.6.0) (2024.9.11)\n",
            "Requirement already satisfied: requests>=2.26.0 in /usr/local/lib/python3.10/dist-packages (from tiktoken==0.6.0) (2.32.3)\n",
            "Requirement already satisfied: charset-normalizer<4,>=2 in /usr/local/lib/python3.10/dist-packages (from requests>=2.26.0->tiktoken==0.6.0) (3.4.0)\n",
            "Requirement already satisfied: idna<4,>=2.5 in /usr/local/lib/python3.10/dist-packages (from requests>=2.26.0->tiktoken==0.6.0) (3.10)\n",
            "Requirement already satisfied: urllib3<3,>=1.21.1 in /usr/local/lib/python3.10/dist-packages (from requests>=2.26.0->tiktoken==0.6.0) (2.2.3)\n",
            "Requirement already satisfied: certifi>=2017.4.17 in /usr/local/lib/python3.10/dist-packages (from requests>=2.26.0->tiktoken==0.6.0) (2024.8.30)\n",
            "Downloading tiktoken-0.6.0-cp310-cp310-manylinux_2_17_x86_64.manylinux2014_x86_64.whl (1.8 MB)\n",
            "\u001b[2K   \u001b[90m━━━━━━━━━━━━━━━━━━━━━━━━━━━━━━━━━━━━━━━━\u001b[0m \u001b[32m1.8/1.8 MB\u001b[0m \u001b[31m48.9 MB/s\u001b[0m eta \u001b[36m0:00:00\u001b[0m\n",
            "\u001b[?25hInstalling collected packages: tiktoken\n",
            "Successfully installed tiktoken-0.6.0\n",
            "Collecting langchain==0.1.20\n",
            "  Downloading langchain-0.1.20-py3-none-any.whl.metadata (13 kB)\n",
            "Requirement already satisfied: PyYAML>=5.3 in /usr/local/lib/python3.10/dist-packages (from langchain==0.1.20) (6.0.2)\n",
            "Requirement already satisfied: SQLAlchemy<3,>=1.4 in /usr/local/lib/python3.10/dist-packages (from langchain==0.1.20) (2.0.36)\n",
            "Requirement already satisfied: aiohttp<4.0.0,>=3.8.3 in /usr/local/lib/python3.10/dist-packages (from langchain==0.1.20) (3.10.10)\n",
            "Requirement already satisfied: async-timeout<5.0.0,>=4.0.0 in /usr/local/lib/python3.10/dist-packages (from langchain==0.1.20) (4.0.3)\n",
            "Collecting dataclasses-json<0.7,>=0.5.7 (from langchain==0.1.20)\n",
            "  Downloading dataclasses_json-0.6.7-py3-none-any.whl.metadata (25 kB)\n",
            "Collecting langchain-community<0.1,>=0.0.38 (from langchain==0.1.20)\n",
            "  Downloading langchain_community-0.0.38-py3-none-any.whl.metadata (8.7 kB)\n",
            "Collecting langchain-core<0.2.0,>=0.1.52 (from langchain==0.1.20)\n",
            "  Downloading langchain_core-0.1.53-py3-none-any.whl.metadata (5.9 kB)\n",
            "Collecting langchain-text-splitters<0.1,>=0.0.1 (from langchain==0.1.20)\n",
            "  Downloading langchain_text_splitters-0.0.2-py3-none-any.whl.metadata (2.2 kB)\n",
            "Requirement already satisfied: langsmith<0.2.0,>=0.1.17 in /usr/local/lib/python3.10/dist-packages (from langchain==0.1.20) (0.1.137)\n",
            "Requirement already satisfied: numpy<2,>=1 in /usr/local/lib/python3.10/dist-packages (from langchain==0.1.20) (1.26.4)\n",
            "Requirement already satisfied: pydantic<3,>=1 in /usr/local/lib/python3.10/dist-packages (from langchain==0.1.20) (2.9.2)\n",
            "Requirement already satisfied: requests<3,>=2 in /usr/local/lib/python3.10/dist-packages (from langchain==0.1.20) (2.32.3)\n",
            "Collecting tenacity<9.0.0,>=8.1.0 (from langchain==0.1.20)\n",
            "  Downloading tenacity-8.5.0-py3-none-any.whl.metadata (1.2 kB)\n",
            "Requirement already satisfied: aiohappyeyeballs>=2.3.0 in /usr/local/lib/python3.10/dist-packages (from aiohttp<4.0.0,>=3.8.3->langchain==0.1.20) (2.4.3)\n",
            "Requirement already satisfied: aiosignal>=1.1.2 in /usr/local/lib/python3.10/dist-packages (from aiohttp<4.0.0,>=3.8.3->langchain==0.1.20) (1.3.1)\n",
            "Requirement already satisfied: attrs>=17.3.0 in /usr/local/lib/python3.10/dist-packages (from aiohttp<4.0.0,>=3.8.3->langchain==0.1.20) (24.2.0)\n",
            "Requirement already satisfied: frozenlist>=1.1.1 in /usr/local/lib/python3.10/dist-packages (from aiohttp<4.0.0,>=3.8.3->langchain==0.1.20) (1.5.0)\n",
            "Requirement already satisfied: multidict<7.0,>=4.5 in /usr/local/lib/python3.10/dist-packages (from aiohttp<4.0.0,>=3.8.3->langchain==0.1.20) (6.1.0)\n",
            "Requirement already satisfied: yarl<2.0,>=1.12.0 in /usr/local/lib/python3.10/dist-packages (from aiohttp<4.0.0,>=3.8.3->langchain==0.1.20) (1.17.0)\n",
            "Collecting marshmallow<4.0.0,>=3.18.0 (from dataclasses-json<0.7,>=0.5.7->langchain==0.1.20)\n",
            "  Downloading marshmallow-3.23.1-py3-none-any.whl.metadata (7.5 kB)\n",
            "Collecting typing-inspect<1,>=0.4.0 (from dataclasses-json<0.7,>=0.5.7->langchain==0.1.20)\n",
            "  Downloading typing_inspect-0.9.0-py3-none-any.whl.metadata (1.5 kB)\n",
            "Requirement already satisfied: jsonpatch<2.0,>=1.33 in /usr/local/lib/python3.10/dist-packages (from langchain-core<0.2.0,>=0.1.52->langchain==0.1.20) (1.33)\n",
            "Collecting packaging<24.0,>=23.2 (from langchain-core<0.2.0,>=0.1.52->langchain==0.1.20)\n",
            "  Downloading packaging-23.2-py3-none-any.whl.metadata (3.2 kB)\n",
            "Requirement already satisfied: httpx<1,>=0.23.0 in /usr/local/lib/python3.10/dist-packages (from langsmith<0.2.0,>=0.1.17->langchain==0.1.20) (0.27.2)\n",
            "Requirement already satisfied: orjson<4.0.0,>=3.9.14 in /usr/local/lib/python3.10/dist-packages (from langsmith<0.2.0,>=0.1.17->langchain==0.1.20) (3.10.10)\n",
            "Requirement already satisfied: requests-toolbelt<2.0.0,>=1.0.0 in /usr/local/lib/python3.10/dist-packages (from langsmith<0.2.0,>=0.1.17->langchain==0.1.20) (1.0.0)\n",
            "Requirement already satisfied: annotated-types>=0.6.0 in /usr/local/lib/python3.10/dist-packages (from pydantic<3,>=1->langchain==0.1.20) (0.7.0)\n",
            "Requirement already satisfied: pydantic-core==2.23.4 in /usr/local/lib/python3.10/dist-packages (from pydantic<3,>=1->langchain==0.1.20) (2.23.4)\n",
            "Requirement already satisfied: typing-extensions>=4.6.1 in /usr/local/lib/python3.10/dist-packages (from pydantic<3,>=1->langchain==0.1.20) (4.12.2)\n",
            "Requirement already satisfied: charset-normalizer<4,>=2 in /usr/local/lib/python3.10/dist-packages (from requests<3,>=2->langchain==0.1.20) (3.4.0)\n",
            "Requirement already satisfied: idna<4,>=2.5 in /usr/local/lib/python3.10/dist-packages (from requests<3,>=2->langchain==0.1.20) (3.10)\n",
            "Requirement already satisfied: urllib3<3,>=1.21.1 in /usr/local/lib/python3.10/dist-packages (from requests<3,>=2->langchain==0.1.20) (2.2.3)\n",
            "Requirement already satisfied: certifi>=2017.4.17 in /usr/local/lib/python3.10/dist-packages (from requests<3,>=2->langchain==0.1.20) (2024.8.30)\n",
            "Requirement already satisfied: greenlet!=0.4.17 in /usr/local/lib/python3.10/dist-packages (from SQLAlchemy<3,>=1.4->langchain==0.1.20) (3.1.1)\n",
            "Requirement already satisfied: anyio in /usr/local/lib/python3.10/dist-packages (from httpx<1,>=0.23.0->langsmith<0.2.0,>=0.1.17->langchain==0.1.20) (3.7.1)\n",
            "Requirement already satisfied: httpcore==1.* in /usr/local/lib/python3.10/dist-packages (from httpx<1,>=0.23.0->langsmith<0.2.0,>=0.1.17->langchain==0.1.20) (1.0.6)\n",
            "Requirement already satisfied: sniffio in /usr/local/lib/python3.10/dist-packages (from httpx<1,>=0.23.0->langsmith<0.2.0,>=0.1.17->langchain==0.1.20) (1.3.1)\n",
            "Requirement already satisfied: h11<0.15,>=0.13 in /usr/local/lib/python3.10/dist-packages (from httpcore==1.*->httpx<1,>=0.23.0->langsmith<0.2.0,>=0.1.17->langchain==0.1.20) (0.14.0)\n",
            "Requirement already satisfied: jsonpointer>=1.9 in /usr/local/lib/python3.10/dist-packages (from jsonpatch<2.0,>=1.33->langchain-core<0.2.0,>=0.1.52->langchain==0.1.20) (3.0.0)\n",
            "Collecting mypy-extensions>=0.3.0 (from typing-inspect<1,>=0.4.0->dataclasses-json<0.7,>=0.5.7->langchain==0.1.20)\n",
            "  Downloading mypy_extensions-1.0.0-py3-none-any.whl.metadata (1.1 kB)\n",
            "Requirement already satisfied: propcache>=0.2.0 in /usr/local/lib/python3.10/dist-packages (from yarl<2.0,>=1.12.0->aiohttp<4.0.0,>=3.8.3->langchain==0.1.20) (0.2.0)\n",
            "Requirement already satisfied: exceptiongroup in /usr/local/lib/python3.10/dist-packages (from anyio->httpx<1,>=0.23.0->langsmith<0.2.0,>=0.1.17->langchain==0.1.20) (1.2.2)\n",
            "Downloading langchain-0.1.20-py3-none-any.whl (1.0 MB)\n",
            "\u001b[2K   \u001b[90m━━━━━━━━━━━━━━━━━━━━━━━━━━━━━━━━━━━━━━━━\u001b[0m \u001b[32m1.0/1.0 MB\u001b[0m \u001b[31m47.3 MB/s\u001b[0m eta \u001b[36m0:00:00\u001b[0m\n",
            "\u001b[?25hDownloading dataclasses_json-0.6.7-py3-none-any.whl (28 kB)\n",
            "Downloading langchain_community-0.0.38-py3-none-any.whl (2.0 MB)\n",
            "\u001b[2K   \u001b[90m━━━━━━━━━━━━━━━━━━━━━━━━━━━━━━━━━━━━━━━━\u001b[0m \u001b[32m2.0/2.0 MB\u001b[0m \u001b[31m70.4 MB/s\u001b[0m eta \u001b[36m0:00:00\u001b[0m\n",
            "\u001b[?25hDownloading langchain_core-0.1.53-py3-none-any.whl (303 kB)\n",
            "\u001b[2K   \u001b[90m━━━━━━━━━━━━━━━━━━━━━━━━━━━━━━━━━━━━━━━━\u001b[0m \u001b[32m303.1/303.1 kB\u001b[0m \u001b[31m22.0 MB/s\u001b[0m eta \u001b[36m0:00:00\u001b[0m\n",
            "\u001b[?25hDownloading langchain_text_splitters-0.0.2-py3-none-any.whl (23 kB)\n",
            "Downloading tenacity-8.5.0-py3-none-any.whl (28 kB)\n",
            "Downloading marshmallow-3.23.1-py3-none-any.whl (49 kB)\n",
            "\u001b[2K   \u001b[90m━━━━━━━━━━━━━━━━━━━━━━━━━━━━━━━━━━━━━━━━\u001b[0m \u001b[32m49.5/49.5 kB\u001b[0m \u001b[31m3.8 MB/s\u001b[0m eta \u001b[36m0:00:00\u001b[0m\n",
            "\u001b[?25hDownloading packaging-23.2-py3-none-any.whl (53 kB)\n",
            "\u001b[2K   \u001b[90m━━━━━━━━━━━━━━━━━━━━━━━━━━━━━━━━━━━━━━━━\u001b[0m \u001b[32m53.0/53.0 kB\u001b[0m \u001b[31m3.9 MB/s\u001b[0m eta \u001b[36m0:00:00\u001b[0m\n",
            "\u001b[?25hDownloading typing_inspect-0.9.0-py3-none-any.whl (8.8 kB)\n",
            "Downloading mypy_extensions-1.0.0-py3-none-any.whl (4.7 kB)\n",
            "Installing collected packages: tenacity, packaging, mypy-extensions, typing-inspect, marshmallow, dataclasses-json, langchain-core, langchain-text-splitters, langchain-community, langchain\n",
            "  Attempting uninstall: tenacity\n",
            "    Found existing installation: tenacity 9.0.0\n",
            "    Uninstalling tenacity-9.0.0:\n",
            "      Successfully uninstalled tenacity-9.0.0\n",
            "  Attempting uninstall: packaging\n",
            "    Found existing installation: packaging 24.1\n",
            "    Uninstalling packaging-24.1:\n",
            "      Successfully uninstalled packaging-24.1\n",
            "  Attempting uninstall: langchain-core\n",
            "    Found existing installation: langchain-core 0.3.13\n",
            "    Uninstalling langchain-core-0.3.13:\n",
            "      Successfully uninstalled langchain-core-0.3.13\n",
            "  Attempting uninstall: langchain-text-splitters\n",
            "    Found existing installation: langchain-text-splitters 0.3.0\n",
            "    Uninstalling langchain-text-splitters-0.3.0:\n",
            "      Successfully uninstalled langchain-text-splitters-0.3.0\n",
            "  Attempting uninstall: langchain\n",
            "    Found existing installation: langchain 0.3.4\n",
            "    Uninstalling langchain-0.3.4:\n",
            "      Successfully uninstalled langchain-0.3.4\n",
            "Successfully installed dataclasses-json-0.6.7 langchain-0.1.20 langchain-community-0.0.38 langchain-core-0.1.53 langchain-text-splitters-0.0.2 marshmallow-3.23.1 mypy-extensions-1.0.0 packaging-23.2 tenacity-8.5.0 typing-inspect-0.9.0\n",
            "Collecting chromadb==0.5.0\n",
            "  Downloading chromadb-0.5.0-py3-none-any.whl.metadata (7.3 kB)\n",
            "Collecting build>=1.0.3 (from chromadb==0.5.0)\n",
            "  Downloading build-1.2.2.post1-py3-none-any.whl.metadata (6.5 kB)\n",
            "Requirement already satisfied: requests>=2.28 in /usr/local/lib/python3.10/dist-packages (from chromadb==0.5.0) (2.32.3)\n",
            "Requirement already satisfied: pydantic>=1.9 in /usr/local/lib/python3.10/dist-packages (from chromadb==0.5.0) (2.9.2)\n",
            "Collecting chroma-hnswlib==0.7.3 (from chromadb==0.5.0)\n",
            "  Downloading chroma_hnswlib-0.7.3-cp310-cp310-manylinux_2_17_x86_64.manylinux2014_x86_64.whl.metadata (252 bytes)\n",
            "Collecting fastapi>=0.95.2 (from chromadb==0.5.0)\n",
            "  Downloading fastapi-0.115.4-py3-none-any.whl.metadata (27 kB)\n",
            "Collecting uvicorn>=0.18.3 (from uvicorn[standard]>=0.18.3->chromadb==0.5.0)\n",
            "  Downloading uvicorn-0.32.0-py3-none-any.whl.metadata (6.6 kB)\n",
            "Requirement already satisfied: numpy>=1.22.5 in /usr/local/lib/python3.10/dist-packages (from chromadb==0.5.0) (1.26.4)\n",
            "Collecting posthog>=2.4.0 (from chromadb==0.5.0)\n",
            "  Downloading posthog-3.7.0-py2.py3-none-any.whl.metadata (2.0 kB)\n",
            "Requirement already satisfied: typing-extensions>=4.5.0 in /usr/local/lib/python3.10/dist-packages (from chromadb==0.5.0) (4.12.2)\n",
            "Collecting onnxruntime>=1.14.1 (from chromadb==0.5.0)\n",
            "  Downloading onnxruntime-1.20.0-cp310-cp310-manylinux_2_27_x86_64.manylinux_2_28_x86_64.whl.metadata (4.4 kB)\n",
            "Requirement already satisfied: opentelemetry-api>=1.2.0 in /usr/local/lib/python3.10/dist-packages (from chromadb==0.5.0) (1.16.0)\n",
            "Collecting opentelemetry-exporter-otlp-proto-grpc>=1.2.0 (from chromadb==0.5.0)\n",
            "  Downloading opentelemetry_exporter_otlp_proto_grpc-1.27.0-py3-none-any.whl.metadata (2.3 kB)\n",
            "Collecting opentelemetry-instrumentation-fastapi>=0.41b0 (from chromadb==0.5.0)\n",
            "  Downloading opentelemetry_instrumentation_fastapi-0.48b0-py3-none-any.whl.metadata (2.1 kB)\n",
            "Requirement already satisfied: opentelemetry-sdk>=1.2.0 in /usr/local/lib/python3.10/dist-packages (from chromadb==0.5.0) (1.16.0)\n",
            "Requirement already satisfied: tokenizers>=0.13.2 in /usr/local/lib/python3.10/dist-packages (from chromadb==0.5.0) (0.19.1)\n",
            "Collecting pypika>=0.48.9 (from chromadb==0.5.0)\n",
            "  Downloading PyPika-0.48.9.tar.gz (67 kB)\n",
            "\u001b[2K     \u001b[90m━━━━━━━━━━━━━━━━━━━━━━━━━━━━━━━━━━━━━━━━\u001b[0m \u001b[32m67.3/67.3 kB\u001b[0m \u001b[31m5.3 MB/s\u001b[0m eta \u001b[36m0:00:00\u001b[0m\n",
            "\u001b[?25h  Installing build dependencies ... \u001b[?25l\u001b[?25hdone\n",
            "  Getting requirements to build wheel ... \u001b[?25l\u001b[?25hdone\n",
            "  Preparing metadata (pyproject.toml) ... \u001b[?25l\u001b[?25hdone\n",
            "Requirement already satisfied: tqdm>=4.65.0 in /usr/local/lib/python3.10/dist-packages (from chromadb==0.5.0) (4.66.6)\n",
            "Collecting overrides>=7.3.1 (from chromadb==0.5.0)\n",
            "  Downloading overrides-7.7.0-py3-none-any.whl.metadata (5.8 kB)\n",
            "Requirement already satisfied: importlib-resources in /usr/local/lib/python3.10/dist-packages (from chromadb==0.5.0) (6.4.5)\n",
            "Requirement already satisfied: grpcio>=1.58.0 in /usr/local/lib/python3.10/dist-packages (from chromadb==0.5.0) (1.64.1)\n",
            "Collecting bcrypt>=4.0.1 (from chromadb==0.5.0)\n",
            "  Downloading bcrypt-4.2.0-cp39-abi3-manylinux_2_28_x86_64.whl.metadata (9.6 kB)\n",
            "Requirement already satisfied: typer>=0.9.0 in /usr/local/lib/python3.10/dist-packages (from chromadb==0.5.0) (0.12.5)\n",
            "Collecting kubernetes>=28.1.0 (from chromadb==0.5.0)\n",
            "  Downloading kubernetes-31.0.0-py2.py3-none-any.whl.metadata (1.5 kB)\n",
            "Requirement already satisfied: tenacity>=8.2.3 in /usr/local/lib/python3.10/dist-packages (from chromadb==0.5.0) (8.5.0)\n",
            "Requirement already satisfied: PyYAML>=6.0.0 in /usr/local/lib/python3.10/dist-packages (from chromadb==0.5.0) (6.0.2)\n",
            "Collecting mmh3>=4.0.1 (from chromadb==0.5.0)\n",
            "  Downloading mmh3-5.0.1-cp310-cp310-manylinux_2_5_x86_64.manylinux1_x86_64.manylinux_2_17_x86_64.manylinux2014_x86_64.whl.metadata (14 kB)\n",
            "Requirement already satisfied: orjson>=3.9.12 in /usr/local/lib/python3.10/dist-packages (from chromadb==0.5.0) (3.10.10)\n",
            "Requirement already satisfied: packaging>=19.1 in /usr/local/lib/python3.10/dist-packages (from build>=1.0.3->chromadb==0.5.0) (23.2)\n",
            "Collecting pyproject_hooks (from build>=1.0.3->chromadb==0.5.0)\n",
            "  Downloading pyproject_hooks-1.2.0-py3-none-any.whl.metadata (1.3 kB)\n",
            "Requirement already satisfied: tomli>=1.1.0 in /usr/local/lib/python3.10/dist-packages (from build>=1.0.3->chromadb==0.5.0) (2.0.2)\n",
            "Collecting starlette<0.42.0,>=0.40.0 (from fastapi>=0.95.2->chromadb==0.5.0)\n",
            "  Downloading starlette-0.41.2-py3-none-any.whl.metadata (6.0 kB)\n",
            "Requirement already satisfied: certifi>=14.05.14 in /usr/local/lib/python3.10/dist-packages (from kubernetes>=28.1.0->chromadb==0.5.0) (2024.8.30)\n",
            "Requirement already satisfied: six>=1.9.0 in /usr/local/lib/python3.10/dist-packages (from kubernetes>=28.1.0->chromadb==0.5.0) (1.16.0)\n",
            "Requirement already satisfied: python-dateutil>=2.5.3 in /usr/local/lib/python3.10/dist-packages (from kubernetes>=28.1.0->chromadb==0.5.0) (2.8.2)\n",
            "Requirement already satisfied: google-auth>=1.0.1 in /usr/local/lib/python3.10/dist-packages (from kubernetes>=28.1.0->chromadb==0.5.0) (2.27.0)\n",
            "Requirement already satisfied: websocket-client!=0.40.0,!=0.41.*,!=0.42.*,>=0.32.0 in /usr/local/lib/python3.10/dist-packages (from kubernetes>=28.1.0->chromadb==0.5.0) (1.8.0)\n",
            "Requirement already satisfied: requests-oauthlib in /usr/local/lib/python3.10/dist-packages (from kubernetes>=28.1.0->chromadb==0.5.0) (1.3.1)\n",
            "Requirement already satisfied: oauthlib>=3.2.2 in /usr/local/lib/python3.10/dist-packages (from kubernetes>=28.1.0->chromadb==0.5.0) (3.2.2)\n",
            "Requirement already satisfied: urllib3>=1.24.2 in /usr/local/lib/python3.10/dist-packages (from kubernetes>=28.1.0->chromadb==0.5.0) (2.2.3)\n",
            "Collecting durationpy>=0.7 (from kubernetes>=28.1.0->chromadb==0.5.0)\n",
            "  Downloading durationpy-0.9-py3-none-any.whl.metadata (338 bytes)\n",
            "Collecting coloredlogs (from onnxruntime>=1.14.1->chromadb==0.5.0)\n",
            "  Downloading coloredlogs-15.0.1-py2.py3-none-any.whl.metadata (12 kB)\n",
            "Requirement already satisfied: flatbuffers in /usr/local/lib/python3.10/dist-packages (from onnxruntime>=1.14.1->chromadb==0.5.0) (24.3.25)\n",
            "Requirement already satisfied: protobuf in /usr/local/lib/python3.10/dist-packages (from onnxruntime>=1.14.1->chromadb==0.5.0) (3.20.3)\n",
            "Requirement already satisfied: sympy in /usr/local/lib/python3.10/dist-packages (from onnxruntime>=1.14.1->chromadb==0.5.0) (1.13.1)\n",
            "Requirement already satisfied: deprecated>=1.2.6 in /usr/local/lib/python3.10/dist-packages (from opentelemetry-api>=1.2.0->chromadb==0.5.0) (1.2.14)\n",
            "Requirement already satisfied: setuptools>=16.0 in /usr/local/lib/python3.10/dist-packages (from opentelemetry-api>=1.2.0->chromadb==0.5.0) (75.1.0)\n",
            "Requirement already satisfied: googleapis-common-protos~=1.52 in /usr/local/lib/python3.10/dist-packages (from opentelemetry-exporter-otlp-proto-grpc>=1.2.0->chromadb==0.5.0) (1.65.0)\n",
            "Collecting opentelemetry-exporter-otlp-proto-common==1.27.0 (from opentelemetry-exporter-otlp-proto-grpc>=1.2.0->chromadb==0.5.0)\n",
            "  Downloading opentelemetry_exporter_otlp_proto_common-1.27.0-py3-none-any.whl.metadata (1.8 kB)\n",
            "Collecting opentelemetry-proto==1.27.0 (from opentelemetry-exporter-otlp-proto-grpc>=1.2.0->chromadb==0.5.0)\n",
            "  Downloading opentelemetry_proto-1.27.0-py3-none-any.whl.metadata (2.3 kB)\n",
            "Collecting opentelemetry-sdk>=1.2.0 (from chromadb==0.5.0)\n",
            "  Downloading opentelemetry_sdk-1.27.0-py3-none-any.whl.metadata (1.5 kB)\n",
            "Collecting opentelemetry-instrumentation-asgi==0.48b0 (from opentelemetry-instrumentation-fastapi>=0.41b0->chromadb==0.5.0)\n",
            "  Downloading opentelemetry_instrumentation_asgi-0.48b0-py3-none-any.whl.metadata (2.0 kB)\n",
            "Collecting opentelemetry-instrumentation==0.48b0 (from opentelemetry-instrumentation-fastapi>=0.41b0->chromadb==0.5.0)\n",
            "  Downloading opentelemetry_instrumentation-0.48b0-py3-none-any.whl.metadata (6.1 kB)\n",
            "Collecting opentelemetry-semantic-conventions==0.48b0 (from opentelemetry-instrumentation-fastapi>=0.41b0->chromadb==0.5.0)\n",
            "  Downloading opentelemetry_semantic_conventions-0.48b0-py3-none-any.whl.metadata (2.4 kB)\n",
            "Collecting opentelemetry-util-http==0.48b0 (from opentelemetry-instrumentation-fastapi>=0.41b0->chromadb==0.5.0)\n",
            "  Downloading opentelemetry_util_http-0.48b0-py3-none-any.whl.metadata (2.5 kB)\n",
            "Requirement already satisfied: wrapt<2.0.0,>=1.0.0 in /usr/local/lib/python3.10/dist-packages (from opentelemetry-instrumentation==0.48b0->opentelemetry-instrumentation-fastapi>=0.41b0->chromadb==0.5.0) (1.16.0)\n",
            "Collecting asgiref~=3.0 (from opentelemetry-instrumentation-asgi==0.48b0->opentelemetry-instrumentation-fastapi>=0.41b0->chromadb==0.5.0)\n",
            "  Downloading asgiref-3.8.1-py3-none-any.whl.metadata (9.3 kB)\n",
            "Collecting opentelemetry-api>=1.2.0 (from chromadb==0.5.0)\n",
            "  Downloading opentelemetry_api-1.27.0-py3-none-any.whl.metadata (1.4 kB)\n",
            "Collecting importlib-metadata<=8.4.0,>=6.0 (from opentelemetry-api>=1.2.0->chromadb==0.5.0)\n",
            "  Downloading importlib_metadata-8.4.0-py3-none-any.whl.metadata (4.7 kB)\n",
            "Collecting monotonic>=1.5 (from posthog>=2.4.0->chromadb==0.5.0)\n",
            "  Downloading monotonic-1.6-py2.py3-none-any.whl.metadata (1.5 kB)\n",
            "Collecting backoff>=1.10.0 (from posthog>=2.4.0->chromadb==0.5.0)\n",
            "  Downloading backoff-2.2.1-py3-none-any.whl.metadata (14 kB)\n",
            "Requirement already satisfied: annotated-types>=0.6.0 in /usr/local/lib/python3.10/dist-packages (from pydantic>=1.9->chromadb==0.5.0) (0.7.0)\n",
            "Requirement already satisfied: pydantic-core==2.23.4 in /usr/local/lib/python3.10/dist-packages (from pydantic>=1.9->chromadb==0.5.0) (2.23.4)\n",
            "Requirement already satisfied: charset-normalizer<4,>=2 in /usr/local/lib/python3.10/dist-packages (from requests>=2.28->chromadb==0.5.0) (3.4.0)\n",
            "Requirement already satisfied: idna<4,>=2.5 in /usr/local/lib/python3.10/dist-packages (from requests>=2.28->chromadb==0.5.0) (3.10)\n",
            "Requirement already satisfied: huggingface-hub<1.0,>=0.16.4 in /usr/local/lib/python3.10/dist-packages (from tokenizers>=0.13.2->chromadb==0.5.0) (0.24.7)\n",
            "Requirement already satisfied: click>=8.0.0 in /usr/local/lib/python3.10/dist-packages (from typer>=0.9.0->chromadb==0.5.0) (8.1.7)\n",
            "Requirement already satisfied: shellingham>=1.3.0 in /usr/local/lib/python3.10/dist-packages (from typer>=0.9.0->chromadb==0.5.0) (1.5.4)\n",
            "Requirement already satisfied: rich>=10.11.0 in /usr/local/lib/python3.10/dist-packages (from typer>=0.9.0->chromadb==0.5.0) (13.9.3)\n",
            "Requirement already satisfied: h11>=0.8 in /usr/local/lib/python3.10/dist-packages (from uvicorn>=0.18.3->uvicorn[standard]>=0.18.3->chromadb==0.5.0) (0.14.0)\n",
            "Collecting httptools>=0.5.0 (from uvicorn[standard]>=0.18.3->chromadb==0.5.0)\n",
            "  Downloading httptools-0.6.4-cp310-cp310-manylinux_2_5_x86_64.manylinux1_x86_64.manylinux_2_17_x86_64.manylinux2014_x86_64.whl.metadata (3.6 kB)\n",
            "Collecting python-dotenv>=0.13 (from uvicorn[standard]>=0.18.3->chromadb==0.5.0)\n",
            "  Downloading python_dotenv-1.0.1-py3-none-any.whl.metadata (23 kB)\n",
            "Collecting uvloop!=0.15.0,!=0.15.1,>=0.14.0 (from uvicorn[standard]>=0.18.3->chromadb==0.5.0)\n",
            "  Downloading uvloop-0.21.0-cp310-cp310-manylinux_2_17_x86_64.manylinux2014_x86_64.whl.metadata (4.9 kB)\n",
            "Collecting watchfiles>=0.13 (from uvicorn[standard]>=0.18.3->chromadb==0.5.0)\n",
            "  Downloading watchfiles-0.24.0-cp310-cp310-manylinux_2_17_x86_64.manylinux2014_x86_64.whl.metadata (4.9 kB)\n",
            "Collecting websockets>=10.4 (from uvicorn[standard]>=0.18.3->chromadb==0.5.0)\n",
            "  Downloading websockets-13.1-cp310-cp310-manylinux_2_5_x86_64.manylinux1_x86_64.manylinux_2_17_x86_64.manylinux2014_x86_64.whl.metadata (6.8 kB)\n",
            "Requirement already satisfied: cachetools<6.0,>=2.0.0 in /usr/local/lib/python3.10/dist-packages (from google-auth>=1.0.1->kubernetes>=28.1.0->chromadb==0.5.0) (5.5.0)\n",
            "Requirement already satisfied: pyasn1-modules>=0.2.1 in /usr/local/lib/python3.10/dist-packages (from google-auth>=1.0.1->kubernetes>=28.1.0->chromadb==0.5.0) (0.4.1)\n",
            "Requirement already satisfied: rsa<5,>=3.1.4 in /usr/local/lib/python3.10/dist-packages (from google-auth>=1.0.1->kubernetes>=28.1.0->chromadb==0.5.0) (4.9)\n",
            "Requirement already satisfied: filelock in /usr/local/lib/python3.10/dist-packages (from huggingface-hub<1.0,>=0.16.4->tokenizers>=0.13.2->chromadb==0.5.0) (3.16.1)\n",
            "Requirement already satisfied: fsspec>=2023.5.0 in /usr/local/lib/python3.10/dist-packages (from huggingface-hub<1.0,>=0.16.4->tokenizers>=0.13.2->chromadb==0.5.0) (2024.10.0)\n",
            "Requirement already satisfied: zipp>=0.5 in /usr/local/lib/python3.10/dist-packages (from importlib-metadata<=8.4.0,>=6.0->opentelemetry-api>=1.2.0->chromadb==0.5.0) (3.20.2)\n",
            "Requirement already satisfied: markdown-it-py>=2.2.0 in /usr/local/lib/python3.10/dist-packages (from rich>=10.11.0->typer>=0.9.0->chromadb==0.5.0) (3.0.0)\n",
            "Requirement already satisfied: pygments<3.0.0,>=2.13.0 in /usr/local/lib/python3.10/dist-packages (from rich>=10.11.0->typer>=0.9.0->chromadb==0.5.0) (2.18.0)\n",
            "Requirement already satisfied: anyio<5,>=3.4.0 in /usr/local/lib/python3.10/dist-packages (from starlette<0.42.0,>=0.40.0->fastapi>=0.95.2->chromadb==0.5.0) (3.7.1)\n",
            "Collecting humanfriendly>=9.1 (from coloredlogs->onnxruntime>=1.14.1->chromadb==0.5.0)\n",
            "  Downloading humanfriendly-10.0-py2.py3-none-any.whl.metadata (9.2 kB)\n",
            "Requirement already satisfied: mpmath<1.4,>=1.1.0 in /usr/local/lib/python3.10/dist-packages (from sympy->onnxruntime>=1.14.1->chromadb==0.5.0) (1.3.0)\n",
            "Requirement already satisfied: sniffio>=1.1 in /usr/local/lib/python3.10/dist-packages (from anyio<5,>=3.4.0->starlette<0.42.0,>=0.40.0->fastapi>=0.95.2->chromadb==0.5.0) (1.3.1)\n",
            "Requirement already satisfied: exceptiongroup in /usr/local/lib/python3.10/dist-packages (from anyio<5,>=3.4.0->starlette<0.42.0,>=0.40.0->fastapi>=0.95.2->chromadb==0.5.0) (1.2.2)\n",
            "Requirement already satisfied: mdurl~=0.1 in /usr/local/lib/python3.10/dist-packages (from markdown-it-py>=2.2.0->rich>=10.11.0->typer>=0.9.0->chromadb==0.5.0) (0.1.2)\n",
            "Requirement already satisfied: pyasn1<0.7.0,>=0.4.6 in /usr/local/lib/python3.10/dist-packages (from pyasn1-modules>=0.2.1->google-auth>=1.0.1->kubernetes>=28.1.0->chromadb==0.5.0) (0.6.1)\n",
            "Downloading chromadb-0.5.0-py3-none-any.whl (526 kB)\n",
            "\u001b[2K   \u001b[90m━━━━━━━━━━━━━━━━━━━━━━━━━━━━━━━━━━━━━━━━\u001b[0m \u001b[32m526.8/526.8 kB\u001b[0m \u001b[31m35.1 MB/s\u001b[0m eta \u001b[36m0:00:00\u001b[0m\n",
            "\u001b[?25hDownloading chroma_hnswlib-0.7.3-cp310-cp310-manylinux_2_17_x86_64.manylinux2014_x86_64.whl (2.4 MB)\n",
            "\u001b[2K   \u001b[90m━━━━━━━━━━━━━━━━━━━━━━━━━━━━━━━━━━━━━━━━\u001b[0m \u001b[32m2.4/2.4 MB\u001b[0m \u001b[31m74.0 MB/s\u001b[0m eta \u001b[36m0:00:00\u001b[0m\n",
            "\u001b[?25hDownloading bcrypt-4.2.0-cp39-abi3-manylinux_2_28_x86_64.whl (273 kB)\n",
            "\u001b[2K   \u001b[90m━━━━━━━━━━━━━━━━━━━━━━━━━━━━━━━━━━━━━━━━\u001b[0m \u001b[32m273.8/273.8 kB\u001b[0m \u001b[31m22.3 MB/s\u001b[0m eta \u001b[36m0:00:00\u001b[0m\n",
            "\u001b[?25hDownloading build-1.2.2.post1-py3-none-any.whl (22 kB)\n",
            "Downloading fastapi-0.115.4-py3-none-any.whl (94 kB)\n",
            "\u001b[2K   \u001b[90m━━━━━━━━━━━━━━━━━━━━━━━━━━━━━━━━━━━━━━━━\u001b[0m \u001b[32m94.7/94.7 kB\u001b[0m \u001b[31m8.4 MB/s\u001b[0m eta \u001b[36m0:00:00\u001b[0m\n",
            "\u001b[?25hDownloading kubernetes-31.0.0-py2.py3-none-any.whl (1.9 MB)\n",
            "\u001b[2K   \u001b[90m━━━━━━━━━━━━━━━━━━━━━━━━━━━━━━━━━━━━━━━━\u001b[0m \u001b[32m1.9/1.9 MB\u001b[0m \u001b[31m69.0 MB/s\u001b[0m eta \u001b[36m0:00:00\u001b[0m\n",
            "\u001b[?25hDownloading mmh3-5.0.1-cp310-cp310-manylinux_2_5_x86_64.manylinux1_x86_64.manylinux_2_17_x86_64.manylinux2014_x86_64.whl (93 kB)\n",
            "\u001b[2K   \u001b[90m━━━━━━━━━━━━━━━━━━━━━━━━━━━━━━━━━━━━━━━━\u001b[0m \u001b[32m93.2/93.2 kB\u001b[0m \u001b[31m7.7 MB/s\u001b[0m eta \u001b[36m0:00:00\u001b[0m\n",
            "\u001b[?25hDownloading onnxruntime-1.20.0-cp310-cp310-manylinux_2_27_x86_64.manylinux_2_28_x86_64.whl (13.3 MB)\n",
            "\u001b[2K   \u001b[90m━━━━━━━━━━━━━━━━━━━━━━━━━━━━━━━━━━━━━━━━\u001b[0m \u001b[32m13.3/13.3 MB\u001b[0m \u001b[31m93.5 MB/s\u001b[0m eta \u001b[36m0:00:00\u001b[0m\n",
            "\u001b[?25hDownloading opentelemetry_exporter_otlp_proto_grpc-1.27.0-py3-none-any.whl (18 kB)\n",
            "Downloading opentelemetry_exporter_otlp_proto_common-1.27.0-py3-none-any.whl (17 kB)\n",
            "Downloading opentelemetry_proto-1.27.0-py3-none-any.whl (52 kB)\n",
            "\u001b[2K   \u001b[90m━━━━━━━━━━━━━━━━━━━━━━━━━━━━━━━━━━━━━━━━\u001b[0m \u001b[32m52.5/52.5 kB\u001b[0m \u001b[31m4.3 MB/s\u001b[0m eta \u001b[36m0:00:00\u001b[0m\n",
            "\u001b[?25hDownloading opentelemetry_instrumentation_fastapi-0.48b0-py3-none-any.whl (11 kB)\n",
            "Downloading opentelemetry_instrumentation-0.48b0-py3-none-any.whl (29 kB)\n",
            "Downloading opentelemetry_instrumentation_asgi-0.48b0-py3-none-any.whl (15 kB)\n",
            "Downloading opentelemetry_semantic_conventions-0.48b0-py3-none-any.whl (149 kB)\n",
            "\u001b[2K   \u001b[90m━━━━━━━━━━━━━━━━━━━━━━━━━━━━━━━━━━━━━━━━\u001b[0m \u001b[32m149.7/149.7 kB\u001b[0m \u001b[31m11.3 MB/s\u001b[0m eta \u001b[36m0:00:00\u001b[0m\n",
            "\u001b[?25hDownloading opentelemetry_api-1.27.0-py3-none-any.whl (63 kB)\n",
            "\u001b[2K   \u001b[90m━━━━━━━━━━━━━━━━━━━━━━━━━━━━━━━━━━━━━━━━\u001b[0m \u001b[32m64.0/64.0 kB\u001b[0m \u001b[31m4.4 MB/s\u001b[0m eta \u001b[36m0:00:00\u001b[0m\n",
            "\u001b[?25hDownloading opentelemetry_util_http-0.48b0-py3-none-any.whl (6.9 kB)\n",
            "Downloading opentelemetry_sdk-1.27.0-py3-none-any.whl (110 kB)\n",
            "\u001b[2K   \u001b[90m━━━━━━━━━━━━━━━━━━━━━━━━━━━━━━━━━━━━━━━━\u001b[0m \u001b[32m110.5/110.5 kB\u001b[0m \u001b[31m8.5 MB/s\u001b[0m eta \u001b[36m0:00:00\u001b[0m\n",
            "\u001b[?25hDownloading overrides-7.7.0-py3-none-any.whl (17 kB)\n",
            "Downloading posthog-3.7.0-py2.py3-none-any.whl (54 kB)\n",
            "\u001b[2K   \u001b[90m━━━━━━━━━━━━━━━━━━━━━━━━━━━━━━━━━━━━━━━━\u001b[0m \u001b[32m54.4/54.4 kB\u001b[0m \u001b[31m4.6 MB/s\u001b[0m eta \u001b[36m0:00:00\u001b[0m\n",
            "\u001b[?25hDownloading uvicorn-0.32.0-py3-none-any.whl (63 kB)\n",
            "\u001b[2K   \u001b[90m━━━━━━━━━━━━━━━━━━━━━━━━━━━━━━━━━━━━━━━━\u001b[0m \u001b[32m63.7/63.7 kB\u001b[0m \u001b[31m4.5 MB/s\u001b[0m eta \u001b[36m0:00:00\u001b[0m\n",
            "\u001b[?25hDownloading backoff-2.2.1-py3-none-any.whl (15 kB)\n",
            "Downloading durationpy-0.9-py3-none-any.whl (3.5 kB)\n",
            "Downloading httptools-0.6.4-cp310-cp310-manylinux_2_5_x86_64.manylinux1_x86_64.manylinux_2_17_x86_64.manylinux2014_x86_64.whl (442 kB)\n",
            "\u001b[2K   \u001b[90m━━━━━━━━━━━━━━━━━━━━━━━━━━━━━━━━━━━━━━━━\u001b[0m \u001b[32m442.1/442.1 kB\u001b[0m \u001b[31m32.6 MB/s\u001b[0m eta \u001b[36m0:00:00\u001b[0m\n",
            "\u001b[?25hDownloading importlib_metadata-8.4.0-py3-none-any.whl (26 kB)\n",
            "Downloading monotonic-1.6-py2.py3-none-any.whl (8.2 kB)\n",
            "Downloading python_dotenv-1.0.1-py3-none-any.whl (19 kB)\n",
            "Downloading starlette-0.41.2-py3-none-any.whl (73 kB)\n",
            "\u001b[2K   \u001b[90m━━━━━━━━━━━━━━━━━━━━━━━━━━━━━━━━━━━━━━━━\u001b[0m \u001b[32m73.3/73.3 kB\u001b[0m \u001b[31m6.5 MB/s\u001b[0m eta \u001b[36m0:00:00\u001b[0m\n",
            "\u001b[?25hDownloading uvloop-0.21.0-cp310-cp310-manylinux_2_17_x86_64.manylinux2014_x86_64.whl (3.8 MB)\n",
            "\u001b[2K   \u001b[90m━━━━━━━━━━━━━━━━━━━━━━━━━━━━━━━━━━━━━━━━\u001b[0m \u001b[32m3.8/3.8 MB\u001b[0m \u001b[31m88.6 MB/s\u001b[0m eta \u001b[36m0:00:00\u001b[0m\n",
            "\u001b[?25hDownloading watchfiles-0.24.0-cp310-cp310-manylinux_2_17_x86_64.manylinux2014_x86_64.whl (425 kB)\n",
            "\u001b[2K   \u001b[90m━━━━━━━━━━━━━━━━━━━━━━━━━━━━━━━━━━━━━━━━\u001b[0m \u001b[32m425.7/425.7 kB\u001b[0m \u001b[31m26.3 MB/s\u001b[0m eta \u001b[36m0:00:00\u001b[0m\n",
            "\u001b[?25hDownloading websockets-13.1-cp310-cp310-manylinux_2_5_x86_64.manylinux1_x86_64.manylinux_2_17_x86_64.manylinux2014_x86_64.whl (164 kB)\n",
            "\u001b[2K   \u001b[90m━━━━━━━━━━━━━━━━━━━━━━━━━━━━━━━━━━━━━━━━\u001b[0m \u001b[32m164.1/164.1 kB\u001b[0m \u001b[31m14.5 MB/s\u001b[0m eta \u001b[36m0:00:00\u001b[0m\n",
            "\u001b[?25hDownloading coloredlogs-15.0.1-py2.py3-none-any.whl (46 kB)\n",
            "\u001b[2K   \u001b[90m━━━━━━━━━━━━━━━━━━━━━━━━━━━━━━━━━━━━━━━━\u001b[0m \u001b[32m46.0/46.0 kB\u001b[0m \u001b[31m3.7 MB/s\u001b[0m eta \u001b[36m0:00:00\u001b[0m\n",
            "\u001b[?25hDownloading pyproject_hooks-1.2.0-py3-none-any.whl (10 kB)\n",
            "Downloading asgiref-3.8.1-py3-none-any.whl (23 kB)\n",
            "Downloading humanfriendly-10.0-py2.py3-none-any.whl (86 kB)\n",
            "\u001b[2K   \u001b[90m━━━━━━━━━━━━━━━━━━━━━━━━━━━━━━━━━━━━━━━━\u001b[0m \u001b[32m86.8/86.8 kB\u001b[0m \u001b[31m7.6 MB/s\u001b[0m eta \u001b[36m0:00:00\u001b[0m\n",
            "\u001b[?25hBuilding wheels for collected packages: pypika\n",
            "  Building wheel for pypika (pyproject.toml) ... \u001b[?25l\u001b[?25hdone\n",
            "  Created wheel for pypika: filename=PyPika-0.48.9-py2.py3-none-any.whl size=53725 sha256=b8b3f84350b51052897f69e8172ece066c26f3019d75cb173cd9498a5b1f741b\n",
            "  Stored in directory: /root/.cache/pip/wheels/e1/26/51/d0bffb3d2fd82256676d7ad3003faea3bd6dddc9577af665f4\n",
            "Successfully built pypika\n",
            "Installing collected packages: pypika, monotonic, durationpy, websockets, uvloop, uvicorn, python-dotenv, pyproject_hooks, overrides, opentelemetry-util-http, opentelemetry-proto, mmh3, importlib-metadata, humanfriendly, httptools, chroma-hnswlib, bcrypt, backoff, asgiref, watchfiles, starlette, posthog, opentelemetry-exporter-otlp-proto-common, opentelemetry-api, coloredlogs, build, opentelemetry-semantic-conventions, opentelemetry-instrumentation, onnxruntime, kubernetes, fastapi, opentelemetry-sdk, opentelemetry-instrumentation-asgi, opentelemetry-instrumentation-fastapi, opentelemetry-exporter-otlp-proto-grpc, chromadb\n",
            "  Attempting uninstall: importlib-metadata\n",
            "    Found existing installation: importlib_metadata 8.5.0\n",
            "    Uninstalling importlib_metadata-8.5.0:\n",
            "      Successfully uninstalled importlib_metadata-8.5.0\n",
            "  Attempting uninstall: opentelemetry-api\n",
            "    Found existing installation: opentelemetry-api 1.16.0\n",
            "    Uninstalling opentelemetry-api-1.16.0:\n",
            "      Successfully uninstalled opentelemetry-api-1.16.0\n",
            "  Attempting uninstall: opentelemetry-semantic-conventions\n",
            "    Found existing installation: opentelemetry-semantic-conventions 0.37b0\n",
            "    Uninstalling opentelemetry-semantic-conventions-0.37b0:\n",
            "      Successfully uninstalled opentelemetry-semantic-conventions-0.37b0\n",
            "  Attempting uninstall: opentelemetry-sdk\n",
            "    Found existing installation: opentelemetry-sdk 1.16.0\n",
            "    Uninstalling opentelemetry-sdk-1.16.0:\n",
            "      Successfully uninstalled opentelemetry-sdk-1.16.0\n",
            "Successfully installed asgiref-3.8.1 backoff-2.2.1 bcrypt-4.2.0 build-1.2.2.post1 chroma-hnswlib-0.7.3 chromadb-0.5.0 coloredlogs-15.0.1 durationpy-0.9 fastapi-0.115.4 httptools-0.6.4 humanfriendly-10.0 importlib-metadata-8.4.0 kubernetes-31.0.0 mmh3-5.0.1 monotonic-1.6 onnxruntime-1.20.0 opentelemetry-api-1.27.0 opentelemetry-exporter-otlp-proto-common-1.27.0 opentelemetry-exporter-otlp-proto-grpc-1.27.0 opentelemetry-instrumentation-0.48b0 opentelemetry-instrumentation-asgi-0.48b0 opentelemetry-instrumentation-fastapi-0.48b0 opentelemetry-proto-1.27.0 opentelemetry-sdk-1.27.0 opentelemetry-semantic-conventions-0.48b0 opentelemetry-util-http-0.48b0 overrides-7.7.0 posthog-3.7.0 pypika-0.48.9 pyproject_hooks-1.2.0 python-dotenv-1.0.1 starlette-0.41.2 uvicorn-0.32.0 uvloop-0.21.0 watchfiles-0.24.0 websockets-13.1\n",
            "Collecting faiss-cpu\n",
            "  Downloading faiss_cpu-1.9.0-cp310-cp310-manylinux_2_17_x86_64.manylinux2014_x86_64.whl.metadata (4.4 kB)\n",
            "Requirement already satisfied: numpy<3.0,>=1.25.0 in /usr/local/lib/python3.10/dist-packages (from faiss-cpu) (1.26.4)\n",
            "Requirement already satisfied: packaging in /usr/local/lib/python3.10/dist-packages (from faiss-cpu) (23.2)\n",
            "Downloading faiss_cpu-1.9.0-cp310-cp310-manylinux_2_17_x86_64.manylinux2014_x86_64.whl (27.5 MB)\n",
            "\u001b[2K   \u001b[90m━━━━━━━━━━━━━━━━━━━━━━━━━━━━━━━━━━━━━━━━\u001b[0m \u001b[32m27.5/27.5 MB\u001b[0m \u001b[31m67.1 MB/s\u001b[0m eta \u001b[36m0:00:00\u001b[0m\n",
            "\u001b[?25hInstalling collected packages: faiss-cpu\n",
            "Successfully installed faiss-cpu-1.9.0\n"
          ]
        }
      ],
      "source": [
        "!pip install Pyfhel\n",
        "!pip install openai==0.28.1\n",
        "!pip install tiktoken==0.6.0\n",
        "!pip install langchain==0.1.20\n",
        "!pip install chromadb==0.5.0\n",
        "!pip install faiss-cpu"
      ]
    },
    {
      "cell_type": "code",
      "execution_count": 2,
      "metadata": {
        "id": "p_Ug9yBkVSuQ"
      },
      "outputs": [],
      "source": [
        "import openai\n",
        "import numpy as np\n",
        "import pandas as pd\n",
        "from langchain.chat_models import ChatOpenAI\n",
        "from langchain.document_loaders import CSVLoader\n",
        "from langchain.embeddings import OpenAIEmbeddings\n",
        "from langchain.prompts import ChatPromptTemplate\n",
        "from langchain.vectorstores import Chroma\n",
        "from langchain_core.output_parsers import StrOutputParser\n",
        "from langchain_core.runnables import RunnableLambda, RunnablePassthrough\n",
        "from openai.embeddings_utils import get_embedding\n",
        "import faiss\n",
        "import warnings\n",
        "from Pyfhel import Pyfhel, PyPtxt\n",
        "import os\n",
        "warnings.filterwarnings(\"ignore\")"
      ]
    },
    {
      "cell_type": "code",
      "execution_count": 9,
      "metadata": {
        "id": "phASLjEjZfFK"
      },
      "outputs": [],
      "source": [
        "os.environ['OPENAI_API_KEY'] = ''"
      ]
    },
    {
      "cell_type": "code",
      "execution_count": 10,
      "metadata": {
        "id": "Qa9VImzqatqj"
      },
      "outputs": [],
      "source": [
        "openai.api_key = ''"
      ]
    },
    {
      "cell_type": "code",
      "execution_count": 11,
      "metadata": {
        "id": "zsPmbO-IXDIr"
      },
      "outputs": [],
      "source": [
        "System_Prompt = \"\"\"\n",
        "Role:\n",
        "You are Prism, an authoritative and knowledgeable assistant for Prismo Technology. Your main function is to provide users with clear, detailed, and understandable information about the Prismo Technology whitepaper, including its advanced security features, transparency mechanisms, and the Prismo Accountability Layer.\n",
        "\n",
        "Instructions:\n",
        "\n",
        "Greet the user and offer assistance with any questions they have about the whitepaper.\n",
        "Summarize complex concepts from the whitepaper in simple, user-friendly language.\n",
        "Provide concise answers to specific questions regarding blockchain, security, transparency, or any other relevant section of the whitepaper.\n",
        "Highlight key parts of the whitepaper, offering context and insights into why they are important for users.\n",
        "Clarify technical jargon by providing definitions or breaking them down into layman’s terms.\n",
        "Ensure users leave each conversation feeling informed and reassured about Prismo Technology’s commitment to security and transparency.\n",
        "\n",
        "Context:\n",
        "Prismo Technology is pioneering a new era of trust by using blockchain technology to create secure and transparent digital interactions. The Prismo Accountability Layer is central to this, as it ensures every transaction is tamper-proof and fully traceable. Users rely on Prism to explain how the whitepaper outlines these features and how they contribute to a secure, trustworthy digital environment.\n",
        "\n",
        "Constraints:\n",
        "\n",
        "Avoid using overly technical or confusing jargon unless the user specifically asks for technical details.\n",
        "Always simplify complex concepts and provide analogies when necessary to make information more accessible.\n",
        "Stay within the boundaries of the Prismo whitepaper content; do not speculate or provide information not covered in the document.\n",
        "Ensure that all responses are concise, informative, and transparent, aligning with Prismo’s values of trust and integrity.\n",
        "Examples:\n",
        "\n",
        "User Question: \"What is the Prismo Accountability Layer?\"\n",
        "Prism Response: \"The Prismo Accountability Layer is the core technology that ensures every transaction within the Prismo ecosystem is secure and transparent. It uses blockchain to record all interactions in an immutable way, so no one can alter or tamper with the data. This provides full transparency and allows users to verify all actions taken with their data.\"\n",
        "\n",
        "User Question: \"How does Prismo ensure my data is protected?\"\n",
        "Prism Response: \"Prismo uses advanced encryption and blockchain technology to safeguard your data. This means that all data is stored in a way that prevents unauthorized access, and the use of blockchain ensures that every action involving your data is logged and cannot be changed, providing a secure and transparent environment.\"\n",
        "\n",
        "User Question: \"What are the key takeaways from the whitepaper?\"\n",
        "Prism Response: \"The key points of the Prismo Technology whitepaper are: first, the introduction of the Prismo Accountability Layer, which ensures secure and transparent transactions through blockchain; second, the use of advanced security measures like encryption to protect data; and finally, how this technology aims to build a new era of trust in digital interactions.\"\n",
        "\"\"\""
      ]
    },
    {
      "cell_type": "code",
      "execution_count": 12,
      "metadata": {
        "id": "LykPLnDhb0F-"
      },
      "outputs": [],
      "source": [
        "struct = [{\"role\": \"system\", \"content\": System_Prompt}]"
      ]
    },
    {
      "cell_type": "code",
      "execution_count": 13,
      "metadata": {
        "id": "U2CeoKqDYwf5"
      },
      "outputs": [],
      "source": [
        "dataframed = pd.read_csv('https://raw.githubusercontent.com/PrismoProtocolDevelopment/Prism_Prismo_Technology/refs/heads/main/Dataset/Prismo_Knowledgebase.csv')"
      ]
    },
    {
      "cell_type": "code",
      "execution_count": 14,
      "metadata": {
        "id": "T95iljJPQVaj"
      },
      "outputs": [],
      "source": [
        "dataframed['combined'] = dataframed.apply(lambda row : ' '.join(row.values.astype(str)), axis = 1)\n",
        "documents = dataframed['combined'].tolist()\n",
        "embeddings = [get_embedding(doc, engine = \"text-embedding-ada-002\") for doc in documents]\n",
        "embedding_dim = len(embeddings[0])\n",
        "embeddings_np = np.array(embeddings).astype('float32')\n",
        "index = faiss.IndexFlatL2(embedding_dim)\n",
        "index.add(embeddings_np)"
      ]
    },
    {
      "cell_type": "code",
      "execution_count": 15,
      "metadata": {
        "id": "EyYCmttQbbHk"
      },
      "outputs": [],
      "source": [
        "user_message = \"What is the Prismo Accountability Layer?\""
      ]
    },
    {
      "cell_type": "code",
      "execution_count": 16,
      "metadata": {
        "id": "HoVYpsMHbl54"
      },
      "outputs": [],
      "source": [
        "query_embedding = get_embedding(user_message, engine='text-embedding-3-small')\n",
        "query_embedding_np = np.array([query_embedding]).astype('float32')\n",
        "_, indices = index.search(query_embedding_np, 5)\n",
        "retrieved_docs = [documents[i] for i in indices[0]]\n",
        "context = ' '.join(retrieved_docs)\n",
        "structured_prompt = f\"Context:\\n{context}\\n\\nQuery:\\n{user_message}\\n\\nResponse:\""
      ]
    },
    {
      "cell_type": "code",
      "execution_count": 17,
      "metadata": {
        "id": "sTGAfCSYbupP"
      },
      "outputs": [],
      "source": [
        "chat =  openai.ChatCompletion.create(model = \"gpt-4o-mini\", messages = struct + [{\"role\": \"user\", \"content\" : structured_prompt}], temperature=0.5, max_tokens=1500, top_p=1, frequency_penalty=0, presence_penalty=0)\n",
        "struct.append({\"role\": \"user\", \"content\": user_message})\n",
        "response = chat.choices[0].message.content\n",
        "struct.append({\"role\": \"assistant\", \"content\": response})"
      ]
    },
    {
      "cell_type": "code",
      "execution_count": 18,
      "metadata": {
        "colab": {
          "base_uri": "https://localhost:8080/"
        },
        "id": "FFJftFifcbQH",
        "outputId": "21f9e6f9-df1a-4b1f-bfde-0cded729b1d0"
      },
      "outputs": [
        {
          "output_type": "stream",
          "name": "stdout",
          "text": [
            "The Prismo Accountability Layer is a fundamental component of Prismo Technology that ensures every transaction within its ecosystem is secure, transparent, and tamper-proof. It utilizes blockchain technology to create an immutable record of all interactions, meaning that once a transaction is recorded, it cannot be altered or deleted. This feature provides users with the ability to verify every action taken with their data, fostering trust and accountability in digital interactions. Essentially, it acts like a digital ledger that everyone can see, ensuring that all transactions are honest and traceable.\n"
          ]
        }
      ],
      "source": [
        "print(response)"
      ]
    },
    {
      "cell_type": "code",
      "execution_count": 19,
      "metadata": {
        "id": "sk_IaohGezaV"
      },
      "outputs": [],
      "source": [
        "encoded_text = [ord(char) for char in response]"
      ]
    },
    {
      "cell_type": "code",
      "execution_count": 20,
      "metadata": {
        "colab": {
          "base_uri": "https://localhost:8080/"
        },
        "id": "X3cW9RlwcdyZ",
        "outputId": "c13b2ba8-afcf-41d9-8af7-d0e9f8e246db"
      },
      "outputs": [
        {
          "output_type": "stream",
          "name": "stdout",
          "text": [
            "Encoded Text: [84, 104, 101, 32, 80, 114, 105, 115, 109, 111, 32, 65, 99, 99, 111, 117, 110, 116, 97, 98, 105, 108, 105, 116, 121, 32, 76, 97, 121, 101, 114, 32, 105, 115, 32, 97, 32, 102, 117, 110, 100, 97, 109, 101, 110, 116, 97, 108, 32, 99, 111, 109, 112, 111, 110, 101, 110, 116, 32, 111, 102, 32, 80, 114, 105, 115, 109, 111, 32, 84, 101, 99, 104, 110, 111, 108, 111, 103, 121, 32, 116, 104, 97, 116, 32, 101, 110, 115, 117, 114, 101, 115, 32, 101, 118, 101, 114, 121, 32, 116, 114, 97, 110, 115, 97, 99, 116, 105, 111, 110, 32, 119, 105, 116, 104, 105, 110, 32, 105, 116, 115, 32, 101, 99, 111, 115, 121, 115, 116, 101, 109, 32, 105, 115, 32, 115, 101, 99, 117, 114, 101, 44, 32, 116, 114, 97, 110, 115, 112, 97, 114, 101, 110, 116, 44, 32, 97, 110, 100, 32, 116, 97, 109, 112, 101, 114, 45, 112, 114, 111, 111, 102, 46, 32, 73, 116, 32, 117, 116, 105, 108, 105, 122, 101, 115, 32, 98, 108, 111, 99, 107, 99, 104, 97, 105, 110, 32, 116, 101, 99, 104, 110, 111, 108, 111, 103, 121, 32, 116, 111, 32, 99, 114, 101, 97, 116, 101, 32, 97, 110, 32, 105, 109, 109, 117, 116, 97, 98, 108, 101, 32, 114, 101, 99, 111, 114, 100, 32, 111, 102, 32, 97, 108, 108, 32, 105, 110, 116, 101, 114, 97, 99, 116, 105, 111, 110, 115, 44, 32, 109, 101, 97, 110, 105, 110, 103, 32, 116, 104, 97, 116, 32, 111, 110, 99, 101, 32, 97, 32, 116, 114, 97, 110, 115, 97, 99, 116, 105, 111, 110, 32, 105, 115, 32, 114, 101, 99, 111, 114, 100, 101, 100, 44, 32, 105, 116, 32, 99, 97, 110, 110, 111, 116, 32, 98, 101, 32, 97, 108, 116, 101, 114, 101, 100, 32, 111, 114, 32, 100, 101, 108, 101, 116, 101, 100, 46, 32, 84, 104, 105, 115, 32, 102, 101, 97, 116, 117, 114, 101, 32, 112, 114, 111, 118, 105, 100, 101, 115, 32, 117, 115, 101, 114, 115, 32, 119, 105, 116, 104, 32, 116, 104, 101, 32, 97, 98, 105, 108, 105, 116, 121, 32, 116, 111, 32, 118, 101, 114, 105, 102, 121, 32, 101, 118, 101, 114, 121, 32, 97, 99, 116, 105, 111, 110, 32, 116, 97, 107, 101, 110, 32, 119, 105, 116, 104, 32, 116, 104, 101, 105, 114, 32, 100, 97, 116, 97, 44, 32, 102, 111, 115, 116, 101, 114, 105, 110, 103, 32, 116, 114, 117, 115, 116, 32, 97, 110, 100, 32, 97, 99, 99, 111, 117, 110, 116, 97, 98, 105, 108, 105, 116, 121, 32, 105, 110, 32, 100, 105, 103, 105, 116, 97, 108, 32, 105, 110, 116, 101, 114, 97, 99, 116, 105, 111, 110, 115, 46, 32, 69, 115, 115, 101, 110, 116, 105, 97, 108, 108, 121, 44, 32, 105, 116, 32, 97, 99, 116, 115, 32, 108, 105, 107, 101, 32, 97, 32, 100, 105, 103, 105, 116, 97, 108, 32, 108, 101, 100, 103, 101, 114, 32, 116, 104, 97, 116, 32, 101, 118, 101, 114, 121, 111, 110, 101, 32, 99, 97, 110, 32, 115, 101, 101, 44, 32, 101, 110, 115, 117, 114, 105, 110, 103, 32, 116, 104, 97, 116, 32, 97, 108, 108, 32, 116, 114, 97, 110, 115, 97, 99, 116, 105, 111, 110, 115, 32, 97, 114, 101, 32, 104, 111, 110, 101, 115, 116, 32, 97, 110, 100, 32, 116, 114, 97, 99, 101, 97, 98, 108, 101, 46]\n"
          ]
        }
      ],
      "source": [
        "print(f\"Encoded Text: {encoded_text}\")"
      ]
    },
    {
      "cell_type": "code",
      "execution_count": 21,
      "metadata": {
        "colab": {
          "base_uri": "https://localhost:8080/"
        },
        "id": "r9CgkRydxMTx",
        "outputId": "8a632f06-d4c0-4634-e109-51cb1cff6778"
      },
      "outputs": [
        {
          "output_type": "stream",
          "name": "stdout",
          "text": [
            "Cipher Text: ['<Pyfhel Ciphertext at 0x7c41a499f060, scheme=bfv, size=2/2, noiseBudget=361>', '<Pyfhel Ciphertext at 0x7c41a499d760, scheme=bfv, size=2/2, noiseBudget=361>', '<Pyfhel Ciphertext at 0x7c41a499e1b0, scheme=bfv, size=2/2, noiseBudget=361>', '<Pyfhel Ciphertext at 0x7c41a499cae0, scheme=bfv, size=2/2, noiseBudget=361>', '<Pyfhel Ciphertext at 0x7c41a499d5d0, scheme=bfv, size=2/2, noiseBudget=361>', '<Pyfhel Ciphertext at 0x7c41a499c7c0, scheme=bfv, size=2/2, noiseBudget=361>', '<Pyfhel Ciphertext at 0x7c41a499c720, scheme=bfv, size=2/2, noiseBudget=361>', '<Pyfhel Ciphertext at 0x7c41a499d1c0, scheme=bfv, size=2/2, noiseBudget=361>', '<Pyfhel Ciphertext at 0x7c41a499d6c0, scheme=bfv, size=2/2, noiseBudget=361>', '<Pyfhel Ciphertext at 0x7c41a499c4f0, scheme=bfv, size=2/2, noiseBudget=361>', '<Pyfhel Ciphertext at 0x7c41a499c4a0, scheme=bfv, size=2/2, noiseBudget=361>', '<Pyfhel Ciphertext at 0x7c41a48e3290, scheme=bfv, size=2/2, noiseBudget=361>', '<Pyfhel Ciphertext at 0x7c41a7672160, scheme=bfv, size=2/2, noiseBudget=361>', '<Pyfhel Ciphertext at 0x7c41a48e36a0, scheme=bfv, size=2/2, noiseBudget=361>', '<Pyfhel Ciphertext at 0x7c41a4ab6cf0, scheme=bfv, size=2/2, noiseBudget=361>', '<Pyfhel Ciphertext at 0x7c41a499d490, scheme=bfv, size=2/2, noiseBudget=361>', '<Pyfhel Ciphertext at 0x7c41a499c270, scheme=bfv, size=2/2, noiseBudget=361>', '<Pyfhel Ciphertext at 0x7c41a7cccb30, scheme=bfv, size=2/2, noiseBudget=361>', '<Pyfhel Ciphertext at 0x7c41a48e2a20, scheme=bfv, size=2/2, noiseBudget=361>', '<Pyfhel Ciphertext at 0x7c41a48e3330, scheme=bfv, size=2/2, noiseBudget=361>', '<Pyfhel Ciphertext at 0x7c41a499e3e0, scheme=bfv, size=2/2, noiseBudget=361>', '<Pyfhel Ciphertext at 0x7c41a499c9a0, scheme=bfv, size=2/2, noiseBudget=361>', '<Pyfhel Ciphertext at 0x7c41a499d120, scheme=bfv, size=2/2, noiseBudget=361>', '<Pyfhel Ciphertext at 0x7c41a499e250, scheme=bfv, size=2/2, noiseBudget=361>', '<Pyfhel Ciphertext at 0x7c41a499e750, scheme=bfv, size=2/2, noiseBudget=361>', '<Pyfhel Ciphertext at 0x7c41a499e890, scheme=bfv, size=2/2, noiseBudget=361>', '<Pyfhel Ciphertext at 0x7c41a499eca0, scheme=bfv, size=2/2, noiseBudget=361>', '<Pyfhel Ciphertext at 0x7c41a499ec50, scheme=bfv, size=2/2, noiseBudget=361>', '<Pyfhel Ciphertext at 0x7c41a499ed40, scheme=bfv, size=2/2, noiseBudget=361>', '<Pyfhel Ciphertext at 0x7c41a499ecf0, scheme=bfv, size=2/2, noiseBudget=361>', '<Pyfhel Ciphertext at 0x7c41a499ed90, scheme=bfv, size=2/2, noiseBudget=361>', '<Pyfhel Ciphertext at 0x7c41a499ede0, scheme=bfv, size=2/2, noiseBudget=361>', '<Pyfhel Ciphertext at 0x7c41a499ee30, scheme=bfv, size=2/2, noiseBudget=361>', '<Pyfhel Ciphertext at 0x7c41a499ee80, scheme=bfv, size=2/2, noiseBudget=361>', '<Pyfhel Ciphertext at 0x7c41a499c3b0, scheme=bfv, size=2/2, noiseBudget=361>', '<Pyfhel Ciphertext at 0x7c41a499ef20, scheme=bfv, size=2/2, noiseBudget=361>', '<Pyfhel Ciphertext at 0x7c41a499eed0, scheme=bfv, size=2/2, noiseBudget=361>', '<Pyfhel Ciphertext at 0x7c41a499ea70, scheme=bfv, size=2/2, noiseBudget=361>', '<Pyfhel Ciphertext at 0x7c41a499e070, scheme=bfv, size=2/2, noiseBudget=361>', '<Pyfhel Ciphertext at 0x7c41a499cf90, scheme=bfv, size=2/2, noiseBudget=361>', '<Pyfhel Ciphertext at 0x7c41a499dfd0, scheme=bfv, size=2/2, noiseBudget=361>', '<Pyfhel Ciphertext at 0x7c41a499dda0, scheme=bfv, size=2/2, noiseBudget=361>', '<Pyfhel Ciphertext at 0x7c41a499e700, scheme=bfv, size=2/2, noiseBudget=361>', '<Pyfhel Ciphertext at 0x7c41a499cf40, scheme=bfv, size=2/2, noiseBudget=361>', '<Pyfhel Ciphertext at 0x7c41a499d670, scheme=bfv, size=2/2, noiseBudget=361>', '<Pyfhel Ciphertext at 0x7c41a499e7f0, scheme=bfv, size=2/2, noiseBudget=361>', '<Pyfhel Ciphertext at 0x7c41a499c9f0, scheme=bfv, size=2/2, noiseBudget=361>', '<Pyfhel Ciphertext at 0x7c41a499e6b0, scheme=bfv, size=2/2, noiseBudget=361>', '<Pyfhel Ciphertext at 0x7c41a499ebb0, scheme=bfv, size=2/2, noiseBudget=361>', '<Pyfhel Ciphertext at 0x7c41a499c540, scheme=bfv, size=2/2, noiseBudget=361>', '<Pyfhel Ciphertext at 0x7c41a499eb10, scheme=bfv, size=2/2, noiseBudget=361>', '<Pyfhel Ciphertext at 0x7c41a499f0b0, scheme=bfv, size=2/2, noiseBudget=361>', '<Pyfhel Ciphertext at 0x7c41a499f100, scheme=bfv, size=2/2, noiseBudget=361>', '<Pyfhel Ciphertext at 0x7c41a499f150, scheme=bfv, size=2/2, noiseBudget=361>', '<Pyfhel Ciphertext at 0x7c41a499f1a0, scheme=bfv, size=2/2, noiseBudget=361>', '<Pyfhel Ciphertext at 0x7c41a499f1f0, scheme=bfv, size=2/2, noiseBudget=361>', '<Pyfhel Ciphertext at 0x7c41a499f240, scheme=bfv, size=2/2, noiseBudget=361>', '<Pyfhel Ciphertext at 0x7c41a499f290, scheme=bfv, size=2/2, noiseBudget=361>', '<Pyfhel Ciphertext at 0x7c41a4ab6ca0, scheme=bfv, size=2/2, noiseBudget=361>', '<Pyfhel Ciphertext at 0x7c41a499f2e0, scheme=bfv, size=2/2, noiseBudget=361>', '<Pyfhel Ciphertext at 0x7c41a499f380, scheme=bfv, size=2/2, noiseBudget=361>', '<Pyfhel Ciphertext at 0x7c41a76ad300, scheme=bfv, size=2/2, noiseBudget=361>', '<Pyfhel Ciphertext at 0x7c41a499f420, scheme=bfv, size=2/2, noiseBudget=361>', '<Pyfhel Ciphertext at 0x7c41a499f4c0, scheme=bfv, size=2/2, noiseBudget=361>', '<Pyfhel Ciphertext at 0x7c41a499f510, scheme=bfv, size=2/2, noiseBudget=361>', '<Pyfhel Ciphertext at 0x7c41a499f5b0, scheme=bfv, size=2/2, noiseBudget=361>', '<Pyfhel Ciphertext at 0x7c41a499f560, scheme=bfv, size=2/2, noiseBudget=361>', '<Pyfhel Ciphertext at 0x7c41a499f650, scheme=bfv, size=2/2, noiseBudget=361>', '<Pyfhel Ciphertext at 0x7c41a499f600, scheme=bfv, size=2/2, noiseBudget=361>', '<Pyfhel Ciphertext at 0x7c41a499f6a0, scheme=bfv, size=2/2, noiseBudget=361>', '<Pyfhel Ciphertext at 0x7c41a499f6f0, scheme=bfv, size=2/2, noiseBudget=361>', '<Pyfhel Ciphertext at 0x7c41a499f740, scheme=bfv, size=2/2, noiseBudget=361>', '<Pyfhel Ciphertext at 0x7c41a499f790, scheme=bfv, size=2/2, noiseBudget=361>', '<Pyfhel Ciphertext at 0x7c41a499f830, scheme=bfv, size=2/2, noiseBudget=361>', '<Pyfhel Ciphertext at 0x7c41a499f880, scheme=bfv, size=2/2, noiseBudget=361>', '<Pyfhel Ciphertext at 0x7c41a499f8d0, scheme=bfv, size=2/2, noiseBudget=361>', '<Pyfhel Ciphertext at 0x7c41a499f920, scheme=bfv, size=2/2, noiseBudget=361>', '<Pyfhel Ciphertext at 0x7c41a499f7e0, scheme=bfv, size=2/2, noiseBudget=361>', '<Pyfhel Ciphertext at 0x7c41a499f970, scheme=bfv, size=2/2, noiseBudget=361>', '<Pyfhel Ciphertext at 0x7c41a499f9c0, scheme=bfv, size=2/2, noiseBudget=361>', '<Pyfhel Ciphertext at 0x7c41a499fa10, scheme=bfv, size=2/2, noiseBudget=361>', '<Pyfhel Ciphertext at 0x7c41a499fa60, scheme=bfv, size=2/2, noiseBudget=361>', '<Pyfhel Ciphertext at 0x7c41a499fab0, scheme=bfv, size=2/2, noiseBudget=361>', '<Pyfhel Ciphertext at 0x7c41a499fb00, scheme=bfv, size=2/2, noiseBudget=361>', '<Pyfhel Ciphertext at 0x7c41a499fb50, scheme=bfv, size=2/2, noiseBudget=361>', '<Pyfhel Ciphertext at 0x7c41a499fba0, scheme=bfv, size=2/2, noiseBudget=361>', '<Pyfhel Ciphertext at 0x7c41a499fbf0, scheme=bfv, size=2/2, noiseBudget=361>', '<Pyfhel Ciphertext at 0x7c41a499fc40, scheme=bfv, size=2/2, noiseBudget=361>', '<Pyfhel Ciphertext at 0x7c41a499fc90, scheme=bfv, size=2/2, noiseBudget=361>', '<Pyfhel Ciphertext at 0x7c41a499fd30, scheme=bfv, size=2/2, noiseBudget=361>', '<Pyfhel Ciphertext at 0x7c41a499fce0, scheme=bfv, size=2/2, noiseBudget=361>', '<Pyfhel Ciphertext at 0x7c41a499fdd0, scheme=bfv, size=2/2, noiseBudget=361>', '<Pyfhel Ciphertext at 0x7c41a499fd80, scheme=bfv, size=2/2, noiseBudget=361>', '<Pyfhel Ciphertext at 0x7c41a499fe20, scheme=bfv, size=2/2, noiseBudget=361>', '<Pyfhel Ciphertext at 0x7c41a499fe70, scheme=bfv, size=2/2, noiseBudget=361>', '<Pyfhel Ciphertext at 0x7c41a499fec0, scheme=bfv, size=2/2, noiseBudget=361>', '<Pyfhel Ciphertext at 0x7c41a499ff10, scheme=bfv, size=2/2, noiseBudget=361>', '<Pyfhel Ciphertext at 0x7c41a499ff60, scheme=bfv, size=2/2, noiseBudget=361>', '<Pyfhel Ciphertext at 0x7c41a499ffb0, scheme=bfv, size=2/2, noiseBudget=361>', '<Pyfhel Ciphertext at 0x7c41a46ec040, scheme=bfv, size=2/2, noiseBudget=361>', '<Pyfhel Ciphertext at 0x7c41a46ec090, scheme=bfv, size=2/2, noiseBudget=361>', '<Pyfhel Ciphertext at 0x7c41a46ec0e0, scheme=bfv, size=2/2, noiseBudget=361>', '<Pyfhel Ciphertext at 0x7c41a46ec130, scheme=bfv, size=2/2, noiseBudget=361>', '<Pyfhel Ciphertext at 0x7c41a46ec180, scheme=bfv, size=2/2, noiseBudget=361>', '<Pyfhel Ciphertext at 0x7c41a46ec1d0, scheme=bfv, size=2/2, noiseBudget=361>', '<Pyfhel Ciphertext at 0x7c41a46ec270, scheme=bfv, size=2/2, noiseBudget=361>', '<Pyfhel Ciphertext at 0x7c41a46ec310, scheme=bfv, size=2/2, noiseBudget=361>', '<Pyfhel Ciphertext at 0x7c41a46ec360, scheme=bfv, size=2/2, noiseBudget=361>', '<Pyfhel Ciphertext at 0x7c41a46ec3b0, scheme=bfv, size=2/2, noiseBudget=361>', '<Pyfhel Ciphertext at 0x7c41a46ec400, scheme=bfv, size=2/2, noiseBudget=361>', '<Pyfhel Ciphertext at 0x7c41a46ec450, scheme=bfv, size=2/2, noiseBudget=361>', '<Pyfhel Ciphertext at 0x7c41a46ec4a0, scheme=bfv, size=2/2, noiseBudget=361>', '<Pyfhel Ciphertext at 0x7c41a46ec4f0, scheme=bfv, size=2/2, noiseBudget=361>', '<Pyfhel Ciphertext at 0x7c41a46ec540, scheme=bfv, size=2/2, noiseBudget=361>', '<Pyfhel Ciphertext at 0x7c41a46ec590, scheme=bfv, size=2/2, noiseBudget=361>', '<Pyfhel Ciphertext at 0x7c41a46ec5e0, scheme=bfv, size=2/2, noiseBudget=361>', '<Pyfhel Ciphertext at 0x7c41a46ec630, scheme=bfv, size=2/2, noiseBudget=361>', '<Pyfhel Ciphertext at 0x7c41a46ec680, scheme=bfv, size=2/2, noiseBudget=361>', '<Pyfhel Ciphertext at 0x7c41a46ec720, scheme=bfv, size=2/2, noiseBudget=361>', '<Pyfhel Ciphertext at 0x7c41a46ec770, scheme=bfv, size=2/2, noiseBudget=361>', '<Pyfhel Ciphertext at 0x7c41a46ec810, scheme=bfv, size=2/2, noiseBudget=361>', '<Pyfhel Ciphertext at 0x7c41a46ec860, scheme=bfv, size=2/2, noiseBudget=361>', '<Pyfhel Ciphertext at 0x7c41a46ec8b0, scheme=bfv, size=2/2, noiseBudget=361>', '<Pyfhel Ciphertext at 0x7c41a46ec2c0, scheme=bfv, size=2/2, noiseBudget=361>', '<Pyfhel Ciphertext at 0x7c41a46ec7c0, scheme=bfv, size=2/2, noiseBudget=361>', '<Pyfhel Ciphertext at 0x7c41a83a7bf0, scheme=bfv, size=2/2, noiseBudget=361>', '<Pyfhel Ciphertext at 0x7c41a46ec900, scheme=bfv, size=2/2, noiseBudget=361>', '<Pyfhel Ciphertext at 0x7c41a46ec950, scheme=bfv, size=2/2, noiseBudget=361>', '<Pyfhel Ciphertext at 0x7c41a46ec220, scheme=bfv, size=2/2, noiseBudget=361>', '<Pyfhel Ciphertext at 0x7c41a46ec9a0, scheme=bfv, size=2/2, noiseBudget=361>', '<Pyfhel Ciphertext at 0x7c41a46ec9f0, scheme=bfv, size=2/2, noiseBudget=361>', '<Pyfhel Ciphertext at 0x7c41a46eca40, scheme=bfv, size=2/2, noiseBudget=361>', '<Pyfhel Ciphertext at 0x7c41a46eca90, scheme=bfv, size=2/2, noiseBudget=361>', '<Pyfhel Ciphertext at 0x7c41a46ecae0, scheme=bfv, size=2/2, noiseBudget=361>', '<Pyfhel Ciphertext at 0x7c41a46ecb30, scheme=bfv, size=2/2, noiseBudget=361>', '<Pyfhel Ciphertext at 0x7c41a46ecb80, scheme=bfv, size=2/2, noiseBudget=361>', '<Pyfhel Ciphertext at 0x7c41a46ecbd0, scheme=bfv, size=2/2, noiseBudget=361>', '<Pyfhel Ciphertext at 0x7c41a46ecc20, scheme=bfv, size=2/2, noiseBudget=361>', '<Pyfhel Ciphertext at 0x7c41a46eccc0, scheme=bfv, size=2/2, noiseBudget=361>', '<Pyfhel Ciphertext at 0x7c41a46ecc70, scheme=bfv, size=2/2, noiseBudget=361>', '<Pyfhel Ciphertext at 0x7c41a46ecd60, scheme=bfv, size=2/2, noiseBudget=361>', '<Pyfhel Ciphertext at 0x7c41a46ecd10, scheme=bfv, size=2/2, noiseBudget=361>', '<Pyfhel Ciphertext at 0x7c41a46ecdb0, scheme=bfv, size=2/2, noiseBudget=361>', '<Pyfhel Ciphertext at 0x7c41a46ece00, scheme=bfv, size=2/2, noiseBudget=361>', '<Pyfhel Ciphertext at 0x7c41a46ece50, scheme=bfv, size=2/2, noiseBudget=361>', '<Pyfhel Ciphertext at 0x7c41a46ecea0, scheme=bfv, size=2/2, noiseBudget=361>', '<Pyfhel Ciphertext at 0x7c41a46ecef0, scheme=bfv, size=2/2, noiseBudget=361>', '<Pyfhel Ciphertext at 0x7c41a46ecf40, scheme=bfv, size=2/2, noiseBudget=361>', '<Pyfhel Ciphertext at 0x7c41a46ecf90, scheme=bfv, size=2/2, noiseBudget=361>', '<Pyfhel Ciphertext at 0x7c41a46ecfe0, scheme=bfv, size=2/2, noiseBudget=361>', '<Pyfhel Ciphertext at 0x7c41a46ed030, scheme=bfv, size=2/2, noiseBudget=361>', '<Pyfhel Ciphertext at 0x7c41a46ed080, scheme=bfv, size=2/2, noiseBudget=361>', '<Pyfhel Ciphertext at 0x7c41a46ed0d0, scheme=bfv, size=2/2, noiseBudget=361>', '<Pyfhel Ciphertext at 0x7c41a46ed120, scheme=bfv, size=2/2, noiseBudget=361>', '<Pyfhel Ciphertext at 0x7c41a46ed1c0, scheme=bfv, size=2/2, noiseBudget=361>', '<Pyfhel Ciphertext at 0x7c41a46ed260, scheme=bfv, size=2/2, noiseBudget=361>', '<Pyfhel Ciphertext at 0x7c41a46ed2b0, scheme=bfv, size=2/2, noiseBudget=361>', '<Pyfhel Ciphertext at 0x7c41a46ed300, scheme=bfv, size=2/2, noiseBudget=361>', '<Pyfhel Ciphertext at 0x7c41a46ed350, scheme=bfv, size=2/2, noiseBudget=361>', '<Pyfhel Ciphertext at 0x7c41a46ed3a0, scheme=bfv, size=2/2, noiseBudget=361>', '<Pyfhel Ciphertext at 0x7c41a46ed3f0, scheme=bfv, size=2/2, noiseBudget=361>', '<Pyfhel Ciphertext at 0x7c41a46ed440, scheme=bfv, size=2/2, noiseBudget=361>', '<Pyfhel Ciphertext at 0x7c41a46ed210, scheme=bfv, size=2/2, noiseBudget=361>', '<Pyfhel Ciphertext at 0x7c41a46ed490, scheme=bfv, size=2/2, noiseBudget=361>', '<Pyfhel Ciphertext at 0x7c41a46ed170, scheme=bfv, size=2/2, noiseBudget=361>', '<Pyfhel Ciphertext at 0x7c41a46ed4e0, scheme=bfv, size=2/2, noiseBudget=361>', '<Pyfhel Ciphertext at 0x7c41a46ed5d0, scheme=bfv, size=2/2, noiseBudget=361>', '<Pyfhel Ciphertext at 0x7c41a46ed580, scheme=bfv, size=2/2, noiseBudget=361>', '<Pyfhel Ciphertext at 0x7c41a46ed620, scheme=bfv, size=2/2, noiseBudget=361>', '<Pyfhel Ciphertext at 0x7c41a46ed670, scheme=bfv, size=2/2, noiseBudget=361>', '<Pyfhel Ciphertext at 0x7c41a46ed710, scheme=bfv, size=2/2, noiseBudget=361>', '<Pyfhel Ciphertext at 0x7c41a46ed760, scheme=bfv, size=2/2, noiseBudget=361>', '<Pyfhel Ciphertext at 0x7c41a46ed6c0, scheme=bfv, size=2/2, noiseBudget=361>', '<Pyfhel Ciphertext at 0x7c41a46ed7b0, scheme=bfv, size=2/2, noiseBudget=361>', '<Pyfhel Ciphertext at 0x7c41a46ed800, scheme=bfv, size=2/2, noiseBudget=361>', '<Pyfhel Ciphertext at 0x7c41a46ed850, scheme=bfv, size=2/2, noiseBudget=361>', '<Pyfhel Ciphertext at 0x7c41a46ed8a0, scheme=bfv, size=2/2, noiseBudget=361>', '<Pyfhel Ciphertext at 0x7c41a46ed8f0, scheme=bfv, size=2/2, noiseBudget=361>', '<Pyfhel Ciphertext at 0x7c41a46ed990, scheme=bfv, size=2/2, noiseBudget=361>', '<Pyfhel Ciphertext at 0x7c41a46ed9e0, scheme=bfv, size=2/2, noiseBudget=361>', '<Pyfhel Ciphertext at 0x7c41a46ed940, scheme=bfv, size=2/2, noiseBudget=361>', '<Pyfhel Ciphertext at 0x7c41a46eda30, scheme=bfv, size=2/2, noiseBudget=361>', '<Pyfhel Ciphertext at 0x7c41a46eda80, scheme=bfv, size=2/2, noiseBudget=361>', '<Pyfhel Ciphertext at 0x7c41a46edad0, scheme=bfv, size=2/2, noiseBudget=361>', '<Pyfhel Ciphertext at 0x7c41a46edb20, scheme=bfv, size=2/2, noiseBudget=361>', '<Pyfhel Ciphertext at 0x7c41a46edbc0, scheme=bfv, size=2/2, noiseBudget=361>', '<Pyfhel Ciphertext at 0x7c41a46edc10, scheme=bfv, size=2/2, noiseBudget=361>', '<Pyfhel Ciphertext at 0x7c41a46edb70, scheme=bfv, size=2/2, noiseBudget=361>', '<Pyfhel Ciphertext at 0x7c41a46edc60, scheme=bfv, size=2/2, noiseBudget=361>', '<Pyfhel Ciphertext at 0x7c41a46edcb0, scheme=bfv, size=2/2, noiseBudget=361>', '<Pyfhel Ciphertext at 0x7c41a46edd00, scheme=bfv, size=2/2, noiseBudget=361>', '<Pyfhel Ciphertext at 0x7c41a46edd50, scheme=bfv, size=2/2, noiseBudget=361>', '<Pyfhel Ciphertext at 0x7c41a46edda0, scheme=bfv, size=2/2, noiseBudget=361>', '<Pyfhel Ciphertext at 0x7c41a46eddf0, scheme=bfv, size=2/2, noiseBudget=361>', '<Pyfhel Ciphertext at 0x7c41a46ede40, scheme=bfv, size=2/2, noiseBudget=361>', '<Pyfhel Ciphertext at 0x7c41a46edf30, scheme=bfv, size=2/2, noiseBudget=361>', '<Pyfhel Ciphertext at 0x7c41a46edf80, scheme=bfv, size=2/2, noiseBudget=361>', '<Pyfhel Ciphertext at 0x7c41a46edfd0, scheme=bfv, size=2/2, noiseBudget=361>', '<Pyfhel Ciphertext at 0x7c41a46ee020, scheme=bfv, size=2/2, noiseBudget=361>', '<Pyfhel Ciphertext at 0x7c41a46ee070, scheme=bfv, size=2/2, noiseBudget=361>', '<Pyfhel Ciphertext at 0x7c41a46ee110, scheme=bfv, size=2/2, noiseBudget=361>', '<Pyfhel Ciphertext at 0x7c41a46ee200, scheme=bfv, size=2/2, noiseBudget=361>', '<Pyfhel Ciphertext at 0x7c41a46ee250, scheme=bfv, size=2/2, noiseBudget=361>', '<Pyfhel Ciphertext at 0x7c41a46ee0c0, scheme=bfv, size=2/2, noiseBudget=361>', '<Pyfhel Ciphertext at 0x7c41a46ee2a0, scheme=bfv, size=2/2, noiseBudget=361>', '<Pyfhel Ciphertext at 0x7c41a46ee2f0, scheme=bfv, size=2/2, noiseBudget=361>', '<Pyfhel Ciphertext at 0x7c41a48e3380, scheme=bfv, size=2/2, noiseBudget=361>', '<Pyfhel Ciphertext at 0x7c41a46ee1b0, scheme=bfv, size=2/2, noiseBudget=361>', '<Pyfhel Ciphertext at 0x7c41a499cb80, scheme=bfv, size=2/2, noiseBudget=361>', '<Pyfhel Ciphertext at 0x7c41a46ede90, scheme=bfv, size=2/2, noiseBudget=361>', '<Pyfhel Ciphertext at 0x7c41a48e3740, scheme=bfv, size=2/2, noiseBudget=361>', '<Pyfhel Ciphertext at 0x7c41a7670090, scheme=bfv, size=2/2, noiseBudget=361>', '<Pyfhel Ciphertext at 0x7c41a46edee0, scheme=bfv, size=2/2, noiseBudget=361>', '<Pyfhel Ciphertext at 0x7c41a46ee340, scheme=bfv, size=2/2, noiseBudget=361>', '<Pyfhel Ciphertext at 0x7c41a46ee390, scheme=bfv, size=2/2, noiseBudget=361>', '<Pyfhel Ciphertext at 0x7c41a46ee430, scheme=bfv, size=2/2, noiseBudget=361>', '<Pyfhel Ciphertext at 0x7c41a46ee480, scheme=bfv, size=2/2, noiseBudget=361>', '<Pyfhel Ciphertext at 0x7c41a46ee4d0, scheme=bfv, size=2/2, noiseBudget=361>', '<Pyfhel Ciphertext at 0x7c41a46ee520, scheme=bfv, size=2/2, noiseBudget=361>', '<Pyfhel Ciphertext at 0x7c41a46ee570, scheme=bfv, size=2/2, noiseBudget=361>', '<Pyfhel Ciphertext at 0x7c41a46ee5c0, scheme=bfv, size=2/2, noiseBudget=361>', '<Pyfhel Ciphertext at 0x7c41a46ee610, scheme=bfv, size=2/2, noiseBudget=361>', '<Pyfhel Ciphertext at 0x7c41a46ee6b0, scheme=bfv, size=2/2, noiseBudget=361>', '<Pyfhel Ciphertext at 0x7c41a46ee660, scheme=bfv, size=2/2, noiseBudget=361>', '<Pyfhel Ciphertext at 0x7c41a46ee750, scheme=bfv, size=2/2, noiseBudget=361>', '<Pyfhel Ciphertext at 0x7c41a46ee700, scheme=bfv, size=2/2, noiseBudget=361>', '<Pyfhel Ciphertext at 0x7c41a46ee7a0, scheme=bfv, size=2/2, noiseBudget=361>', '<Pyfhel Ciphertext at 0x7c41a46ee7f0, scheme=bfv, size=2/2, noiseBudget=361>', '<Pyfhel Ciphertext at 0x7c41a46ee840, scheme=bfv, size=2/2, noiseBudget=361>', '<Pyfhel Ciphertext at 0x7c41a46ee890, scheme=bfv, size=2/2, noiseBudget=361>', '<Pyfhel Ciphertext at 0x7c41a46ee8e0, scheme=bfv, size=2/2, noiseBudget=361>', '<Pyfhel Ciphertext at 0x7c41a46ee930, scheme=bfv, size=2/2, noiseBudget=361>', '<Pyfhel Ciphertext at 0x7c41a46ee980, scheme=bfv, size=2/2, noiseBudget=361>', '<Pyfhel Ciphertext at 0x7c41a46ee9d0, scheme=bfv, size=2/2, noiseBudget=361>', '<Pyfhel Ciphertext at 0x7c41a46eea20, scheme=bfv, size=2/2, noiseBudget=361>', '<Pyfhel Ciphertext at 0x7c41a46eea70, scheme=bfv, size=2/2, noiseBudget=361>', '<Pyfhel Ciphertext at 0x7c41a46eeac0, scheme=bfv, size=2/2, noiseBudget=361>', '<Pyfhel Ciphertext at 0x7c41a46eeb10, scheme=bfv, size=2/2, noiseBudget=361>', '<Pyfhel Ciphertext at 0x7c41a46eec00, scheme=bfv, size=2/2, noiseBudget=361>', '<Pyfhel Ciphertext at 0x7c41a46eeb60, scheme=bfv, size=2/2, noiseBudget=361>', '<Pyfhel Ciphertext at 0x7c41a46eebb0, scheme=bfv, size=2/2, noiseBudget=361>', '<Pyfhel Ciphertext at 0x7c41a46eec50, scheme=bfv, size=2/2, noiseBudget=361>', '<Pyfhel Ciphertext at 0x7c41a46eeca0, scheme=bfv, size=2/2, noiseBudget=361>', '<Pyfhel Ciphertext at 0x7c41a46eecf0, scheme=bfv, size=2/2, noiseBudget=361>', '<Pyfhel Ciphertext at 0x7c41a46eed40, scheme=bfv, size=2/2, noiseBudget=361>', '<Pyfhel Ciphertext at 0x7c41a46eed90, scheme=bfv, size=2/2, noiseBudget=361>', '<Pyfhel Ciphertext at 0x7c41a46eede0, scheme=bfv, size=2/2, noiseBudget=361>', '<Pyfhel Ciphertext at 0x7c41a46eee30, scheme=bfv, size=2/2, noiseBudget=361>', '<Pyfhel Ciphertext at 0x7c41a46eee80, scheme=bfv, size=2/2, noiseBudget=361>', '<Pyfhel Ciphertext at 0x7c41a46eeed0, scheme=bfv, size=2/2, noiseBudget=361>', '<Pyfhel Ciphertext at 0x7c41a46eef20, scheme=bfv, size=2/2, noiseBudget=361>', '<Pyfhel Ciphertext at 0x7c41a46eef70, scheme=bfv, size=2/2, noiseBudget=361>', '<Pyfhel Ciphertext at 0x7c41a46eefc0, scheme=bfv, size=2/2, noiseBudget=361>', '<Pyfhel Ciphertext at 0x7c41a46ef010, scheme=bfv, size=2/2, noiseBudget=361>', '<Pyfhel Ciphertext at 0x7c41a46ef0b0, scheme=bfv, size=2/2, noiseBudget=361>', '<Pyfhel Ciphertext at 0x7c41a46ef150, scheme=bfv, size=2/2, noiseBudget=361>', '<Pyfhel Ciphertext at 0x7c41a46ef1a0, scheme=bfv, size=2/2, noiseBudget=361>', '<Pyfhel Ciphertext at 0x7c41a46ef1f0, scheme=bfv, size=2/2, noiseBudget=361>', '<Pyfhel Ciphertext at 0x7c41a46ef240, scheme=bfv, size=2/2, noiseBudget=361>', '<Pyfhel Ciphertext at 0x7c41a46ef290, scheme=bfv, size=2/2, noiseBudget=361>', '<Pyfhel Ciphertext at 0x7c41a46ef2e0, scheme=bfv, size=2/2, noiseBudget=361>', '<Pyfhel Ciphertext at 0x7c41a46ef330, scheme=bfv, size=2/2, noiseBudget=361>', '<Pyfhel Ciphertext at 0x7c41a46ef380, scheme=bfv, size=2/2, noiseBudget=361>', '<Pyfhel Ciphertext at 0x7c41a46ef420, scheme=bfv, size=2/2, noiseBudget=361>', '<Pyfhel Ciphertext at 0x7c41a46ef3d0, scheme=bfv, size=2/2, noiseBudget=361>', '<Pyfhel Ciphertext at 0x7c41a46ef470, scheme=bfv, size=2/2, noiseBudget=361>', '<Pyfhel Ciphertext at 0x7c41a46ef100, scheme=bfv, size=2/2, noiseBudget=361>', '<Pyfhel Ciphertext at 0x7c41a46ef4c0, scheme=bfv, size=2/2, noiseBudget=361>', '<Pyfhel Ciphertext at 0x7c41a46ef060, scheme=bfv, size=2/2, noiseBudget=361>', '<Pyfhel Ciphertext at 0x7c41a46ef510, scheme=bfv, size=2/2, noiseBudget=361>', '<Pyfhel Ciphertext at 0x7c41a46ef650, scheme=bfv, size=2/2, noiseBudget=361>', '<Pyfhel Ciphertext at 0x7c41a46ef600, scheme=bfv, size=2/2, noiseBudget=361>', '<Pyfhel Ciphertext at 0x7c41a46ef5b0, scheme=bfv, size=2/2, noiseBudget=361>', '<Pyfhel Ciphertext at 0x7c41a46ef740, scheme=bfv, size=2/2, noiseBudget=361>', '<Pyfhel Ciphertext at 0x7c41a46ef6f0, scheme=bfv, size=2/2, noiseBudget=361>', '<Pyfhel Ciphertext at 0x7c41a46ef790, scheme=bfv, size=2/2, noiseBudget=361>', '<Pyfhel Ciphertext at 0x7c41a46ef7e0, scheme=bfv, size=2/2, noiseBudget=361>', '<Pyfhel Ciphertext at 0x7c41a46ef830, scheme=bfv, size=2/2, noiseBudget=361>', '<Pyfhel Ciphertext at 0x7c41a46ef880, scheme=bfv, size=2/2, noiseBudget=361>', '<Pyfhel Ciphertext at 0x7c41a46ef8d0, scheme=bfv, size=2/2, noiseBudget=361>', '<Pyfhel Ciphertext at 0x7c41a46ef920, scheme=bfv, size=2/2, noiseBudget=361>', '<Pyfhel Ciphertext at 0x7c41a46ef970, scheme=bfv, size=2/2, noiseBudget=361>', '<Pyfhel Ciphertext at 0x7c41a46efa10, scheme=bfv, size=2/2, noiseBudget=361>', '<Pyfhel Ciphertext at 0x7c41a46efa60, scheme=bfv, size=2/2, noiseBudget=361>', '<Pyfhel Ciphertext at 0x7c41a46efab0, scheme=bfv, size=2/2, noiseBudget=361>', '<Pyfhel Ciphertext at 0x7c41a46efb00, scheme=bfv, size=2/2, noiseBudget=361>', '<Pyfhel Ciphertext at 0x7c41a46ef9c0, scheme=bfv, size=2/2, noiseBudget=361>', '<Pyfhel Ciphertext at 0x7c41a46efb50, scheme=bfv, size=2/2, noiseBudget=361>', '<Pyfhel Ciphertext at 0x7c41a46efba0, scheme=bfv, size=2/2, noiseBudget=361>', '<Pyfhel Ciphertext at 0x7c41a46efbf0, scheme=bfv, size=2/2, noiseBudget=361>', '<Pyfhel Ciphertext at 0x7c41a46efc40, scheme=bfv, size=2/2, noiseBudget=361>', '<Pyfhel Ciphertext at 0x7c41a46efc90, scheme=bfv, size=2/2, noiseBudget=361>', '<Pyfhel Ciphertext at 0x7c41a46efce0, scheme=bfv, size=2/2, noiseBudget=361>', '<Pyfhel Ciphertext at 0x7c41a46efd30, scheme=bfv, size=2/2, noiseBudget=361>', '<Pyfhel Ciphertext at 0x7c41a46efd80, scheme=bfv, size=2/2, noiseBudget=361>', '<Pyfhel Ciphertext at 0x7c41a46efdd0, scheme=bfv, size=2/2, noiseBudget=361>', '<Pyfhel Ciphertext at 0x7c41a46efe20, scheme=bfv, size=2/2, noiseBudget=361>', '<Pyfhel Ciphertext at 0x7c41a46efe70, scheme=bfv, size=2/2, noiseBudget=361>', '<Pyfhel Ciphertext at 0x7c41a46eff10, scheme=bfv, size=2/2, noiseBudget=361>', '<Pyfhel Ciphertext at 0x7c41a46eff60, scheme=bfv, size=2/2, noiseBudget=361>', '<Pyfhel Ciphertext at 0x7c41a46effb0, scheme=bfv, size=2/2, noiseBudget=361>', '<Pyfhel Ciphertext at 0x7c41a46efec0, scheme=bfv, size=2/2, noiseBudget=361>', '<Pyfhel Ciphertext at 0x7c41a46f0040, scheme=bfv, size=2/2, noiseBudget=361>', '<Pyfhel Ciphertext at 0x7c41a46f0090, scheme=bfv, size=2/2, noiseBudget=361>', '<Pyfhel Ciphertext at 0x7c41a46f00e0, scheme=bfv, size=2/2, noiseBudget=361>', '<Pyfhel Ciphertext at 0x7c41a46f0130, scheme=bfv, size=2/2, noiseBudget=361>', '<Pyfhel Ciphertext at 0x7c41a46f0180, scheme=bfv, size=2/2, noiseBudget=361>', '<Pyfhel Ciphertext at 0x7c41a46f01d0, scheme=bfv, size=2/2, noiseBudget=361>', '<Pyfhel Ciphertext at 0x7c41a46f0220, scheme=bfv, size=2/2, noiseBudget=361>', '<Pyfhel Ciphertext at 0x7c41a46f0270, scheme=bfv, size=2/2, noiseBudget=361>', '<Pyfhel Ciphertext at 0x7c41a46f02c0, scheme=bfv, size=2/2, noiseBudget=361>', '<Pyfhel Ciphertext at 0x7c41a46f0310, scheme=bfv, size=2/2, noiseBudget=361>', '<Pyfhel Ciphertext at 0x7c41a46f0360, scheme=bfv, size=2/2, noiseBudget=361>', '<Pyfhel Ciphertext at 0x7c41a46f03b0, scheme=bfv, size=2/2, noiseBudget=361>', '<Pyfhel Ciphertext at 0x7c41a46f0400, scheme=bfv, size=2/2, noiseBudget=361>', '<Pyfhel Ciphertext at 0x7c41a46f04f0, scheme=bfv, size=2/2, noiseBudget=361>', '<Pyfhel Ciphertext at 0x7c41a46f05e0, scheme=bfv, size=2/2, noiseBudget=361>', '<Pyfhel Ciphertext at 0x7c41a46f0630, scheme=bfv, size=2/2, noiseBudget=361>', '<Pyfhel Ciphertext at 0x7c41a46f0680, scheme=bfv, size=2/2, noiseBudget=361>', '<Pyfhel Ciphertext at 0x7c41a46f06d0, scheme=bfv, size=2/2, noiseBudget=361>', '<Pyfhel Ciphertext at 0x7c41a46f0720, scheme=bfv, size=2/2, noiseBudget=361>', '<Pyfhel Ciphertext at 0x7c41a46f0770, scheme=bfv, size=2/2, noiseBudget=361>', '<Pyfhel Ciphertext at 0x7c41a46f07c0, scheme=bfv, size=2/2, noiseBudget=361>', '<Pyfhel Ciphertext at 0x7c41a46f0810, scheme=bfv, size=2/2, noiseBudget=361>', '<Pyfhel Ciphertext at 0x7c41a46f0860, scheme=bfv, size=2/2, noiseBudget=361>', '<Pyfhel Ciphertext at 0x7c41a46f08b0, scheme=bfv, size=2/2, noiseBudget=361>', '<Pyfhel Ciphertext at 0x7c41a46f0900, scheme=bfv, size=2/2, noiseBudget=361>', '<Pyfhel Ciphertext at 0x7c41a46f09a0, scheme=bfv, size=2/2, noiseBudget=361>', '<Pyfhel Ciphertext at 0x7c41a46f09f0, scheme=bfv, size=2/2, noiseBudget=361>', '<Pyfhel Ciphertext at 0x7c41a46f0a40, scheme=bfv, size=2/2, noiseBudget=361>', '<Pyfhel Ciphertext at 0x7c41a46f0950, scheme=bfv, size=2/2, noiseBudget=361>', '<Pyfhel Ciphertext at 0x7c41a46f0a90, scheme=bfv, size=2/2, noiseBudget=361>', '<Pyfhel Ciphertext at 0x7c41a499d030, scheme=bfv, size=2/2, noiseBudget=361>', '<Pyfhel Ciphertext at 0x7c41a499e430, scheme=bfv, size=2/2, noiseBudget=361>', '<Pyfhel Ciphertext at 0x7c41a499db20, scheme=bfv, size=2/2, noiseBudget=361>', '<Pyfhel Ciphertext at 0x7c41a499cc70, scheme=bfv, size=2/2, noiseBudget=361>', '<Pyfhel Ciphertext at 0x7c41a499e840, scheme=bfv, size=2/2, noiseBudget=361>', '<Pyfhel Ciphertext at 0x7c41a499c590, scheme=bfv, size=2/2, noiseBudget=361>', '<Pyfhel Ciphertext at 0x7c41b1f92d40, scheme=bfv, size=2/2, noiseBudget=361>', '<Pyfhel Ciphertext at 0x7c41a51b7d80, scheme=bfv, size=2/2, noiseBudget=361>', '<Pyfhel Ciphertext at 0x7c41a512a5c0, scheme=bfv, size=2/2, noiseBudget=361>', '<Pyfhel Ciphertext at 0x7c41a512a0c0, scheme=bfv, size=2/2, noiseBudget=361>', '<Pyfhel Ciphertext at 0x7c41a51f8860, scheme=bfv, size=2/2, noiseBudget=361>', '<Pyfhel Ciphertext at 0x7c41a51f8040, scheme=bfv, size=2/2, noiseBudget=361>', '<Pyfhel Ciphertext at 0x7c41a48dbb00, scheme=bfv, size=2/2, noiseBudget=361>', '<Pyfhel Ciphertext at 0x7c41a51437e0, scheme=bfv, size=2/2, noiseBudget=361>', '<Pyfhel Ciphertext at 0x7c41a5140360, scheme=bfv, size=2/2, noiseBudget=361>', '<Pyfhel Ciphertext at 0x7c41a48e3100, scheme=bfv, size=2/2, noiseBudget=361>', '<Pyfhel Ciphertext at 0x7c41a48e3e20, scheme=bfv, size=2/2, noiseBudget=361>', '<Pyfhel Ciphertext at 0x7c41a48e2480, scheme=bfv, size=2/2, noiseBudget=361>', '<Pyfhel Ciphertext at 0x7c41a48e1da0, scheme=bfv, size=2/2, noiseBudget=361>', '<Pyfhel Ciphertext at 0x7c41a48e0d10, scheme=bfv, size=2/2, noiseBudget=361>', '<Pyfhel Ciphertext at 0x7c41a48e2de0, scheme=bfv, size=2/2, noiseBudget=361>', '<Pyfhel Ciphertext at 0x7c41a48e2a70, scheme=bfv, size=2/2, noiseBudget=361>', '<Pyfhel Ciphertext at 0x7c41a48e1bc0, scheme=bfv, size=2/2, noiseBudget=361>', '<Pyfhel Ciphertext at 0x7c41a48e1df0, scheme=bfv, size=2/2, noiseBudget=361>', '<Pyfhel Ciphertext at 0x7c41a48e0ea0, scheme=bfv, size=2/2, noiseBudget=361>', '<Pyfhel Ciphertext at 0x7c41a48e1f80, scheme=bfv, size=2/2, noiseBudget=361>', '<Pyfhel Ciphertext at 0x7c41a48e1fd0, scheme=bfv, size=2/2, noiseBudget=361>', '<Pyfhel Ciphertext at 0x7c41a48e3f10, scheme=bfv, size=2/2, noiseBudget=361>', '<Pyfhel Ciphertext at 0x7c41a48e2390, scheme=bfv, size=2/2, noiseBudget=361>', '<Pyfhel Ciphertext at 0x7c41a48e2930, scheme=bfv, size=2/2, noiseBudget=361>', '<Pyfhel Ciphertext at 0x7c41a48e0b30, scheme=bfv, size=2/2, noiseBudget=361>', '<Pyfhel Ciphertext at 0x7c41a48e2e80, scheme=bfv, size=2/2, noiseBudget=361>', '<Pyfhel Ciphertext at 0x7c41a48e38d0, scheme=bfv, size=2/2, noiseBudget=361>', '<Pyfhel Ciphertext at 0x7c41a48e2700, scheme=bfv, size=2/2, noiseBudget=361>', '<Pyfhel Ciphertext at 0x7c41a48e3920, scheme=bfv, size=2/2, noiseBudget=361>', '<Pyfhel Ciphertext at 0x7c41a48e2c50, scheme=bfv, size=2/2, noiseBudget=361>', '<Pyfhel Ciphertext at 0x7c41a48e37e0, scheme=bfv, size=2/2, noiseBudget=361>', '<Pyfhel Ciphertext at 0x7c41a48e1ad0, scheme=bfv, size=2/2, noiseBudget=361>', '<Pyfhel Ciphertext at 0x7c41a48e2ca0, scheme=bfv, size=2/2, noiseBudget=361>', '<Pyfhel Ciphertext at 0x7c41a48e09f0, scheme=bfv, size=2/2, noiseBudget=361>', '<Pyfhel Ciphertext at 0x7c41a48e2d40, scheme=bfv, size=2/2, noiseBudget=361>', '<Pyfhel Ciphertext at 0x7c41a48e3c40, scheme=bfv, size=2/2, noiseBudget=361>', '<Pyfhel Ciphertext at 0x7c41a48e3420, scheme=bfv, size=2/2, noiseBudget=361>', '<Pyfhel Ciphertext at 0x7c41a48e0770, scheme=bfv, size=2/2, noiseBudget=361>', '<Pyfhel Ciphertext at 0x7c41a48e2890, scheme=bfv, size=2/2, noiseBudget=361>', '<Pyfhel Ciphertext at 0x7c41a48e3600, scheme=bfv, size=2/2, noiseBudget=361>', '<Pyfhel Ciphertext at 0x7c41a48e34c0, scheme=bfv, size=2/2, noiseBudget=361>', '<Pyfhel Ciphertext at 0x7c41a48e31a0, scheme=bfv, size=2/2, noiseBudget=361>', '<Pyfhel Ciphertext at 0x7c41a48e03b0, scheme=bfv, size=2/2, noiseBudget=361>', '<Pyfhel Ciphertext at 0x7c41a48e12b0, scheme=bfv, size=2/2, noiseBudget=361>', '<Pyfhel Ciphertext at 0x7c41a76aff60, scheme=bfv, size=2/2, noiseBudget=361>', '<Pyfhel Ciphertext at 0x7c41a76acd60, scheme=bfv, size=2/2, noiseBudget=360>', '<Pyfhel Ciphertext at 0x7c41a51a8810, scheme=bfv, size=2/2, noiseBudget=361>', '<Pyfhel Ciphertext at 0x7c41a48e0c20, scheme=bfv, size=2/2, noiseBudget=361>', '<Pyfhel Ciphertext at 0x7c41a48e2250, scheme=bfv, size=2/2, noiseBudget=361>', '<Pyfhel Ciphertext at 0x7c41f3a2d7b0, scheme=bfv, size=2/2, noiseBudget=361>', '<Pyfhel Ciphertext at 0x7c41a51195d0, scheme=bfv, size=2/2, noiseBudget=361>', '<Pyfhel Ciphertext at 0x7c41a7694e50, scheme=bfv, size=2/2, noiseBudget=361>', '<Pyfhel Ciphertext at 0x7c41a46f0540, scheme=bfv, size=2/2, noiseBudget=361>', '<Pyfhel Ciphertext at 0x7c41a46f0590, scheme=bfv, size=2/2, noiseBudget=361>', '<Pyfhel Ciphertext at 0x7c41a46f0450, scheme=bfv, size=2/2, noiseBudget=361>', '<Pyfhel Ciphertext at 0x7c41a46f04a0, scheme=bfv, size=2/2, noiseBudget=361>', '<Pyfhel Ciphertext at 0x7c41a46f0ae0, scheme=bfv, size=2/2, noiseBudget=361>', '<Pyfhel Ciphertext at 0x7c41a46f0b30, scheme=bfv, size=2/2, noiseBudget=361>', '<Pyfhel Ciphertext at 0x7c41a46f0b80, scheme=bfv, size=2/2, noiseBudget=361>', '<Pyfhel Ciphertext at 0x7c41a46f0c70, scheme=bfv, size=2/2, noiseBudget=361>', '<Pyfhel Ciphertext at 0x7c41a46f0bd0, scheme=bfv, size=2/2, noiseBudget=361>', '<Pyfhel Ciphertext at 0x7c41a46f0c20, scheme=bfv, size=2/2, noiseBudget=361>', '<Pyfhel Ciphertext at 0x7c41a46f0cc0, scheme=bfv, size=2/2, noiseBudget=361>', '<Pyfhel Ciphertext at 0x7c41a46f0d10, scheme=bfv, size=2/2, noiseBudget=361>', '<Pyfhel Ciphertext at 0x7c41a46f0d60, scheme=bfv, size=2/2, noiseBudget=361>', '<Pyfhel Ciphertext at 0x7c41a46f0db0, scheme=bfv, size=2/2, noiseBudget=361>', '<Pyfhel Ciphertext at 0x7c41a46f0e00, scheme=bfv, size=2/2, noiseBudget=361>', '<Pyfhel Ciphertext at 0x7c41a46f0e50, scheme=bfv, size=2/2, noiseBudget=361>', '<Pyfhel Ciphertext at 0x7c41a46f0ea0, scheme=bfv, size=2/2, noiseBudget=361>', '<Pyfhel Ciphertext at 0x7c41a76aeca0, scheme=bfv, size=2/2, noiseBudget=361>', '<Pyfhel Ciphertext at 0x7c41a46f0fe0, scheme=bfv, size=2/2, noiseBudget=361>', '<Pyfhel Ciphertext at 0x7c41a76adf80, scheme=bfv, size=2/2, noiseBudget=361>', '<Pyfhel Ciphertext at 0x7c41a46f1030, scheme=bfv, size=2/2, noiseBudget=361>', '<Pyfhel Ciphertext at 0x7c41a46f0f40, scheme=bfv, size=2/2, noiseBudget=361>', '<Pyfhel Ciphertext at 0x7c41a46f0f90, scheme=bfv, size=2/2, noiseBudget=361>', '<Pyfhel Ciphertext at 0x7c41a46f10d0, scheme=bfv, size=2/2, noiseBudget=361>', '<Pyfhel Ciphertext at 0x7c41a46f1120, scheme=bfv, size=2/2, noiseBudget=361>', '<Pyfhel Ciphertext at 0x7c41a46f1170, scheme=bfv, size=2/2, noiseBudget=361>', '<Pyfhel Ciphertext at 0x7c41a46f11c0, scheme=bfv, size=2/2, noiseBudget=361>', '<Pyfhel Ciphertext at 0x7c41a46f1260, scheme=bfv, size=2/2, noiseBudget=361>', '<Pyfhel Ciphertext at 0x7c41a46f1210, scheme=bfv, size=2/2, noiseBudget=361>', '<Pyfhel Ciphertext at 0x7c41a46f1300, scheme=bfv, size=2/2, noiseBudget=361>', '<Pyfhel Ciphertext at 0x7c41a46f12b0, scheme=bfv, size=2/2, noiseBudget=361>', '<Pyfhel Ciphertext at 0x7c41a46f1350, scheme=bfv, size=2/2, noiseBudget=361>', '<Pyfhel Ciphertext at 0x7c41a46f13a0, scheme=bfv, size=2/2, noiseBudget=361>', '<Pyfhel Ciphertext at 0x7c41a46f13f0, scheme=bfv, size=2/2, noiseBudget=361>', '<Pyfhel Ciphertext at 0x7c41a46f1440, scheme=bfv, size=2/2, noiseBudget=361>', '<Pyfhel Ciphertext at 0x7c41a46f1490, scheme=bfv, size=2/2, noiseBudget=361>', '<Pyfhel Ciphertext at 0x7c41a46f14e0, scheme=bfv, size=2/2, noiseBudget=361>', '<Pyfhel Ciphertext at 0x7c41a76837e0, scheme=bfv, size=2/2, noiseBudget=361>', '<Pyfhel Ciphertext at 0x7c41a46f1530, scheme=bfv, size=2/2, noiseBudget=361>', '<Pyfhel Ciphertext at 0x7c41a46f15d0, scheme=bfv, size=2/2, noiseBudget=361>', '<Pyfhel Ciphertext at 0x7c41a46f1580, scheme=bfv, size=2/2, noiseBudget=361>', '<Pyfhel Ciphertext at 0x7c41a46f1620, scheme=bfv, size=2/2, noiseBudget=361>', '<Pyfhel Ciphertext at 0x7c41a46f1670, scheme=bfv, size=2/2, noiseBudget=361>', '<Pyfhel Ciphertext at 0x7c41a46f16c0, scheme=bfv, size=2/2, noiseBudget=361>', '<Pyfhel Ciphertext at 0x7c41a46f1710, scheme=bfv, size=2/2, noiseBudget=361>', '<Pyfhel Ciphertext at 0x7c41a46f1760, scheme=bfv, size=2/2, noiseBudget=361>', '<Pyfhel Ciphertext at 0x7c41a46f17b0, scheme=bfv, size=2/2, noiseBudget=361>', '<Pyfhel Ciphertext at 0x7c41a46f1850, scheme=bfv, size=2/2, noiseBudget=361>', '<Pyfhel Ciphertext at 0x7c41a46f18f0, scheme=bfv, size=2/2, noiseBudget=361>', '<Pyfhel Ciphertext at 0x7c41a51b4220, scheme=bfv, size=2/2, noiseBudget=361>', '<Pyfhel Ciphertext at 0x7c41a46f18a0, scheme=bfv, size=2/2, noiseBudget=361>', '<Pyfhel Ciphertext at 0x7c41a46f1940, scheme=bfv, size=2/2, noiseBudget=361>', '<Pyfhel Ciphertext at 0x7c41a46f1800, scheme=bfv, size=2/2, noiseBudget=361>', '<Pyfhel Ciphertext at 0x7c41a46f19e0, scheme=bfv, size=2/2, noiseBudget=361>', '<Pyfhel Ciphertext at 0x7c41a46f1a30, scheme=bfv, size=2/2, noiseBudget=361>', '<Pyfhel Ciphertext at 0x7c41a46f1a80, scheme=bfv, size=2/2, noiseBudget=361>', '<Pyfhel Ciphertext at 0x7c41a46f1b20, scheme=bfv, size=2/2, noiseBudget=361>', '<Pyfhel Ciphertext at 0x7c41a46f1ad0, scheme=bfv, size=2/2, noiseBudget=361>', '<Pyfhel Ciphertext at 0x7c41a46f1bc0, scheme=bfv, size=2/2, noiseBudget=361>', '<Pyfhel Ciphertext at 0x7c41a46f1b70, scheme=bfv, size=2/2, noiseBudget=361>', '<Pyfhel Ciphertext at 0x7c41a46f1c10, scheme=bfv, size=2/2, noiseBudget=361>', '<Pyfhel Ciphertext at 0x7c41a46f1c60, scheme=bfv, size=2/2, noiseBudget=361>', '<Pyfhel Ciphertext at 0x7c41a46f1cb0, scheme=bfv, size=2/2, noiseBudget=361>', '<Pyfhel Ciphertext at 0x7c41a46f1d00, scheme=bfv, size=2/2, noiseBudget=361>', '<Pyfhel Ciphertext at 0x7c41a46f1d50, scheme=bfv, size=2/2, noiseBudget=361>', '<Pyfhel Ciphertext at 0x7c41a46f1da0, scheme=bfv, size=2/2, noiseBudget=361>', '<Pyfhel Ciphertext at 0x7c41a48e3560, scheme=bfv, size=2/2, noiseBudget=361>', '<Pyfhel Ciphertext at 0x7c41a46f1df0, scheme=bfv, size=2/2, noiseBudget=361>', '<Pyfhel Ciphertext at 0x7c41a46f1e90, scheme=bfv, size=2/2, noiseBudget=361>', '<Pyfhel Ciphertext at 0x7c41a46f1e40, scheme=bfv, size=2/2, noiseBudget=361>', '<Pyfhel Ciphertext at 0x7c41a46f1ee0, scheme=bfv, size=2/2, noiseBudget=361>', '<Pyfhel Ciphertext at 0x7c41a46f1f30, scheme=bfv, size=2/2, noiseBudget=361>', '<Pyfhel Ciphertext at 0x7c41a46f1f80, scheme=bfv, size=2/2, noiseBudget=361>', '<Pyfhel Ciphertext at 0x7c41a46f1fd0, scheme=bfv, size=2/2, noiseBudget=361>', '<Pyfhel Ciphertext at 0x7c41a46f2020, scheme=bfv, size=2/2, noiseBudget=361>', '<Pyfhel Ciphertext at 0x7c41a46f2070, scheme=bfv, size=2/2, noiseBudget=361>', '<Pyfhel Ciphertext at 0x7c41a46f2110, scheme=bfv, size=2/2, noiseBudget=361>', '<Pyfhel Ciphertext at 0x7c41a46f20c0, scheme=bfv, size=2/2, noiseBudget=361>', '<Pyfhel Ciphertext at 0x7c41a46f21b0, scheme=bfv, size=2/2, noiseBudget=361>', '<Pyfhel Ciphertext at 0x7c41a46f22f0, scheme=bfv, size=2/2, noiseBudget=361>', '<Pyfhel Ciphertext at 0x7c41a46f2250, scheme=bfv, size=2/2, noiseBudget=361>', '<Pyfhel Ciphertext at 0x7c41a46f22a0, scheme=bfv, size=2/2, noiseBudget=361>', '<Pyfhel Ciphertext at 0x7c41a46f2200, scheme=bfv, size=2/2, noiseBudget=361>', '<Pyfhel Ciphertext at 0x7c41a46f2340, scheme=bfv, size=2/2, noiseBudget=361>', '<Pyfhel Ciphertext at 0x7c41a46f2390, scheme=bfv, size=2/2, noiseBudget=361>', '<Pyfhel Ciphertext at 0x7c41a46f23e0, scheme=bfv, size=2/2, noiseBudget=361>', '<Pyfhel Ciphertext at 0x7c41a46f24d0, scheme=bfv, size=2/2, noiseBudget=361>', '<Pyfhel Ciphertext at 0x7c41a46f2430, scheme=bfv, size=2/2, noiseBudget=361>', '<Pyfhel Ciphertext at 0x7c41a46f2480, scheme=bfv, size=2/2, noiseBudget=361>', '<Pyfhel Ciphertext at 0x7c41a46f2520, scheme=bfv, size=2/2, noiseBudget=361>', '<Pyfhel Ciphertext at 0x7c41a46f2570, scheme=bfv, size=2/2, noiseBudget=361>', '<Pyfhel Ciphertext at 0x7c41a46f25c0, scheme=bfv, size=2/2, noiseBudget=361>', '<Pyfhel Ciphertext at 0x7c41a46f2610, scheme=bfv, size=2/2, noiseBudget=361>', '<Pyfhel Ciphertext at 0x7c41a46f2660, scheme=bfv, size=2/2, noiseBudget=361>', '<Pyfhel Ciphertext at 0x7c41a46f26b0, scheme=bfv, size=2/2, noiseBudget=361>', '<Pyfhel Ciphertext at 0x7c41a46f2700, scheme=bfv, size=2/2, noiseBudget=361>', '<Pyfhel Ciphertext at 0x7c41a46f2750, scheme=bfv, size=2/2, noiseBudget=361>', '<Pyfhel Ciphertext at 0x7c41a46f27a0, scheme=bfv, size=2/2, noiseBudget=361>', '<Pyfhel Ciphertext at 0x7c41a46f27f0, scheme=bfv, size=2/2, noiseBudget=361>', '<Pyfhel Ciphertext at 0x7c41a46f2840, scheme=bfv, size=2/2, noiseBudget=361>', '<Pyfhel Ciphertext at 0x7c41a46f28e0, scheme=bfv, size=2/2, noiseBudget=361>', '<Pyfhel Ciphertext at 0x7c41a46f2980, scheme=bfv, size=2/2, noiseBudget=361>', '<Pyfhel Ciphertext at 0x7c41a46f29d0, scheme=bfv, size=2/2, noiseBudget=361>', '<Pyfhel Ciphertext at 0x7c41a46f2a20, scheme=bfv, size=2/2, noiseBudget=361>', '<Pyfhel Ciphertext at 0x7c41a51b7ec0, scheme=bfv, size=2/2, noiseBudget=361>', '<Pyfhel Ciphertext at 0x7c41b1f612b0, scheme=bfv, size=2/2, noiseBudget=361>', '<Pyfhel Ciphertext at 0x7c41a46f2930, scheme=bfv, size=2/2, noiseBudget=361>', '<Pyfhel Ciphertext at 0x7c41a499e4d0, scheme=bfv, size=2/2, noiseBudget=361>', '<Pyfhel Ciphertext at 0x7c41a46f2a70, scheme=bfv, size=2/2, noiseBudget=361>', '<Pyfhel Ciphertext at 0x7c41a46f2890, scheme=bfv, size=2/2, noiseBudget=361>', '<Pyfhel Ciphertext at 0x7c41a46f2ac0, scheme=bfv, size=2/2, noiseBudget=361>', '<Pyfhel Ciphertext at 0x7c41a46f2b10, scheme=bfv, size=2/2, noiseBudget=361>', '<Pyfhel Ciphertext at 0x7c41a46f2b60, scheme=bfv, size=2/2, noiseBudget=361>', '<Pyfhel Ciphertext at 0x7c41a46f2bb0, scheme=bfv, size=2/2, noiseBudget=361>', '<Pyfhel Ciphertext at 0x7c41a46f2c00, scheme=bfv, size=2/2, noiseBudget=361>', '<Pyfhel Ciphertext at 0x7c41a46f2c50, scheme=bfv, size=2/2, noiseBudget=361>', '<Pyfhel Ciphertext at 0x7c41a46f2cf0, scheme=bfv, size=2/2, noiseBudget=361>', '<Pyfhel Ciphertext at 0x7c41a46f2d40, scheme=bfv, size=2/2, noiseBudget=361>', '<Pyfhel Ciphertext at 0x7c41a46f2ca0, scheme=bfv, size=2/2, noiseBudget=361>', '<Pyfhel Ciphertext at 0x7c41a46f2d90, scheme=bfv, size=2/2, noiseBudget=361>', '<Pyfhel Ciphertext at 0x7c41a46f2e30, scheme=bfv, size=2/2, noiseBudget=361>', '<Pyfhel Ciphertext at 0x7c41b1f92e80, scheme=bfv, size=2/2, noiseBudget=361>', '<Pyfhel Ciphertext at 0x7c41a48e0450, scheme=bfv, size=2/2, noiseBudget=361>', '<Pyfhel Ciphertext at 0x7c41a46f2de0, scheme=bfv, size=2/2, noiseBudget=361>', '<Pyfhel Ciphertext at 0x7c41a46f2ed0, scheme=bfv, size=2/2, noiseBudget=361>', '<Pyfhel Ciphertext at 0x7c41a46f2fc0, scheme=bfv, size=2/2, noiseBudget=361>', '<Pyfhel Ciphertext at 0x7c41a46f2f70, scheme=bfv, size=2/2, noiseBudget=361>', '<Pyfhel Ciphertext at 0x7c41a46f3010, scheme=bfv, size=2/2, noiseBudget=361>', '<Pyfhel Ciphertext at 0x7c41a46f3060, scheme=bfv, size=2/2, noiseBudget=361>', '<Pyfhel Ciphertext at 0x7c41a46f30b0, scheme=bfv, size=2/2, noiseBudget=361>', '<Pyfhel Ciphertext at 0x7c41a46f3100, scheme=bfv, size=2/2, noiseBudget=361>', '<Pyfhel Ciphertext at 0x7c41a46f3150, scheme=bfv, size=2/2, noiseBudget=361>', '<Pyfhel Ciphertext at 0x7c41a46f31f0, scheme=bfv, size=2/2, noiseBudget=361>', '<Pyfhel Ciphertext at 0x7c41a46f3240, scheme=bfv, size=2/2, noiseBudget=361>', '<Pyfhel Ciphertext at 0x7c41a46f31a0, scheme=bfv, size=2/2, noiseBudget=361>', '<Pyfhel Ciphertext at 0x7c41a46f3290, scheme=bfv, size=2/2, noiseBudget=361>', '<Pyfhel Ciphertext at 0x7c41a46f3330, scheme=bfv, size=2/2, noiseBudget=361>', '<Pyfhel Ciphertext at 0x7c41a46f3380, scheme=bfv, size=2/2, noiseBudget=361>', '<Pyfhel Ciphertext at 0x7c41a46f32e0, scheme=bfv, size=2/2, noiseBudget=361>', '<Pyfhel Ciphertext at 0x7c41a46f33d0, scheme=bfv, size=2/2, noiseBudget=361>', '<Pyfhel Ciphertext at 0x7c41a46f3420, scheme=bfv, size=2/2, noiseBudget=361>', '<Pyfhel Ciphertext at 0x7c41a46f3470, scheme=bfv, size=2/2, noiseBudget=361>', '<Pyfhel Ciphertext at 0x7c41a46f34c0, scheme=bfv, size=2/2, noiseBudget=361>', '<Pyfhel Ciphertext at 0x7c41a46f3510, scheme=bfv, size=2/2, noiseBudget=361>', '<Pyfhel Ciphertext at 0x7c41a46f3560, scheme=bfv, size=2/2, noiseBudget=361>', '<Pyfhel Ciphertext at 0x7c41a46f35b0, scheme=bfv, size=2/2, noiseBudget=361>', '<Pyfhel Ciphertext at 0x7c41a46f3600, scheme=bfv, size=2/2, noiseBudget=361>', '<Pyfhel Ciphertext at 0x7c41a46f36a0, scheme=bfv, size=2/2, noiseBudget=361>', '<Pyfhel Ciphertext at 0x7c41a46f36f0, scheme=bfv, size=2/2, noiseBudget=361>', '<Pyfhel Ciphertext at 0x7c41a46f3650, scheme=bfv, size=2/2, noiseBudget=361>', '<Pyfhel Ciphertext at 0x7c41a46f3740, scheme=bfv, size=2/2, noiseBudget=361>', '<Pyfhel Ciphertext at 0x7c41a46f3790, scheme=bfv, size=2/2, noiseBudget=361>', '<Pyfhel Ciphertext at 0x7c41a46f3880, scheme=bfv, size=2/2, noiseBudget=361>', '<Pyfhel Ciphertext at 0x7c41a46f38d0, scheme=bfv, size=2/2, noiseBudget=361>', '<Pyfhel Ciphertext at 0x7c41a46f3920, scheme=bfv, size=2/2, noiseBudget=361>', '<Pyfhel Ciphertext at 0x7c41a46f3970, scheme=bfv, size=2/2, noiseBudget=361>', '<Pyfhel Ciphertext at 0x7c41a46f39c0, scheme=bfv, size=2/2, noiseBudget=361>', '<Pyfhel Ciphertext at 0x7c41a46f3a10, scheme=bfv, size=2/2, noiseBudget=361>', '<Pyfhel Ciphertext at 0x7c41a46f3a60, scheme=bfv, size=2/2, noiseBudget=361>', '<Pyfhel Ciphertext at 0x7c41a46f37e0, scheme=bfv, size=2/2, noiseBudget=361>', '<Pyfhel Ciphertext at 0x7c41a46f3ab0, scheme=bfv, size=2/2, noiseBudget=361>', '<Pyfhel Ciphertext at 0x7c41a46f3830, scheme=bfv, size=2/2, noiseBudget=361>', '<Pyfhel Ciphertext at 0x7c41a46f3b50, scheme=bfv, size=2/2, noiseBudget=361>', '<Pyfhel Ciphertext at 0x7c41a46f3ba0, scheme=bfv, size=2/2, noiseBudget=361>', '<Pyfhel Ciphertext at 0x7c41a46f3b00, scheme=bfv, size=2/2, noiseBudget=361>', '<Pyfhel Ciphertext at 0x7c41a46f3bf0, scheme=bfv, size=2/2, noiseBudget=361>', '<Pyfhel Ciphertext at 0x7c41a46f3c40, scheme=bfv, size=2/2, noiseBudget=361>', '<Pyfhel Ciphertext at 0x7c41a46f3c90, scheme=bfv, size=2/2, noiseBudget=361>', '<Pyfhel Ciphertext at 0x7c41a46f3ce0, scheme=bfv, size=2/2, noiseBudget=361>', '<Pyfhel Ciphertext at 0x7c41a46f3d30, scheme=bfv, size=2/2, noiseBudget=361>', '<Pyfhel Ciphertext at 0x7c41a46f3d80, scheme=bfv, size=2/2, noiseBudget=361>', '<Pyfhel Ciphertext at 0x7c41a48e3dd0, scheme=bfv, size=2/2, noiseBudget=361>', '<Pyfhel Ciphertext at 0x7c41a46f3e20, scheme=bfv, size=2/2, noiseBudget=361>', '<Pyfhel Ciphertext at 0x7c41a46f3f10, scheme=bfv, size=2/2, noiseBudget=361>', '<Pyfhel Ciphertext at 0x7c41a46f3ec0, scheme=bfv, size=2/2, noiseBudget=361>', '<Pyfhel Ciphertext at 0x7c41a46f3fb0, scheme=bfv, size=2/2, noiseBudget=361>', '<Pyfhel Ciphertext at 0x7c41a46f3f60, scheme=bfv, size=2/2, noiseBudget=361>', '<Pyfhel Ciphertext at 0x7c41a46f4040, scheme=bfv, size=2/2, noiseBudget=361>', '<Pyfhel Ciphertext at 0x7c41a46f40e0, scheme=bfv, size=2/2, noiseBudget=361>', '<Pyfhel Ciphertext at 0x7c41a46f4130, scheme=bfv, size=2/2, noiseBudget=361>', '<Pyfhel Ciphertext at 0x7c41a46f4090, scheme=bfv, size=2/2, noiseBudget=361>', '<Pyfhel Ciphertext at 0x7c41a46f4180, scheme=bfv, size=2/2, noiseBudget=361>', '<Pyfhel Ciphertext at 0x7c41a46f41d0, scheme=bfv, size=2/2, noiseBudget=361>', '<Pyfhel Ciphertext at 0x7c41a46f4220, scheme=bfv, size=2/2, noiseBudget=361>', '<Pyfhel Ciphertext at 0x7c41a46f4270, scheme=bfv, size=2/2, noiseBudget=361>', '<Pyfhel Ciphertext at 0x7c41a46f42c0, scheme=bfv, size=2/2, noiseBudget=361>', '<Pyfhel Ciphertext at 0x7c41a46f4310, scheme=bfv, size=2/2, noiseBudget=361>', '<Pyfhel Ciphertext at 0x7c41a46f4360, scheme=bfv, size=2/2, noiseBudget=361>', '<Pyfhel Ciphertext at 0x7c41a46f43b0, scheme=bfv, size=2/2, noiseBudget=361>', '<Pyfhel Ciphertext at 0x7c41a46f4400, scheme=bfv, size=2/2, noiseBudget=361>', '<Pyfhel Ciphertext at 0x7c41a46f4450, scheme=bfv, size=2/2, noiseBudget=361>', '<Pyfhel Ciphertext at 0x7c41a46f44f0, scheme=bfv, size=2/2, noiseBudget=361>', '<Pyfhel Ciphertext at 0x7c41a46f4540, scheme=bfv, size=2/2, noiseBudget=361>', '<Pyfhel Ciphertext at 0x7c41a46f44a0, scheme=bfv, size=2/2, noiseBudget=361>', '<Pyfhel Ciphertext at 0x7c41a46f45e0, scheme=bfv, size=2/2, noiseBudget=361>', '<Pyfhel Ciphertext at 0x7c41a46f4630, scheme=bfv, size=2/2, noiseBudget=361>', '<Pyfhel Ciphertext at 0x7c41a46f4590, scheme=bfv, size=2/2, noiseBudget=361>', '<Pyfhel Ciphertext at 0x7c41a46f4680, scheme=bfv, size=2/2, noiseBudget=361>', '<Pyfhel Ciphertext at 0x7c41a46f46d0, scheme=bfv, size=2/2, noiseBudget=361>', '<Pyfhel Ciphertext at 0x7c41a46f4720, scheme=bfv, size=2/2, noiseBudget=361>', '<Pyfhel Ciphertext at 0x7c41a46f4770, scheme=bfv, size=2/2, noiseBudget=361>', '<Pyfhel Ciphertext at 0x7c41a46f47c0, scheme=bfv, size=2/2, noiseBudget=361>', '<Pyfhel Ciphertext at 0x7c41a46f4810, scheme=bfv, size=2/2, noiseBudget=361>', '<Pyfhel Ciphertext at 0x7c41a46f4860, scheme=bfv, size=2/2, noiseBudget=361>', '<Pyfhel Ciphertext at 0x7c41a46f48b0, scheme=bfv, size=2/2, noiseBudget=361>', '<Pyfhel Ciphertext at 0x7c41a46f4900, scheme=bfv, size=2/2, noiseBudget=361>', '<Pyfhel Ciphertext at 0x7c41a46f4950, scheme=bfv, size=2/2, noiseBudget=361>', '<Pyfhel Ciphertext at 0x7c41a46f4a40, scheme=bfv, size=2/2, noiseBudget=361>', '<Pyfhel Ciphertext at 0x7c41a46f4a90, scheme=bfv, size=2/2, noiseBudget=361>', '<Pyfhel Ciphertext at 0x7c41a46f4b80, scheme=bfv, size=2/2, noiseBudget=361>', '<Pyfhel Ciphertext at 0x7c41a46f4bd0, scheme=bfv, size=2/2, noiseBudget=361>', '<Pyfhel Ciphertext at 0x7c41a46f4c20, scheme=bfv, size=2/2, noiseBudget=361>', '<Pyfhel Ciphertext at 0x7c41a46f4c70, scheme=bfv, size=2/2, noiseBudget=361>', '<Pyfhel Ciphertext at 0x7c41a46f4cc0, scheme=bfv, size=2/2, noiseBudget=361>', '<Pyfhel Ciphertext at 0x7c41a46f4d10, scheme=bfv, size=2/2, noiseBudget=361>', '<Pyfhel Ciphertext at 0x7c41a46f4d60, scheme=bfv, size=2/2, noiseBudget=361>', '<Pyfhel Ciphertext at 0x7c41a46f4db0, scheme=bfv, size=2/2, noiseBudget=361>', '<Pyfhel Ciphertext at 0x7c41a499db70, scheme=bfv, size=2/2, noiseBudget=361>', '<Pyfhel Ciphertext at 0x7c41a46f4b30, scheme=bfv, size=2/2, noiseBudget=361>', '<Pyfhel Ciphertext at 0x7c41a83a7b50, scheme=bfv, size=2/2, noiseBudget=361>']\n"
          ]
        }
      ],
      "source": [
        "HE = Pyfhel()\n",
        "HE.contextGen(scheme='BFV', n=2**14, t_bits=20)\n",
        "HE.keyGen()\n",
        "\n",
        "cipher_text = [HE.encryptInt(np.array([num], dtype=np.int64)) for num in encoded_text]\n",
        "print(f\"Cipher Text: {[str(ct) for ct in cipher_text]}\")"
      ]
    },
    {
      "cell_type": "code",
      "execution_count": 22,
      "metadata": {
        "colab": {
          "base_uri": "https://localhost:8080/"
        },
        "id": "10A0G4lHjN3k",
        "outputId": "9fb6dedc-a7c3-4de9-cc79-8d140f15f6b3"
      },
      "outputs": [
        {
          "output_type": "stream",
          "name": "stdout",
          "text": [
            "<Pyfhel Ciphertext at 0x7c41a499f060, scheme=bfv, size=2/2, noiseBudget=361>\n"
          ]
        }
      ],
      "source": [
        "print(str(cipher_text[0]))"
      ]
    },
    {
      "cell_type": "code",
      "execution_count": 23,
      "metadata": {
        "colab": {
          "base_uri": "https://localhost:8080/"
        },
        "id": "KHydvFAS3e2F",
        "outputId": "c4763538-26a8-4e02-a3da-07b2d76fd135"
      },
      "outputs": [
        {
          "output_type": "stream",
          "name": "stdout",
          "text": [
            "Original Text: The Prismo Accountability Layer is a fundamental component of Prismo Technology that ensures every transaction within its ecosystem is secure, transparent, and tamper-proof. It utilizes blockchain technology to create an immutable record of all interactions, meaning that once a transaction is recorded, it cannot be altered or deleted. This feature provides users with the ability to verify every action taken with their data, fostering trust and accountability in digital interactions. Essentially, it acts like a digital ledger that everyone can see, ensuring that all transactions are honest and traceable.\n",
            "\n",
            "Decoded Text after encryption/decryption: The Prismo Accountability Layer is a fundamental component of Prismo Technology that ensures every transaction within its ecosystem is secure, transparent, and tamper-proof. It utilizes blockchain technology to create an immutable record of all interactions, meaning that once a transaction is recorded, it cannot be altered or deleted. This feature provides users with the ability to verify every action taken with their data, fostering trust and accountability in digital interactions. Essentially, it acts like a digital ledger that everyone can see, ensuring that all transactions are honest and traceable.\n"
          ]
        }
      ],
      "source": [
        "decrypted_text = [HE.decryptInt(ct)[0] for ct in cipher_text]\n",
        "decoded_text = ''.join([chr(num) for num in decrypted_text])\n",
        "\n",
        "print(f\"Original Text: {response}\")\n",
        "print(\"\")\n",
        "print(f\"Decoded Text after encryption/decryption: {decoded_text}\")"
      ]
    },
    {
      "cell_type": "markdown",
      "source": [
        "# Turn to ENC File"
      ],
      "metadata": {
        "id": "X_apTFykddFP"
      }
    },
    {
      "source": [
        "import pickle\n",
        "\n",
        "# Save ciphertext to .enc file\n",
        "with open(\"ciphertext.enc\", \"wb\") as file:\n",
        "    # Use pickle to serialize the ciphertext list into bytes\n",
        "    pickle.dump(cipher_text, file)"
      ],
      "cell_type": "code",
      "metadata": {
        "id": "7ExUFRtlcY4t"
      },
      "execution_count": 30,
      "outputs": []
    },
    {
      "cell_type": "code",
      "source": [
        "import pickle\n",
        "\n",
        "# Load ciphertext from .enc file\n",
        "with open(\"ciphertext.enc\", \"rb\") as file:\n",
        "    loaded_cipher_text = pickle.load(file)"
      ],
      "metadata": {
        "id": "fbfQIWPqcbO7"
      },
      "execution_count": 31,
      "outputs": []
    },
    {
      "cell_type": "code",
      "source": [
        "print(loaded_cipher_text)"
      ],
      "metadata": {
        "colab": {
          "base_uri": "https://localhost:8080/"
        },
        "id": "njWhAuUOci6E",
        "outputId": "d592a430-95c4-4211-a885-8ba0bd42d23e"
      },
      "execution_count": 32,
      "outputs": [
        {
          "output_type": "stream",
          "name": "stdout",
          "text": [
            "[<Pyfhel Ciphertext at 0x7c41509ff920, scheme=bfv, size=2/2, ?>, <Pyfhel Ciphertext at 0x7c41509ff880, scheme=bfv, size=2/2, ?>, <Pyfhel Ciphertext at 0x7c41509ff8d0, scheme=bfv, size=2/2, ?>, <Pyfhel Ciphertext at 0x7c41509ff9c0, scheme=bfv, size=2/2, ?>, <Pyfhel Ciphertext at 0x7c41509ffa10, scheme=bfv, size=2/2, ?>, <Pyfhel Ciphertext at 0x7c41509ffab0, scheme=bfv, size=2/2, ?>, <Pyfhel Ciphertext at 0x7c41509ffb00, scheme=bfv, size=2/2, ?>, <Pyfhel Ciphertext at 0x7c41509ffba0, scheme=bfv, size=2/2, ?>, <Pyfhel Ciphertext at 0x7c41509ffbf0, scheme=bfv, size=2/2, ?>, <Pyfhel Ciphertext at 0x7c41509ffc40, scheme=bfv, size=2/2, ?>, <Pyfhel Ciphertext at 0x7c41509ffc90, scheme=bfv, size=2/2, ?>, <Pyfhel Ciphertext at 0x7c41509ffd30, scheme=bfv, size=2/2, ?>, <Pyfhel Ciphertext at 0x7c41509ffd80, scheme=bfv, size=2/2, ?>, <Pyfhel Ciphertext at 0x7c41509ffdd0, scheme=bfv, size=2/2, ?>, <Pyfhel Ciphertext at 0x7c41509ffec0, scheme=bfv, size=2/2, ?>, <Pyfhel Ciphertext at 0x7c41509ffe70, scheme=bfv, size=2/2, ?>, <Pyfhel Ciphertext at 0x7c41509fff10, scheme=bfv, size=2/2, ?>, <Pyfhel Ciphertext at 0x7c41509fff60, scheme=bfv, size=2/2, ?>, <Pyfhel Ciphertext at 0x7c4150a10040, scheme=bfv, size=2/2, ?>, <Pyfhel Ciphertext at 0x7c4150a10090, scheme=bfv, size=2/2, ?>, <Pyfhel Ciphertext at 0x7c4150a100e0, scheme=bfv, size=2/2, ?>, <Pyfhel Ciphertext at 0x7c4150a10130, scheme=bfv, size=2/2, ?>, <Pyfhel Ciphertext at 0x7c4150a101d0, scheme=bfv, size=2/2, ?>, <Pyfhel Ciphertext at 0x7c4150a10220, scheme=bfv, size=2/2, ?>, <Pyfhel Ciphertext at 0x7c41509fe570, scheme=bfv, size=2/2, ?>, <Pyfhel Ciphertext at 0x7c41509fe160, scheme=bfv, size=2/2, ?>, <Pyfhel Ciphertext at 0x7c41509feac0, scheme=bfv, size=2/2, ?>, <Pyfhel Ciphertext at 0x7c41509ff970, scheme=bfv, size=2/2, ?>, <Pyfhel Ciphertext at 0x7c4150a10270, scheme=bfv, size=2/2, ?>, <Pyfhel Ciphertext at 0x7c4150a103b0, scheme=bfv, size=2/2, ?>, <Pyfhel Ciphertext at 0x7c4150a10310, scheme=bfv, size=2/2, ?>, <Pyfhel Ciphertext at 0x7c4150a10360, scheme=bfv, size=2/2, ?>, <Pyfhel Ciphertext at 0x7c4150a10450, scheme=bfv, size=2/2, ?>, <Pyfhel Ciphertext at 0x7c4150a104a0, scheme=bfv, size=2/2, ?>, <Pyfhel Ciphertext at 0x7c41509e8b80, scheme=bfv, size=2/2, ?>, <Pyfhel Ciphertext at 0x7c41b1f92c00, scheme=bfv, size=2/2, ?>, <Pyfhel Ciphertext at 0x7c41509fea70, scheme=bfv, size=2/2, ?>, <Pyfhel Ciphertext at 0x7c41509fea20, scheme=bfv, size=2/2, ?>, <Pyfhel Ciphertext at 0x7c41509fe5c0, scheme=bfv, size=2/2, ?>, <Pyfhel Ciphertext at 0x7c41509fd120, scheme=bfv, size=2/2, ?>, <Pyfhel Ciphertext at 0x7c41509fe9d0, scheme=bfv, size=2/2, ?>, <Pyfhel Ciphertext at 0x7c41509fec50, scheme=bfv, size=2/2, ?>, <Pyfhel Ciphertext at 0x7c41509fde90, scheme=bfv, size=2/2, ?>, <Pyfhel Ciphertext at 0x7c41509fccc0, scheme=bfv, size=2/2, ?>, <Pyfhel Ciphertext at 0x7c41509f3ec0, scheme=bfv, size=2/2, ?>, <Pyfhel Ciphertext at 0x7c41509f6ca0, scheme=bfv, size=2/2, ?>, <Pyfhel Ciphertext at 0x7c41509f3510, scheme=bfv, size=2/2, ?>, <Pyfhel Ciphertext at 0x7c41509e9ee0, scheme=bfv, size=2/2, ?>, <Pyfhel Ciphertext at 0x7c4150a014e0, scheme=bfv, size=2/2, ?>, <Pyfhel Ciphertext at 0x7c41509fe430, scheme=bfv, size=2/2, ?>, <Pyfhel Ciphertext at 0x7c41509fd080, scheme=bfv, size=2/2, ?>, <Pyfhel Ciphertext at 0x7c41509fe2a0, scheme=bfv, size=2/2, ?>, <Pyfhel Ciphertext at 0x7c41509fe4d0, scheme=bfv, size=2/2, ?>, <Pyfhel Ciphertext at 0x7c41509ff3d0, scheme=bfv, size=2/2, ?>, <Pyfhel Ciphertext at 0x7c41509ff510, scheme=bfv, size=2/2, ?>, <Pyfhel Ciphertext at 0x7c41509ff560, scheme=bfv, size=2/2, ?>, <Pyfhel Ciphertext at 0x7c41509ff420, scheme=bfv, size=2/2, ?>, <Pyfhel Ciphertext at 0x7c41509ff4c0, scheme=bfv, size=2/2, ?>, <Pyfhel Ciphertext at 0x7c41509fdd00, scheme=bfv, size=2/2, ?>, <Pyfhel Ciphertext at 0x7c41509fcc20, scheme=bfv, size=2/2, ?>, <Pyfhel Ciphertext at 0x7c41509fce50, scheme=bfv, size=2/2, ?>, <Pyfhel Ciphertext at 0x7c41509fdfd0, scheme=bfv, size=2/2, ?>, <Pyfhel Ciphertext at 0x7c41509fcea0, scheme=bfv, size=2/2, ?>, <Pyfhel Ciphertext at 0x7c41509fe520, scheme=bfv, size=2/2, ?>, <Pyfhel Ciphertext at 0x7c41509fe610, scheme=bfv, size=2/2, ?>, <Pyfhel Ciphertext at 0x7c41509fcfe0, scheme=bfv, size=2/2, ?>, <Pyfhel Ciphertext at 0x7c41509fe700, scheme=bfv, size=2/2, ?>, <Pyfhel Ciphertext at 0x7c41509fe750, scheme=bfv, size=2/2, ?>, <Pyfhel Ciphertext at 0x7c41509fce00, scheme=bfv, size=2/2, ?>, <Pyfhel Ciphertext at 0x7c41509fe7a0, scheme=bfv, size=2/2, ?>, <Pyfhel Ciphertext at 0x7c41509fcae0, scheme=bfv, size=2/2, ?>, <Pyfhel Ciphertext at 0x7c41509fcf40, scheme=bfv, size=2/2, ?>, <Pyfhel Ciphertext at 0x7c41509fcf90, scheme=bfv, size=2/2, ?>, <Pyfhel Ciphertext at 0x7c41509fcef0, scheme=bfv, size=2/2, ?>, <Pyfhel Ciphertext at 0x7c41509fe480, scheme=bfv, size=2/2, ?>, <Pyfhel Ciphertext at 0x7c41509fd030, scheme=bfv, size=2/2, ?>, <Pyfhel Ciphertext at 0x7c41509fcb30, scheme=bfv, size=2/2, ?>, <Pyfhel Ciphertext at 0x7c41509fe3e0, scheme=bfv, size=2/2, ?>, <Pyfhel Ciphertext at 0x7c41509fe340, scheme=bfv, size=2/2, ?>, <Pyfhel Ciphertext at 0x7c41509fcc70, scheme=bfv, size=2/2, ?>, <Pyfhel Ciphertext at 0x7c41509fdc60, scheme=bfv, size=2/2, ?>, <Pyfhel Ciphertext at 0x7c41509fcd10, scheme=bfv, size=2/2, ?>, <Pyfhel Ciphertext at 0x7c41509fcd60, scheme=bfv, size=2/2, ?>, <Pyfhel Ciphertext at 0x7c41509fcdb0, scheme=bfv, size=2/2, ?>, <Pyfhel Ciphertext at 0x7c41509fd2b0, scheme=bfv, size=2/2, ?>, <Pyfhel Ciphertext at 0x7c41509fd300, scheme=bfv, size=2/2, ?>, <Pyfhel Ciphertext at 0x7c41509fd350, scheme=bfv, size=2/2, ?>, <Pyfhel Ciphertext at 0x7c41509fd3a0, scheme=bfv, size=2/2, ?>, <Pyfhel Ciphertext at 0x7c41509fd3f0, scheme=bfv, size=2/2, ?>, <Pyfhel Ciphertext at 0x7c41509fd440, scheme=bfv, size=2/2, ?>, <Pyfhel Ciphertext at 0x7c41509fd490, scheme=bfv, size=2/2, ?>, <Pyfhel Ciphertext at 0x7c41509fd4e0, scheme=bfv, size=2/2, ?>, <Pyfhel Ciphertext at 0x7c41509fd530, scheme=bfv, size=2/2, ?>, <Pyfhel Ciphertext at 0x7c41509fd580, scheme=bfv, size=2/2, ?>, <Pyfhel Ciphertext at 0x7c41509fd5d0, scheme=bfv, size=2/2, ?>, <Pyfhel Ciphertext at 0x7c41509fd620, scheme=bfv, size=2/2, ?>, <Pyfhel Ciphertext at 0x7c41509fd670, scheme=bfv, size=2/2, ?>, <Pyfhel Ciphertext at 0x7c41509fd6c0, scheme=bfv, size=2/2, ?>, <Pyfhel Ciphertext at 0x7c41509fd710, scheme=bfv, size=2/2, ?>, <Pyfhel Ciphertext at 0x7c41509fd760, scheme=bfv, size=2/2, ?>, <Pyfhel Ciphertext at 0x7c41509fd7b0, scheme=bfv, size=2/2, ?>, <Pyfhel Ciphertext at 0x7c41509fd800, scheme=bfv, size=2/2, ?>, <Pyfhel Ciphertext at 0x7c41509fd850, scheme=bfv, size=2/2, ?>, <Pyfhel Ciphertext at 0x7c41509fd8a0, scheme=bfv, size=2/2, ?>, <Pyfhel Ciphertext at 0x7c41509fd8f0, scheme=bfv, size=2/2, ?>, <Pyfhel Ciphertext at 0x7c41509fd940, scheme=bfv, size=2/2, ?>, <Pyfhel Ciphertext at 0x7c41509fd990, scheme=bfv, size=2/2, ?>, <Pyfhel Ciphertext at 0x7c41509fd9e0, scheme=bfv, size=2/2, ?>, <Pyfhel Ciphertext at 0x7c41509fda30, scheme=bfv, size=2/2, ?>, <Pyfhel Ciphertext at 0x7c41509fda80, scheme=bfv, size=2/2, ?>, <Pyfhel Ciphertext at 0x7c41509fdad0, scheme=bfv, size=2/2, ?>, <Pyfhel Ciphertext at 0x7c41509fdb20, scheme=bfv, size=2/2, ?>, <Pyfhel Ciphertext at 0x7c41509fdb70, scheme=bfv, size=2/2, ?>, <Pyfhel Ciphertext at 0x7c41509fdbc0, scheme=bfv, size=2/2, ?>, <Pyfhel Ciphertext at 0x7c41509fdc10, scheme=bfv, size=2/2, ?>, <Pyfhel Ciphertext at 0x7c41509fe2f0, scheme=bfv, size=2/2, ?>, <Pyfhel Ciphertext at 0x7c41509fdcb0, scheme=bfv, size=2/2, ?>, <Pyfhel Ciphertext at 0x7c41509fe110, scheme=bfv, size=2/2, ?>, <Pyfhel Ciphertext at 0x7c41509fcb80, scheme=bfv, size=2/2, ?>, <Pyfhel Ciphertext at 0x7c41509fcbd0, scheme=bfv, size=2/2, ?>, <Pyfhel Ciphertext at 0x7c41509fddf0, scheme=bfv, size=2/2, ?>, <Pyfhel Ciphertext at 0x7c41509fde40, scheme=bfv, size=2/2, ?>, <Pyfhel Ciphertext at 0x7c41509fdf80, scheme=bfv, size=2/2, ?>, <Pyfhel Ciphertext at 0x7c41509fdee0, scheme=bfv, size=2/2, ?>, <Pyfhel Ciphertext at 0x7c41509fdf30, scheme=bfv, size=2/2, ?>, <Pyfhel Ciphertext at 0x7c41509fe070, scheme=bfv, size=2/2, ?>, <Pyfhel Ciphertext at 0x7c41509fe0c0, scheme=bfv, size=2/2, ?>, <Pyfhel Ciphertext at 0x7c41509fe200, scheme=bfv, size=2/2, ?>, <Pyfhel Ciphertext at 0x7c41509fe7f0, scheme=bfv, size=2/2, ?>, <Pyfhel Ciphertext at 0x7c41509fe020, scheme=bfv, size=2/2, ?>, <Pyfhel Ciphertext at 0x7c41509fdd50, scheme=bfv, size=2/2, ?>, <Pyfhel Ciphertext at 0x7c41509ff830, scheme=bfv, size=2/2, ?>, <Pyfhel Ciphertext at 0x7c41509ffa60, scheme=bfv, size=2/2, ?>, <Pyfhel Ciphertext at 0x7c41509ffe20, scheme=bfv, size=2/2, ?>, <Pyfhel Ciphertext at 0x7c41509ffb50, scheme=bfv, size=2/2, ?>, <Pyfhel Ciphertext at 0x7c41509ffce0, scheme=bfv, size=2/2, ?>, <Pyfhel Ciphertext at 0x7c41509fffb0, scheme=bfv, size=2/2, ?>, <Pyfhel Ciphertext at 0x7c4150a10180, scheme=bfv, size=2/2, ?>, <Pyfhel Ciphertext at 0x7c4150a102c0, scheme=bfv, size=2/2, ?>, <Pyfhel Ciphertext at 0x7c4150a10400, scheme=bfv, size=2/2, ?>, <Pyfhel Ciphertext at 0x7c4150a104f0, scheme=bfv, size=2/2, ?>, <Pyfhel Ciphertext at 0x7c4150a10540, scheme=bfv, size=2/2, ?>, <Pyfhel Ciphertext at 0x7c4150a10590, scheme=bfv, size=2/2, ?>, <Pyfhel Ciphertext at 0x7c4150a105e0, scheme=bfv, size=2/2, ?>, <Pyfhel Ciphertext at 0x7c4150a10630, scheme=bfv, size=2/2, ?>, <Pyfhel Ciphertext at 0x7c4150a10680, scheme=bfv, size=2/2, ?>, <Pyfhel Ciphertext at 0x7c4150a106d0, scheme=bfv, size=2/2, ?>, <Pyfhel Ciphertext at 0x7c4150a10720, scheme=bfv, size=2/2, ?>, <Pyfhel Ciphertext at 0x7c4150a10770, scheme=bfv, size=2/2, ?>, <Pyfhel Ciphertext at 0x7c4150a107c0, scheme=bfv, size=2/2, ?>, <Pyfhel Ciphertext at 0x7c4150a10810, scheme=bfv, size=2/2, ?>, <Pyfhel Ciphertext at 0x7c4150a10860, scheme=bfv, size=2/2, ?>, <Pyfhel Ciphertext at 0x7c4150a108b0, scheme=bfv, size=2/2, ?>, <Pyfhel Ciphertext at 0x7c4150a10900, scheme=bfv, size=2/2, ?>, <Pyfhel Ciphertext at 0x7c4150a10950, scheme=bfv, size=2/2, ?>, <Pyfhel Ciphertext at 0x7c4150a109a0, scheme=bfv, size=2/2, ?>, <Pyfhel Ciphertext at 0x7c4150a109f0, scheme=bfv, size=2/2, ?>, <Pyfhel Ciphertext at 0x7c4150a10a40, scheme=bfv, size=2/2, ?>, <Pyfhel Ciphertext at 0x7c4150a10a90, scheme=bfv, size=2/2, ?>, <Pyfhel Ciphertext at 0x7c4150a10ae0, scheme=bfv, size=2/2, ?>, <Pyfhel Ciphertext at 0x7c4150a10b30, scheme=bfv, size=2/2, ?>, <Pyfhel Ciphertext at 0x7c4150a10b80, scheme=bfv, size=2/2, ?>, <Pyfhel Ciphertext at 0x7c4150a10bd0, scheme=bfv, size=2/2, ?>, <Pyfhel Ciphertext at 0x7c4150a10c20, scheme=bfv, size=2/2, ?>, <Pyfhel Ciphertext at 0x7c4150a10c70, scheme=bfv, size=2/2, ?>, <Pyfhel Ciphertext at 0x7c4150a10cc0, scheme=bfv, size=2/2, ?>, <Pyfhel Ciphertext at 0x7c4150a10d10, scheme=bfv, size=2/2, ?>, <Pyfhel Ciphertext at 0x7c4150a10d60, scheme=bfv, size=2/2, ?>, <Pyfhel Ciphertext at 0x7c4150a10db0, scheme=bfv, size=2/2, ?>, <Pyfhel Ciphertext at 0x7c4150a10e00, scheme=bfv, size=2/2, ?>, <Pyfhel Ciphertext at 0x7c4150a10e50, scheme=bfv, size=2/2, ?>, <Pyfhel Ciphertext at 0x7c4150a10ea0, scheme=bfv, size=2/2, ?>, <Pyfhel Ciphertext at 0x7c4150a10ef0, scheme=bfv, size=2/2, ?>, <Pyfhel Ciphertext at 0x7c4150a10f40, scheme=bfv, size=2/2, ?>, <Pyfhel Ciphertext at 0x7c41509ff470, scheme=bfv, size=2/2, ?>, <Pyfhel Ciphertext at 0x7c4150a11030, scheme=bfv, size=2/2, ?>, <Pyfhel Ciphertext at 0x7c4150a10f90, scheme=bfv, size=2/2, ?>, <Pyfhel Ciphertext at 0x7c4150a10fe0, scheme=bfv, size=2/2, ?>, <Pyfhel Ciphertext at 0x7c4150a11080, scheme=bfv, size=2/2, ?>, <Pyfhel Ciphertext at 0x7c41509e5c10, scheme=bfv, size=2/2, ?>, <Pyfhel Ciphertext at 0x7c4150a11170, scheme=bfv, size=2/2, ?>, <Pyfhel Ciphertext at 0x7c4150a11210, scheme=bfv, size=2/2, ?>, <Pyfhel Ciphertext at 0x7c4150a111c0, scheme=bfv, size=2/2, ?>, <Pyfhel Ciphertext at 0x7c4150a11120, scheme=bfv, size=2/2, ?>, <Pyfhel Ciphertext at 0x7c4150a11260, scheme=bfv, size=2/2, ?>, <Pyfhel Ciphertext at 0x7c4150a11350, scheme=bfv, size=2/2, ?>, <Pyfhel Ciphertext at 0x7c4150a113f0, scheme=bfv, size=2/2, ?>, <Pyfhel Ciphertext at 0x7c4150a113a0, scheme=bfv, size=2/2, ?>, <Pyfhel Ciphertext at 0x7c4150a11300, scheme=bfv, size=2/2, ?>, <Pyfhel Ciphertext at 0x7c4150a11440, scheme=bfv, size=2/2, ?>, <Pyfhel Ciphertext at 0x7c4150a11490, scheme=bfv, size=2/2, ?>, <Pyfhel Ciphertext at 0x7c4150a11530, scheme=bfv, size=2/2, ?>, <Pyfhel Ciphertext at 0x7c4150a114e0, scheme=bfv, size=2/2, ?>, <Pyfhel Ciphertext at 0x7c4150a11580, scheme=bfv, size=2/2, ?>, <Pyfhel Ciphertext at 0x7c4150a115d0, scheme=bfv, size=2/2, ?>, <Pyfhel Ciphertext at 0x7c4150a11620, scheme=bfv, size=2/2, ?>, <Pyfhel Ciphertext at 0x7c4150a11670, scheme=bfv, size=2/2, ?>, <Pyfhel Ciphertext at 0x7c4150a116c0, scheme=bfv, size=2/2, ?>, <Pyfhel Ciphertext at 0x7c4150a11710, scheme=bfv, size=2/2, ?>, <Pyfhel Ciphertext at 0x7c4150a11760, scheme=bfv, size=2/2, ?>, <Pyfhel Ciphertext at 0x7c4150a117b0, scheme=bfv, size=2/2, ?>, <Pyfhel Ciphertext at 0x7c4150a11800, scheme=bfv, size=2/2, ?>, <Pyfhel Ciphertext at 0x7c4150a11850, scheme=bfv, size=2/2, ?>, <Pyfhel Ciphertext at 0x7c4150a118a0, scheme=bfv, size=2/2, ?>, <Pyfhel Ciphertext at 0x7c4150a118f0, scheme=bfv, size=2/2, ?>, <Pyfhel Ciphertext at 0x7c4150a11940, scheme=bfv, size=2/2, ?>, <Pyfhel Ciphertext at 0x7c4150a11990, scheme=bfv, size=2/2, ?>, <Pyfhel Ciphertext at 0x7c4150a119e0, scheme=bfv, size=2/2, ?>, <Pyfhel Ciphertext at 0x7c4150a11a30, scheme=bfv, size=2/2, ?>, <Pyfhel Ciphertext at 0x7c4150a11a80, scheme=bfv, size=2/2, ?>, <Pyfhel Ciphertext at 0x7c4150a11ad0, scheme=bfv, size=2/2, ?>, <Pyfhel Ciphertext at 0x7c4150a11b20, scheme=bfv, size=2/2, ?>, <Pyfhel Ciphertext at 0x7c4150a11b70, scheme=bfv, size=2/2, ?>, <Pyfhel Ciphertext at 0x7c4150a11bc0, scheme=bfv, size=2/2, ?>, <Pyfhel Ciphertext at 0x7c4150a11c10, scheme=bfv, size=2/2, ?>, <Pyfhel Ciphertext at 0x7c4150a11c60, scheme=bfv, size=2/2, ?>, <Pyfhel Ciphertext at 0x7c4150a11d50, scheme=bfv, size=2/2, ?>, <Pyfhel Ciphertext at 0x7c4150a11cb0, scheme=bfv, size=2/2, ?>, <Pyfhel Ciphertext at 0x7c4150a11d00, scheme=bfv, size=2/2, ?>, <Pyfhel Ciphertext at 0x7c4150a11da0, scheme=bfv, size=2/2, ?>, <Pyfhel Ciphertext at 0x7c4150a11df0, scheme=bfv, size=2/2, ?>, <Pyfhel Ciphertext at 0x7c4150a11e40, scheme=bfv, size=2/2, ?>, <Pyfhel Ciphertext at 0x7c4150a11e90, scheme=bfv, size=2/2, ?>, <Pyfhel Ciphertext at 0x7c4150a11ee0, scheme=bfv, size=2/2, ?>, <Pyfhel Ciphertext at 0x7c4150a11f30, scheme=bfv, size=2/2, ?>, <Pyfhel Ciphertext at 0x7c4150a11f80, scheme=bfv, size=2/2, ?>, <Pyfhel Ciphertext at 0x7c4150a11fd0, scheme=bfv, size=2/2, ?>, <Pyfhel Ciphertext at 0x7c4150a12020, scheme=bfv, size=2/2, ?>, <Pyfhel Ciphertext at 0x7c4150a12070, scheme=bfv, size=2/2, ?>, <Pyfhel Ciphertext at 0x7c4150a120c0, scheme=bfv, size=2/2, ?>, <Pyfhel Ciphertext at 0x7c4150a12110, scheme=bfv, size=2/2, ?>, <Pyfhel Ciphertext at 0x7c4150a12160, scheme=bfv, size=2/2, ?>, <Pyfhel Ciphertext at 0x7c4150a121b0, scheme=bfv, size=2/2, ?>, <Pyfhel Ciphertext at 0x7c4150a12200, scheme=bfv, size=2/2, ?>, <Pyfhel Ciphertext at 0x7c4150a12250, scheme=bfv, size=2/2, ?>, <Pyfhel Ciphertext at 0x7c4150a122a0, scheme=bfv, size=2/2, ?>, <Pyfhel Ciphertext at 0x7c4150a122f0, scheme=bfv, size=2/2, ?>, <Pyfhel Ciphertext at 0x7c4150a12340, scheme=bfv, size=2/2, ?>, <Pyfhel Ciphertext at 0x7c4150a12390, scheme=bfv, size=2/2, ?>, <Pyfhel Ciphertext at 0x7c4150a123e0, scheme=bfv, size=2/2, ?>, <Pyfhel Ciphertext at 0x7c4150a12430, scheme=bfv, size=2/2, ?>, <Pyfhel Ciphertext at 0x7c4150a12480, scheme=bfv, size=2/2, ?>, <Pyfhel Ciphertext at 0x7c4150a124d0, scheme=bfv, size=2/2, ?>, <Pyfhel Ciphertext at 0x7c4150a12520, scheme=bfv, size=2/2, ?>, <Pyfhel Ciphertext at 0x7c4150a12570, scheme=bfv, size=2/2, ?>, <Pyfhel Ciphertext at 0x7c4150a125c0, scheme=bfv, size=2/2, ?>, <Pyfhel Ciphertext at 0x7c4150a12610, scheme=bfv, size=2/2, ?>, <Pyfhel Ciphertext at 0x7c4150a12660, scheme=bfv, size=2/2, ?>, <Pyfhel Ciphertext at 0x7c4150a126b0, scheme=bfv, size=2/2, ?>, <Pyfhel Ciphertext at 0x7c4150a12700, scheme=bfv, size=2/2, ?>, <Pyfhel Ciphertext at 0x7c4150a12750, scheme=bfv, size=2/2, ?>, <Pyfhel Ciphertext at 0x7c4150a127a0, scheme=bfv, size=2/2, ?>, <Pyfhel Ciphertext at 0x7c4150a127f0, scheme=bfv, size=2/2, ?>, <Pyfhel Ciphertext at 0x7c4150a12840, scheme=bfv, size=2/2, ?>, <Pyfhel Ciphertext at 0x7c4150a12890, scheme=bfv, size=2/2, ?>, <Pyfhel Ciphertext at 0x7c4150a128e0, scheme=bfv, size=2/2, ?>, <Pyfhel Ciphertext at 0x7c4150a12930, scheme=bfv, size=2/2, ?>, <Pyfhel Ciphertext at 0x7c4150a12980, scheme=bfv, size=2/2, ?>, <Pyfhel Ciphertext at 0x7c4150a129d0, scheme=bfv, size=2/2, ?>, <Pyfhel Ciphertext at 0x7c4150a12a20, scheme=bfv, size=2/2, ?>, <Pyfhel Ciphertext at 0x7c4150a12b10, scheme=bfv, size=2/2, ?>, <Pyfhel Ciphertext at 0x7c4150a12a70, scheme=bfv, size=2/2, ?>, <Pyfhel Ciphertext at 0x7c4150a12ac0, scheme=bfv, size=2/2, ?>, <Pyfhel Ciphertext at 0x7c4150a12b60, scheme=bfv, size=2/2, ?>, <Pyfhel Ciphertext at 0x7c4150a12bb0, scheme=bfv, size=2/2, ?>, <Pyfhel Ciphertext at 0x7c4150a12c00, scheme=bfv, size=2/2, ?>, <Pyfhel Ciphertext at 0x7c4150a12c50, scheme=bfv, size=2/2, ?>, <Pyfhel Ciphertext at 0x7c4150a12ca0, scheme=bfv, size=2/2, ?>, <Pyfhel Ciphertext at 0x7c4150a12cf0, scheme=bfv, size=2/2, ?>, <Pyfhel Ciphertext at 0x7c4150a12d40, scheme=bfv, size=2/2, ?>, <Pyfhel Ciphertext at 0x7c4150a12d90, scheme=bfv, size=2/2, ?>, <Pyfhel Ciphertext at 0x7c4150a12de0, scheme=bfv, size=2/2, ?>, <Pyfhel Ciphertext at 0x7c4150a12e30, scheme=bfv, size=2/2, ?>, <Pyfhel Ciphertext at 0x7c4150a12e80, scheme=bfv, size=2/2, ?>, <Pyfhel Ciphertext at 0x7c4150a12ed0, scheme=bfv, size=2/2, ?>, <Pyfhel Ciphertext at 0x7c4150a12f20, scheme=bfv, size=2/2, ?>, <Pyfhel Ciphertext at 0x7c4150a12f70, scheme=bfv, size=2/2, ?>, <Pyfhel Ciphertext at 0x7c4150a12fc0, scheme=bfv, size=2/2, ?>, <Pyfhel Ciphertext at 0x7c4150a13010, scheme=bfv, size=2/2, ?>, <Pyfhel Ciphertext at 0x7c4150a13060, scheme=bfv, size=2/2, ?>, <Pyfhel Ciphertext at 0x7c4150a130b0, scheme=bfv, size=2/2, ?>, <Pyfhel Ciphertext at 0x7c4150a13100, scheme=bfv, size=2/2, ?>, <Pyfhel Ciphertext at 0x7c4150a13150, scheme=bfv, size=2/2, ?>, <Pyfhel Ciphertext at 0x7c4150a131a0, scheme=bfv, size=2/2, ?>, <Pyfhel Ciphertext at 0x7c4150a131f0, scheme=bfv, size=2/2, ?>, <Pyfhel Ciphertext at 0x7c4150a13240, scheme=bfv, size=2/2, ?>, <Pyfhel Ciphertext at 0x7c4150a13290, scheme=bfv, size=2/2, ?>, <Pyfhel Ciphertext at 0x7c4150a132e0, scheme=bfv, size=2/2, ?>, <Pyfhel Ciphertext at 0x7c4150a13330, scheme=bfv, size=2/2, ?>, <Pyfhel Ciphertext at 0x7c4150a13380, scheme=bfv, size=2/2, ?>, <Pyfhel Ciphertext at 0x7c4150a133d0, scheme=bfv, size=2/2, ?>, <Pyfhel Ciphertext at 0x7c4150a13420, scheme=bfv, size=2/2, ?>, <Pyfhel Ciphertext at 0x7c4150a13470, scheme=bfv, size=2/2, ?>, <Pyfhel Ciphertext at 0x7c4150a134c0, scheme=bfv, size=2/2, ?>, <Pyfhel Ciphertext at 0x7c4150a13510, scheme=bfv, size=2/2, ?>, <Pyfhel Ciphertext at 0x7c4150a13560, scheme=bfv, size=2/2, ?>, <Pyfhel Ciphertext at 0x7c4150a135b0, scheme=bfv, size=2/2, ?>, <Pyfhel Ciphertext at 0x7c4150a13600, scheme=bfv, size=2/2, ?>, <Pyfhel Ciphertext at 0x7c4150a13650, scheme=bfv, size=2/2, ?>, <Pyfhel Ciphertext at 0x7c4150a136a0, scheme=bfv, size=2/2, ?>, <Pyfhel Ciphertext at 0x7c4150a136f0, scheme=bfv, size=2/2, ?>, <Pyfhel Ciphertext at 0x7c4150a13740, scheme=bfv, size=2/2, ?>, <Pyfhel Ciphertext at 0x7c4150a13830, scheme=bfv, size=2/2, ?>, <Pyfhel Ciphertext at 0x7c4150a137e0, scheme=bfv, size=2/2, ?>, <Pyfhel Ciphertext at 0x7c4150a13790, scheme=bfv, size=2/2, ?>, <Pyfhel Ciphertext at 0x7c4150a112b0, scheme=bfv, size=2/2, ?>, <Pyfhel Ciphertext at 0x7c4150a13880, scheme=bfv, size=2/2, ?>, <Pyfhel Ciphertext at 0x7c4150a13920, scheme=bfv, size=2/2, ?>, <Pyfhel Ciphertext at 0x7c4150a138d0, scheme=bfv, size=2/2, ?>, <Pyfhel Ciphertext at 0x7c4150a13970, scheme=bfv, size=2/2, ?>, <Pyfhel Ciphertext at 0x7c4150a139c0, scheme=bfv, size=2/2, ?>, <Pyfhel Ciphertext at 0x7c4150a13a10, scheme=bfv, size=2/2, ?>, <Pyfhel Ciphertext at 0x7c4150a13a60, scheme=bfv, size=2/2, ?>, <Pyfhel Ciphertext at 0x7c4150a13ab0, scheme=bfv, size=2/2, ?>, <Pyfhel Ciphertext at 0x7c4150a13b00, scheme=bfv, size=2/2, ?>, <Pyfhel Ciphertext at 0x7c4150a13b50, scheme=bfv, size=2/2, ?>, <Pyfhel Ciphertext at 0x7c4150a13ba0, scheme=bfv, size=2/2, ?>, <Pyfhel Ciphertext at 0x7c4150a13bf0, scheme=bfv, size=2/2, ?>, <Pyfhel Ciphertext at 0x7c4150a13c40, scheme=bfv, size=2/2, ?>, <Pyfhel Ciphertext at 0x7c4150a13c90, scheme=bfv, size=2/2, ?>, <Pyfhel Ciphertext at 0x7c4150a13ce0, scheme=bfv, size=2/2, ?>, <Pyfhel Ciphertext at 0x7c4150a13d30, scheme=bfv, size=2/2, ?>, <Pyfhel Ciphertext at 0x7c4150a13d80, scheme=bfv, size=2/2, ?>, <Pyfhel Ciphertext at 0x7c4150a13dd0, scheme=bfv, size=2/2, ?>, <Pyfhel Ciphertext at 0x7c4150a13e20, scheme=bfv, size=2/2, ?>, <Pyfhel Ciphertext at 0x7c4150a13e70, scheme=bfv, size=2/2, ?>, <Pyfhel Ciphertext at 0x7c4150a13ec0, scheme=bfv, size=2/2, ?>, <Pyfhel Ciphertext at 0x7c4150a13f10, scheme=bfv, size=2/2, ?>, <Pyfhel Ciphertext at 0x7c4150a13f60, scheme=bfv, size=2/2, ?>, <Pyfhel Ciphertext at 0x7c4150a13fb0, scheme=bfv, size=2/2, ?>, <Pyfhel Ciphertext at 0x7c4150a14040, scheme=bfv, size=2/2, ?>, <Pyfhel Ciphertext at 0x7c4150a14090, scheme=bfv, size=2/2, ?>, <Pyfhel Ciphertext at 0x7c4150a140e0, scheme=bfv, size=2/2, ?>, <Pyfhel Ciphertext at 0x7c4150a14130, scheme=bfv, size=2/2, ?>, <Pyfhel Ciphertext at 0x7c4150a14180, scheme=bfv, size=2/2, ?>, <Pyfhel Ciphertext at 0x7c4150a141d0, scheme=bfv, size=2/2, ?>, <Pyfhel Ciphertext at 0x7c4150a14220, scheme=bfv, size=2/2, ?>, <Pyfhel Ciphertext at 0x7c4150a14270, scheme=bfv, size=2/2, ?>, <Pyfhel Ciphertext at 0x7c4150a142c0, scheme=bfv, size=2/2, ?>, <Pyfhel Ciphertext at 0x7c4150a143b0, scheme=bfv, size=2/2, ?>, <Pyfhel Ciphertext at 0x7c4150a14310, scheme=bfv, size=2/2, ?>, <Pyfhel Ciphertext at 0x7c4150a14360, scheme=bfv, size=2/2, ?>, <Pyfhel Ciphertext at 0x7c4150a14400, scheme=bfv, size=2/2, ?>, <Pyfhel Ciphertext at 0x7c4150a14450, scheme=bfv, size=2/2, ?>, <Pyfhel Ciphertext at 0x7c4150a144a0, scheme=bfv, size=2/2, ?>, <Pyfhel Ciphertext at 0x7c4150a144f0, scheme=bfv, size=2/2, ?>, <Pyfhel Ciphertext at 0x7c4150a14540, scheme=bfv, size=2/2, ?>, <Pyfhel Ciphertext at 0x7c4150a14590, scheme=bfv, size=2/2, ?>, <Pyfhel Ciphertext at 0x7c4150a145e0, scheme=bfv, size=2/2, ?>, <Pyfhel Ciphertext at 0x7c4150a14630, scheme=bfv, size=2/2, ?>, <Pyfhel Ciphertext at 0x7c4150a14680, scheme=bfv, size=2/2, ?>, <Pyfhel Ciphertext at 0x7c4150a146d0, scheme=bfv, size=2/2, ?>, <Pyfhel Ciphertext at 0x7c4150a14720, scheme=bfv, size=2/2, ?>, <Pyfhel Ciphertext at 0x7c4150a14770, scheme=bfv, size=2/2, ?>, <Pyfhel Ciphertext at 0x7c4150a147c0, scheme=bfv, size=2/2, ?>, <Pyfhel Ciphertext at 0x7c4150a14810, scheme=bfv, size=2/2, ?>, <Pyfhel Ciphertext at 0x7c4150a14860, scheme=bfv, size=2/2, ?>, <Pyfhel Ciphertext at 0x7c4150a148b0, scheme=bfv, size=2/2, ?>, <Pyfhel Ciphertext at 0x7c4150a14900, scheme=bfv, size=2/2, ?>, <Pyfhel Ciphertext at 0x7c4150a14950, scheme=bfv, size=2/2, ?>, <Pyfhel Ciphertext at 0x7c4150a149a0, scheme=bfv, size=2/2, ?>, <Pyfhel Ciphertext at 0x7c4150a149f0, scheme=bfv, size=2/2, ?>, <Pyfhel Ciphertext at 0x7c4150a14a40, scheme=bfv, size=2/2, ?>, <Pyfhel Ciphertext at 0x7c4150a14a90, scheme=bfv, size=2/2, ?>, <Pyfhel Ciphertext at 0x7c4150a14ae0, scheme=bfv, size=2/2, ?>, <Pyfhel Ciphertext at 0x7c4150a14b30, scheme=bfv, size=2/2, ?>, <Pyfhel Ciphertext at 0x7c4150a14b80, scheme=bfv, size=2/2, ?>, <Pyfhel Ciphertext at 0x7c4150a14bd0, scheme=bfv, size=2/2, ?>, <Pyfhel Ciphertext at 0x7c4150a14c20, scheme=bfv, size=2/2, ?>, <Pyfhel Ciphertext at 0x7c4150a14c70, scheme=bfv, size=2/2, ?>, <Pyfhel Ciphertext at 0x7c4150a14cc0, scheme=bfv, size=2/2, ?>, <Pyfhel Ciphertext at 0x7c4150a14d10, scheme=bfv, size=2/2, ?>, <Pyfhel Ciphertext at 0x7c4150a14d60, scheme=bfv, size=2/2, ?>, <Pyfhel Ciphertext at 0x7c4150a14db0, scheme=bfv, size=2/2, ?>, <Pyfhel Ciphertext at 0x7c4150a14e00, scheme=bfv, size=2/2, ?>, <Pyfhel Ciphertext at 0x7c4150a14e50, scheme=bfv, size=2/2, ?>, <Pyfhel Ciphertext at 0x7c4150a14ea0, scheme=bfv, size=2/2, ?>, <Pyfhel Ciphertext at 0x7c4150a14f40, scheme=bfv, size=2/2, ?>, <Pyfhel Ciphertext at 0x7c4150a14ef0, scheme=bfv, size=2/2, ?>, <Pyfhel Ciphertext at 0x7c4150a14f90, scheme=bfv, size=2/2, ?>, <Pyfhel Ciphertext at 0x7c4150a14fe0, scheme=bfv, size=2/2, ?>, <Pyfhel Ciphertext at 0x7c41509f5030, scheme=bfv, size=2/2, ?>, <Pyfhel Ciphertext at 0x7c4150a15080, scheme=bfv, size=2/2, ?>, <Pyfhel Ciphertext at 0x7c4150a150d0, scheme=bfv, size=2/2, ?>, <Pyfhel Ciphertext at 0x7c4150a15120, scheme=bfv, size=2/2, ?>, <Pyfhel Ciphertext at 0x7c4150a15170, scheme=bfv, size=2/2, ?>, <Pyfhel Ciphertext at 0x7c4150a151c0, scheme=bfv, size=2/2, ?>, <Pyfhel Ciphertext at 0x7c4150a15260, scheme=bfv, size=2/2, ?>, <Pyfhel Ciphertext at 0x7c4150a15210, scheme=bfv, size=2/2, ?>, <Pyfhel Ciphertext at 0x7c4150a152b0, scheme=bfv, size=2/2, ?>, <Pyfhel Ciphertext at 0x7c4150a15300, scheme=bfv, size=2/2, ?>, <Pyfhel Ciphertext at 0x7c4150a15350, scheme=bfv, size=2/2, ?>, <Pyfhel Ciphertext at 0x7c4150a153a0, scheme=bfv, size=2/2, ?>, <Pyfhel Ciphertext at 0x7c4150a153f0, scheme=bfv, size=2/2, ?>, <Pyfhel Ciphertext at 0x7c4150a15440, scheme=bfv, size=2/2, ?>, <Pyfhel Ciphertext at 0x7c4150a15490, scheme=bfv, size=2/2, ?>, <Pyfhel Ciphertext at 0x7c4150a154e0, scheme=bfv, size=2/2, ?>, <Pyfhel Ciphertext at 0x7c4150a15530, scheme=bfv, size=2/2, ?>, <Pyfhel Ciphertext at 0x7c4150a15580, scheme=bfv, size=2/2, ?>, <Pyfhel Ciphertext at 0x7c4150a155d0, scheme=bfv, size=2/2, ?>, <Pyfhel Ciphertext at 0x7c4150a15620, scheme=bfv, size=2/2, ?>, <Pyfhel Ciphertext at 0x7c4150a15670, scheme=bfv, size=2/2, ?>, <Pyfhel Ciphertext at 0x7c4150a156c0, scheme=bfv, size=2/2, ?>, <Pyfhel Ciphertext at 0x7c4150a15710, scheme=bfv, size=2/2, ?>, <Pyfhel Ciphertext at 0x7c4150a15760, scheme=bfv, size=2/2, ?>, <Pyfhel Ciphertext at 0x7c4150a157b0, scheme=bfv, size=2/2, ?>, <Pyfhel Ciphertext at 0x7c4150a15800, scheme=bfv, size=2/2, ?>, <Pyfhel Ciphertext at 0x7c4150a15850, scheme=bfv, size=2/2, ?>, <Pyfhel Ciphertext at 0x7c4150a158a0, scheme=bfv, size=2/2, ?>, <Pyfhel Ciphertext at 0x7c4150a158f0, scheme=bfv, size=2/2, ?>, <Pyfhel Ciphertext at 0x7c4150a15940, scheme=bfv, size=2/2, ?>, <Pyfhel Ciphertext at 0x7c4150a15990, scheme=bfv, size=2/2, ?>, <Pyfhel Ciphertext at 0x7c4150a159e0, scheme=bfv, size=2/2, ?>, <Pyfhel Ciphertext at 0x7c4150a15a30, scheme=bfv, size=2/2, ?>, <Pyfhel Ciphertext at 0x7c4150a15b20, scheme=bfv, size=2/2, ?>, <Pyfhel Ciphertext at 0x7c4150a15a80, scheme=bfv, size=2/2, ?>, <Pyfhel Ciphertext at 0x7c4150a15ad0, scheme=bfv, size=2/2, ?>, <Pyfhel Ciphertext at 0x7c4150a15b70, scheme=bfv, size=2/2, ?>, <Pyfhel Ciphertext at 0x7c4150a15bc0, scheme=bfv, size=2/2, ?>, <Pyfhel Ciphertext at 0x7c4150a15c10, scheme=bfv, size=2/2, ?>, <Pyfhel Ciphertext at 0x7c4150a15c60, scheme=bfv, size=2/2, ?>, <Pyfhel Ciphertext at 0x7c4150a15cb0, scheme=bfv, size=2/2, ?>, <Pyfhel Ciphertext at 0x7c4150a15d00, scheme=bfv, size=2/2, ?>, <Pyfhel Ciphertext at 0x7c4150a15d50, scheme=bfv, size=2/2, ?>, <Pyfhel Ciphertext at 0x7c4150a15da0, scheme=bfv, size=2/2, ?>, <Pyfhel Ciphertext at 0x7c4150a15df0, scheme=bfv, size=2/2, ?>, <Pyfhel Ciphertext at 0x7c4150a15e40, scheme=bfv, size=2/2, ?>, <Pyfhel Ciphertext at 0x7c4150a15e90, scheme=bfv, size=2/2, ?>, <Pyfhel Ciphertext at 0x7c4150a15ee0, scheme=bfv, size=2/2, ?>, <Pyfhel Ciphertext at 0x7c4150a15f30, scheme=bfv, size=2/2, ?>, <Pyfhel Ciphertext at 0x7c4150a15f80, scheme=bfv, size=2/2, ?>, <Pyfhel Ciphertext at 0x7c4150a15fd0, scheme=bfv, size=2/2, ?>, <Pyfhel Ciphertext at 0x7c4150a16020, scheme=bfv, size=2/2, ?>, <Pyfhel Ciphertext at 0x7c4150a16070, scheme=bfv, size=2/2, ?>, <Pyfhel Ciphertext at 0x7c4150a160c0, scheme=bfv, size=2/2, ?>, <Pyfhel Ciphertext at 0x7c4150a16110, scheme=bfv, size=2/2, ?>, <Pyfhel Ciphertext at 0x7c4150a16160, scheme=bfv, size=2/2, ?>, <Pyfhel Ciphertext at 0x7c4150a161b0, scheme=bfv, size=2/2, ?>, <Pyfhel Ciphertext at 0x7c4150a16200, scheme=bfv, size=2/2, ?>, <Pyfhel Ciphertext at 0x7c4150a16250, scheme=bfv, size=2/2, ?>, <Pyfhel Ciphertext at 0x7c4150a162a0, scheme=bfv, size=2/2, ?>, <Pyfhel Ciphertext at 0x7c4150a162f0, scheme=bfv, size=2/2, ?>, <Pyfhel Ciphertext at 0x7c4150a16340, scheme=bfv, size=2/2, ?>, <Pyfhel Ciphertext at 0x7c4150a16390, scheme=bfv, size=2/2, ?>, <Pyfhel Ciphertext at 0x7c4150a163e0, scheme=bfv, size=2/2, ?>, <Pyfhel Ciphertext at 0x7c4150a16430, scheme=bfv, size=2/2, ?>, <Pyfhel Ciphertext at 0x7c4150a16480, scheme=bfv, size=2/2, ?>, <Pyfhel Ciphertext at 0x7c4150a164d0, scheme=bfv, size=2/2, ?>, <Pyfhel Ciphertext at 0x7c4150a16520, scheme=bfv, size=2/2, ?>, <Pyfhel Ciphertext at 0x7c4150a16570, scheme=bfv, size=2/2, ?>, <Pyfhel Ciphertext at 0x7c4150a165c0, scheme=bfv, size=2/2, ?>, <Pyfhel Ciphertext at 0x7c4150a16610, scheme=bfv, size=2/2, ?>, <Pyfhel Ciphertext at 0x7c4150a166b0, scheme=bfv, size=2/2, ?>, <Pyfhel Ciphertext at 0x7c4150a16700, scheme=bfv, size=2/2, ?>, <Pyfhel Ciphertext at 0x7c4150a16750, scheme=bfv, size=2/2, ?>, <Pyfhel Ciphertext at 0x7c4150a16660, scheme=bfv, size=2/2, ?>, <Pyfhel Ciphertext at 0x7c4150a167a0, scheme=bfv, size=2/2, ?>, <Pyfhel Ciphertext at 0x7c4150a167f0, scheme=bfv, size=2/2, ?>, <Pyfhel Ciphertext at 0x7c4150a16840, scheme=bfv, size=2/2, ?>, <Pyfhel Ciphertext at 0x7c4150a16930, scheme=bfv, size=2/2, ?>, <Pyfhel Ciphertext at 0x7c4150a169d0, scheme=bfv, size=2/2, ?>, <Pyfhel Ciphertext at 0x7c4150a16980, scheme=bfv, size=2/2, ?>, <Pyfhel Ciphertext at 0x7c4150a168e0, scheme=bfv, size=2/2, ?>, <Pyfhel Ciphertext at 0x7c4150a16a20, scheme=bfv, size=2/2, ?>, <Pyfhel Ciphertext at 0x7c4150a16a70, scheme=bfv, size=2/2, ?>, <Pyfhel Ciphertext at 0x7c4150a16b10, scheme=bfv, size=2/2, ?>, <Pyfhel Ciphertext at 0x7c4150a16ac0, scheme=bfv, size=2/2, ?>, <Pyfhel Ciphertext at 0x7c4150a16b60, scheme=bfv, size=2/2, ?>, <Pyfhel Ciphertext at 0x7c4150a16bb0, scheme=bfv, size=2/2, ?>, <Pyfhel Ciphertext at 0x7c4150a16c00, scheme=bfv, size=2/2, ?>, <Pyfhel Ciphertext at 0x7c4150a16c50, scheme=bfv, size=2/2, ?>, <Pyfhel Ciphertext at 0x7c4150a16ca0, scheme=bfv, size=2/2, ?>, <Pyfhel Ciphertext at 0x7c4150a16cf0, scheme=bfv, size=2/2, ?>, <Pyfhel Ciphertext at 0x7c4150a16d40, scheme=bfv, size=2/2, ?>, <Pyfhel Ciphertext at 0x7c4150a16d90, scheme=bfv, size=2/2, ?>, <Pyfhel Ciphertext at 0x7c4150a16de0, scheme=bfv, size=2/2, ?>, <Pyfhel Ciphertext at 0x7c4150a16e30, scheme=bfv, size=2/2, ?>, <Pyfhel Ciphertext at 0x7c4150a16e80, scheme=bfv, size=2/2, ?>, <Pyfhel Ciphertext at 0x7c4150a16ed0, scheme=bfv, size=2/2, ?>, <Pyfhel Ciphertext at 0x7c4150a16f20, scheme=bfv, size=2/2, ?>, <Pyfhel Ciphertext at 0x7c4150a16f70, scheme=bfv, size=2/2, ?>, <Pyfhel Ciphertext at 0x7c4150a16fc0, scheme=bfv, size=2/2, ?>, <Pyfhel Ciphertext at 0x7c4150a17010, scheme=bfv, size=2/2, ?>, <Pyfhel Ciphertext at 0x7c4150a17060, scheme=bfv, size=2/2, ?>, <Pyfhel Ciphertext at 0x7c4150a170b0, scheme=bfv, size=2/2, ?>, <Pyfhel Ciphertext at 0x7c4150a17100, scheme=bfv, size=2/2, ?>, <Pyfhel Ciphertext at 0x7c4150a17150, scheme=bfv, size=2/2, ?>, <Pyfhel Ciphertext at 0x7c4150a171a0, scheme=bfv, size=2/2, ?>, <Pyfhel Ciphertext at 0x7c4150a171f0, scheme=bfv, size=2/2, ?>, <Pyfhel Ciphertext at 0x7c4150a17240, scheme=bfv, size=2/2, ?>, <Pyfhel Ciphertext at 0x7c4150a17290, scheme=bfv, size=2/2, ?>, <Pyfhel Ciphertext at 0x7c4150a17330, scheme=bfv, size=2/2, ?>, <Pyfhel Ciphertext at 0x7c4150a172e0, scheme=bfv, size=2/2, ?>, <Pyfhel Ciphertext at 0x7c4150a173d0, scheme=bfv, size=2/2, ?>, <Pyfhel Ciphertext at 0x7c4150a17380, scheme=bfv, size=2/2, ?>, <Pyfhel Ciphertext at 0x7c4150a17420, scheme=bfv, size=2/2, ?>, <Pyfhel Ciphertext at 0x7c4150a17470, scheme=bfv, size=2/2, ?>, <Pyfhel Ciphertext at 0x7c4150a174c0, scheme=bfv, size=2/2, ?>, <Pyfhel Ciphertext at 0x7c4150a17510, scheme=bfv, size=2/2, ?>, <Pyfhel Ciphertext at 0x7c4150a17560, scheme=bfv, size=2/2, ?>, <Pyfhel Ciphertext at 0x7c4150a175b0, scheme=bfv, size=2/2, ?>, <Pyfhel Ciphertext at 0x7c4150a17600, scheme=bfv, size=2/2, ?>, <Pyfhel Ciphertext at 0x7c4150a17650, scheme=bfv, size=2/2, ?>, <Pyfhel Ciphertext at 0x7c4150a176a0, scheme=bfv, size=2/2, ?>, <Pyfhel Ciphertext at 0x7c4150a176f0, scheme=bfv, size=2/2, ?>, <Pyfhel Ciphertext at 0x7c4150a17740, scheme=bfv, size=2/2, ?>, <Pyfhel Ciphertext at 0x7c4150a17790, scheme=bfv, size=2/2, ?>, <Pyfhel Ciphertext at 0x7c4150a177e0, scheme=bfv, size=2/2, ?>, <Pyfhel Ciphertext at 0x7c4150a17830, scheme=bfv, size=2/2, ?>, <Pyfhel Ciphertext at 0x7c4150a17880, scheme=bfv, size=2/2, ?>, <Pyfhel Ciphertext at 0x7c4150a178d0, scheme=bfv, size=2/2, ?>, <Pyfhel Ciphertext at 0x7c4150a17920, scheme=bfv, size=2/2, ?>, <Pyfhel Ciphertext at 0x7c4150a17970, scheme=bfv, size=2/2, ?>, <Pyfhel Ciphertext at 0x7c4150a179c0, scheme=bfv, size=2/2, ?>, <Pyfhel Ciphertext at 0x7c4150a17a10, scheme=bfv, size=2/2, ?>, <Pyfhel Ciphertext at 0x7c4150a17a60, scheme=bfv, size=2/2, ?>, <Pyfhel Ciphertext at 0x7c4150a17ab0, scheme=bfv, size=2/2, ?>, <Pyfhel Ciphertext at 0x7c4150a17b00, scheme=bfv, size=2/2, ?>, <Pyfhel Ciphertext at 0x7c4150a17b50, scheme=bfv, size=2/2, ?>, <Pyfhel Ciphertext at 0x7c4150a17ba0, scheme=bfv, size=2/2, ?>, <Pyfhel Ciphertext at 0x7c4150a17bf0, scheme=bfv, size=2/2, ?>, <Pyfhel Ciphertext at 0x7c4150a17c40, scheme=bfv, size=2/2, ?>, <Pyfhel Ciphertext at 0x7c4150a17c90, scheme=bfv, size=2/2, ?>, <Pyfhel Ciphertext at 0x7c4150a17ce0, scheme=bfv, size=2/2, ?>, <Pyfhel Ciphertext at 0x7c4150a17d30, scheme=bfv, size=2/2, ?>, <Pyfhel Ciphertext at 0x7c4150a17d80, scheme=bfv, size=2/2, ?>, <Pyfhel Ciphertext at 0x7c4150a17dd0, scheme=bfv, size=2/2, ?>, <Pyfhel Ciphertext at 0x7c4150a17e20, scheme=bfv, size=2/2, ?>, <Pyfhel Ciphertext at 0x7c4150a17e70, scheme=bfv, size=2/2, ?>, <Pyfhel Ciphertext at 0x7c4150a17ec0, scheme=bfv, size=2/2, ?>, <Pyfhel Ciphertext at 0x7c4150a17f60, scheme=bfv, size=2/2, ?>, <Pyfhel Ciphertext at 0x7c4150a17f10, scheme=bfv, size=2/2, ?>, <Pyfhel Ciphertext at 0x7c4150a17fb0, scheme=bfv, size=2/2, ?>, <Pyfhel Ciphertext at 0x7c4150a08040, scheme=bfv, size=2/2, ?>, <Pyfhel Ciphertext at 0x7c4150a08090, scheme=bfv, size=2/2, ?>, <Pyfhel Ciphertext at 0x7c4150a080e0, scheme=bfv, size=2/2, ?>, <Pyfhel Ciphertext at 0x7c4150a08130, scheme=bfv, size=2/2, ?>, <Pyfhel Ciphertext at 0x7c4150a08220, scheme=bfv, size=2/2, ?>, <Pyfhel Ciphertext at 0x7c4150a082c0, scheme=bfv, size=2/2, ?>, <Pyfhel Ciphertext at 0x7c4150a08270, scheme=bfv, size=2/2, ?>, <Pyfhel Ciphertext at 0x7c4150a081d0, scheme=bfv, size=2/2, ?>, <Pyfhel Ciphertext at 0x7c4150a08310, scheme=bfv, size=2/2, ?>, <Pyfhel Ciphertext at 0x7c4150a08360, scheme=bfv, size=2/2, ?>, <Pyfhel Ciphertext at 0x7c4150a08400, scheme=bfv, size=2/2, ?>, <Pyfhel Ciphertext at 0x7c4150a083b0, scheme=bfv, size=2/2, ?>, <Pyfhel Ciphertext at 0x7c4150a08450, scheme=bfv, size=2/2, ?>, <Pyfhel Ciphertext at 0x7c4150a084a0, scheme=bfv, size=2/2, ?>, <Pyfhel Ciphertext at 0x7c4150a084f0, scheme=bfv, size=2/2, ?>, <Pyfhel Ciphertext at 0x7c4150a08540, scheme=bfv, size=2/2, ?>, <Pyfhel Ciphertext at 0x7c4150a08590, scheme=bfv, size=2/2, ?>, <Pyfhel Ciphertext at 0x7c4150a085e0, scheme=bfv, size=2/2, ?>, <Pyfhel Ciphertext at 0x7c4150a08630, scheme=bfv, size=2/2, ?>, <Pyfhel Ciphertext at 0x7c4150a08680, scheme=bfv, size=2/2, ?>, <Pyfhel Ciphertext at 0x7c4150a086d0, scheme=bfv, size=2/2, ?>, <Pyfhel Ciphertext at 0x7c4150a08720, scheme=bfv, size=2/2, ?>, <Pyfhel Ciphertext at 0x7c4150a08770, scheme=bfv, size=2/2, ?>, <Pyfhel Ciphertext at 0x7c4150a087c0, scheme=bfv, size=2/2, ?>, <Pyfhel Ciphertext at 0x7c4150a08810, scheme=bfv, size=2/2, ?>, <Pyfhel Ciphertext at 0x7c4150a08860, scheme=bfv, size=2/2, ?>, <Pyfhel Ciphertext at 0x7c4150a088b0, scheme=bfv, size=2/2, ?>, <Pyfhel Ciphertext at 0x7c4150a08900, scheme=bfv, size=2/2, ?>, <Pyfhel Ciphertext at 0x7c4150a08950, scheme=bfv, size=2/2, ?>, <Pyfhel Ciphertext at 0x7c4150a089a0, scheme=bfv, size=2/2, ?>, <Pyfhel Ciphertext at 0x7c4150a089f0, scheme=bfv, size=2/2, ?>, <Pyfhel Ciphertext at 0x7c4150a08a40, scheme=bfv, size=2/2, ?>, <Pyfhel Ciphertext at 0x7c4150a08a90, scheme=bfv, size=2/2, ?>, <Pyfhel Ciphertext at 0x7c4150a08ae0, scheme=bfv, size=2/2, ?>, <Pyfhel Ciphertext at 0x7c4150a08b30, scheme=bfv, size=2/2, ?>, <Pyfhel Ciphertext at 0x7c4150a08b80, scheme=bfv, size=2/2, ?>, <Pyfhel Ciphertext at 0x7c4150a08c20, scheme=bfv, size=2/2, ?>, <Pyfhel Ciphertext at 0x7c4150a08bd0, scheme=bfv, size=2/2, ?>, <Pyfhel Ciphertext at 0x7c4150a08cc0, scheme=bfv, size=2/2, ?>, <Pyfhel Ciphertext at 0x7c4150a08c70, scheme=bfv, size=2/2, ?>, <Pyfhel Ciphertext at 0x7c4150a08d10, scheme=bfv, size=2/2, ?>, <Pyfhel Ciphertext at 0x7c4150a08d60, scheme=bfv, size=2/2, ?>, <Pyfhel Ciphertext at 0x7c4150a08db0, scheme=bfv, size=2/2, ?>, <Pyfhel Ciphertext at 0x7c4150a08e00, scheme=bfv, size=2/2, ?>, <Pyfhel Ciphertext at 0x7c4150a08e50, scheme=bfv, size=2/2, ?>, <Pyfhel Ciphertext at 0x7c4150a08ea0, scheme=bfv, size=2/2, ?>, <Pyfhel Ciphertext at 0x7c4150a08ef0, scheme=bfv, size=2/2, ?>, <Pyfhel Ciphertext at 0x7c4150a08f40, scheme=bfv, size=2/2, ?>, <Pyfhel Ciphertext at 0x7c4150a08f90, scheme=bfv, size=2/2, ?>, <Pyfhel Ciphertext at 0x7c4150a08fe0, scheme=bfv, size=2/2, ?>, <Pyfhel Ciphertext at 0x7c4150a09030, scheme=bfv, size=2/2, ?>, <Pyfhel Ciphertext at 0x7c4150a09080, scheme=bfv, size=2/2, ?>, <Pyfhel Ciphertext at 0x7c4150a090d0, scheme=bfv, size=2/2, ?>, <Pyfhel Ciphertext at 0x7c4150a09120, scheme=bfv, size=2/2, ?>, <Pyfhel Ciphertext at 0x7c4150a09170, scheme=bfv, size=2/2, ?>, <Pyfhel Ciphertext at 0x7c4150a091c0, scheme=bfv, size=2/2, ?>, <Pyfhel Ciphertext at 0x7c4150a09210, scheme=bfv, size=2/2, ?>, <Pyfhel Ciphertext at 0x7c4150a09260, scheme=bfv, size=2/2, ?>, <Pyfhel Ciphertext at 0x7c4150a092b0, scheme=bfv, size=2/2, ?>, <Pyfhel Ciphertext at 0x7c4150a09300, scheme=bfv, size=2/2, ?>, <Pyfhel Ciphertext at 0x7c4150a09350, scheme=bfv, size=2/2, ?>, <Pyfhel Ciphertext at 0x7c4150a093a0, scheme=bfv, size=2/2, ?>, <Pyfhel Ciphertext at 0x7c4150a093f0, scheme=bfv, size=2/2, ?>, <Pyfhel Ciphertext at 0x7c4150a09440, scheme=bfv, size=2/2, ?>, <Pyfhel Ciphertext at 0x7c4150a09490, scheme=bfv, size=2/2, ?>, <Pyfhel Ciphertext at 0x7c4150a094e0, scheme=bfv, size=2/2, ?>, <Pyfhel Ciphertext at 0x7c4150a09530, scheme=bfv, size=2/2, ?>, <Pyfhel Ciphertext at 0x7c4150a09580, scheme=bfv, size=2/2, ?>, <Pyfhel Ciphertext at 0x7c4150a095d0, scheme=bfv, size=2/2, ?>, <Pyfhel Ciphertext at 0x7c4150a09620, scheme=bfv, size=2/2, ?>, <Pyfhel Ciphertext at 0x7c4150a09670, scheme=bfv, size=2/2, ?>, <Pyfhel Ciphertext at 0x7c4150a096c0, scheme=bfv, size=2/2, ?>, <Pyfhel Ciphertext at 0x7c4150a09710, scheme=bfv, size=2/2, ?>, <Pyfhel Ciphertext at 0x7c4150a09760, scheme=bfv, size=2/2, ?>, <Pyfhel Ciphertext at 0x7c4150a097b0, scheme=bfv, size=2/2, ?>, <Pyfhel Ciphertext at 0x7c4150a09850, scheme=bfv, size=2/2, ?>, <Pyfhel Ciphertext at 0x7c4150a098a0, scheme=bfv, size=2/2, ?>]\n"
          ]
        }
      ]
    }
  ],
  "metadata": {
    "colab": {
      "provenance": []
    },
    "kernelspec": {
      "display_name": "Python 3",
      "name": "python3"
    },
    "language_info": {
      "name": "python"
    }
  },
  "nbformat": 4,
  "nbformat_minor": 0
}